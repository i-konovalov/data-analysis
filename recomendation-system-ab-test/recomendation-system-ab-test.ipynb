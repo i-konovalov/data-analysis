{
 "cells": [
  {
   "cell_type": "markdown",
   "metadata": {},
   "source": [
    "# А/В-тестирование новой рекомендательной системы"
   ]
  },
  {
   "cell_type": "markdown",
   "metadata": {},
   "source": [
    "**Задача**: проверить результаты А/В-тестирования изменений, связанных с внедрением улучшенной рекомендательной системы."
   ]
  },
  {
   "cell_type": "markdown",
   "metadata": {},
   "source": [
    "**План**:\n",
    "\n",
    "1. Загрузить данные.\n",
    "2. Изучить основную информацию.\n",
    "3. Предобработать:\n",
    "    - изменить типы данных;\n",
    "    - обработать пропуски;\n",
    "    - удалить дубликаты;\n",
    "4. Отфильтровать данные:\n",
    "    - по региону;\n",
    "    - по датам;\n",
    "    - по названию теста.\n",
    "5. Исследовать данные при помощи визуализации.\n",
    "6. Подготовить к проверке гипотез:\n",
    "    - убедиться в корректном разделении групп.\n",
    "7. Проверить результаты А/В-теста при помощи статистических методов.\n",
    "8. Написать вывод."
   ]
  },
  {
   "cell_type": "code",
   "execution_count": 2,
   "metadata": {},
   "outputs": [
    {
     "name": "stderr",
     "output_type": "stream",
     "text": [
      "/opt/conda/lib/python3.7/site-packages/statsmodels/tools/_testing.py:19: FutureWarning: pandas.util.testing is deprecated. Use the functions in the public API at pandas.testing instead.\n",
      "  import pandas.util.testing as tm\n"
     ]
    }
   ],
   "source": [
    "# импортируем все необходимые для работы библиотеки\n",
    "import pandas as pd # для работы с данными\n",
    "import numpy as np # для работы с числами\n",
    "import seaborn as sns # для визуализации\n",
    "import matplotlib.pyplot as plt # для настройки визуализации\n",
    "from statsmodels.stats.proportion import proportions_ztest # для теста пропорций\n",
    "%matplotlib inline\n",
    "%config InlineBackend.figure_format='retina' # повышение четкости графиков\n",
    "plt.style.use('seaborn-darkgrid') # задаём стиль графиков"
   ]
  },
  {
   "cell_type": "markdown",
   "metadata": {},
   "source": [
    "## Изучаем данные"
   ]
  },
  {
   "cell_type": "code",
   "execution_count": 3,
   "metadata": {},
   "outputs": [],
   "source": [
    "marketing_events = pd.read_csv('ab_project_marketing_events.csv')\n",
    "new_users = pd.read_csv('final_ab_new_users.csv')\n",
    "events = pd.read_csv('final_ab_events.csv')\n",
    "participants = pd.read_csv('final_ab_participants.csv')"
   ]
  },
  {
   "cell_type": "markdown",
   "metadata": {},
   "source": [
    "Напишем функцию, которая будет возвращать результаты методов `info` и `describe`, первые 5 строк таблицы и информацию о дубликатах для каждой из 4 таблиц."
   ]
  },
  {
   "cell_type": "code",
   "execution_count": 4,
   "metadata": {},
   "outputs": [],
   "source": [
    "def info(dataframes):\n",
    "    '''\n",
    "    Для каждой таблицы возвращает результаты методов info() и describe(), первые 5 строк и информацию о дубликатах.\n",
    "    \n",
    "    Параметры:\n",
    "    dataframes (list) — список датафреймов, информацию о которых нужно вывести.\n",
    "    '''\n",
    "    for df in dataframes:\n",
    "        display(df.info())\n",
    "        display(df.head())\n",
    "        display(df.describe(include='all', datetime_is_numeric=True))\n",
    "        print('Duplicates:', df.duplicated().sum())\n",
    "        print(40*'-'+'\\n')"
   ]
  },
  {
   "cell_type": "markdown",
   "metadata": {},
   "source": [
    "Выведем информацию о датасетах."
   ]
  },
  {
   "cell_type": "code",
   "execution_count": 5,
   "metadata": {},
   "outputs": [],
   "source": [
    "datasets = [marketing_events, new_users, events, participants]"
   ]
  },
  {
   "cell_type": "code",
   "execution_count": 6,
   "metadata": {
    "scrolled": false
   },
   "outputs": [
    {
     "name": "stdout",
     "output_type": "stream",
     "text": [
      "<class 'pandas.core.frame.DataFrame'>\n",
      "RangeIndex: 14 entries, 0 to 13\n",
      "Data columns (total 4 columns):\n",
      " #   Column     Non-Null Count  Dtype \n",
      "---  ------     --------------  ----- \n",
      " 0   name       14 non-null     object\n",
      " 1   regions    14 non-null     object\n",
      " 2   start_dt   14 non-null     object\n",
      " 3   finish_dt  14 non-null     object\n",
      "dtypes: object(4)\n",
      "memory usage: 576.0+ bytes\n"
     ]
    },
    {
     "data": {
      "text/plain": [
       "None"
      ]
     },
     "metadata": {},
     "output_type": "display_data"
    },
    {
     "data": {
      "text/html": [
       "<div>\n",
       "<style scoped>\n",
       "    .dataframe tbody tr th:only-of-type {\n",
       "        vertical-align: middle;\n",
       "    }\n",
       "\n",
       "    .dataframe tbody tr th {\n",
       "        vertical-align: top;\n",
       "    }\n",
       "\n",
       "    .dataframe thead th {\n",
       "        text-align: right;\n",
       "    }\n",
       "</style>\n",
       "<table border=\"1\" class=\"dataframe\">\n",
       "  <thead>\n",
       "    <tr style=\"text-align: right;\">\n",
       "      <th></th>\n",
       "      <th>name</th>\n",
       "      <th>regions</th>\n",
       "      <th>start_dt</th>\n",
       "      <th>finish_dt</th>\n",
       "    </tr>\n",
       "  </thead>\n",
       "  <tbody>\n",
       "    <tr>\n",
       "      <th>0</th>\n",
       "      <td>Christmas&amp;New Year Promo</td>\n",
       "      <td>EU, N.America</td>\n",
       "      <td>2020-12-25</td>\n",
       "      <td>2021-01-03</td>\n",
       "    </tr>\n",
       "    <tr>\n",
       "      <th>1</th>\n",
       "      <td>St. Valentine's Day Giveaway</td>\n",
       "      <td>EU, CIS, APAC, N.America</td>\n",
       "      <td>2020-02-14</td>\n",
       "      <td>2020-02-16</td>\n",
       "    </tr>\n",
       "    <tr>\n",
       "      <th>2</th>\n",
       "      <td>St. Patric's Day Promo</td>\n",
       "      <td>EU, N.America</td>\n",
       "      <td>2020-03-17</td>\n",
       "      <td>2020-03-19</td>\n",
       "    </tr>\n",
       "    <tr>\n",
       "      <th>3</th>\n",
       "      <td>Easter Promo</td>\n",
       "      <td>EU, CIS, APAC, N.America</td>\n",
       "      <td>2020-04-12</td>\n",
       "      <td>2020-04-19</td>\n",
       "    </tr>\n",
       "    <tr>\n",
       "      <th>4</th>\n",
       "      <td>4th of July Promo</td>\n",
       "      <td>N.America</td>\n",
       "      <td>2020-07-04</td>\n",
       "      <td>2020-07-11</td>\n",
       "    </tr>\n",
       "  </tbody>\n",
       "</table>\n",
       "</div>"
      ],
      "text/plain": [
       "                           name                   regions    start_dt  \\\n",
       "0      Christmas&New Year Promo             EU, N.America  2020-12-25   \n",
       "1  St. Valentine's Day Giveaway  EU, CIS, APAC, N.America  2020-02-14   \n",
       "2        St. Patric's Day Promo             EU, N.America  2020-03-17   \n",
       "3                  Easter Promo  EU, CIS, APAC, N.America  2020-04-12   \n",
       "4             4th of July Promo                 N.America  2020-07-04   \n",
       "\n",
       "    finish_dt  \n",
       "0  2021-01-03  \n",
       "1  2020-02-16  \n",
       "2  2020-03-19  \n",
       "3  2020-04-19  \n",
       "4  2020-07-11  "
      ]
     },
     "metadata": {},
     "output_type": "display_data"
    },
    {
     "data": {
      "text/html": [
       "<div>\n",
       "<style scoped>\n",
       "    .dataframe tbody tr th:only-of-type {\n",
       "        vertical-align: middle;\n",
       "    }\n",
       "\n",
       "    .dataframe tbody tr th {\n",
       "        vertical-align: top;\n",
       "    }\n",
       "\n",
       "    .dataframe thead th {\n",
       "        text-align: right;\n",
       "    }\n",
       "</style>\n",
       "<table border=\"1\" class=\"dataframe\">\n",
       "  <thead>\n",
       "    <tr style=\"text-align: right;\">\n",
       "      <th></th>\n",
       "      <th>name</th>\n",
       "      <th>regions</th>\n",
       "      <th>start_dt</th>\n",
       "      <th>finish_dt</th>\n",
       "    </tr>\n",
       "  </thead>\n",
       "  <tbody>\n",
       "    <tr>\n",
       "      <th>count</th>\n",
       "      <td>14</td>\n",
       "      <td>14</td>\n",
       "      <td>14</td>\n",
       "      <td>14</td>\n",
       "    </tr>\n",
       "    <tr>\n",
       "      <th>unique</th>\n",
       "      <td>14</td>\n",
       "      <td>6</td>\n",
       "      <td>14</td>\n",
       "      <td>14</td>\n",
       "    </tr>\n",
       "    <tr>\n",
       "      <th>top</th>\n",
       "      <td>Christmas&amp;New Year Promo</td>\n",
       "      <td>APAC</td>\n",
       "      <td>2020-12-25</td>\n",
       "      <td>2021-01-03</td>\n",
       "    </tr>\n",
       "    <tr>\n",
       "      <th>freq</th>\n",
       "      <td>1</td>\n",
       "      <td>4</td>\n",
       "      <td>1</td>\n",
       "      <td>1</td>\n",
       "    </tr>\n",
       "  </tbody>\n",
       "</table>\n",
       "</div>"
      ],
      "text/plain": [
       "                            name regions    start_dt   finish_dt\n",
       "count                         14      14          14          14\n",
       "unique                        14       6          14          14\n",
       "top     Christmas&New Year Promo    APAC  2020-12-25  2021-01-03\n",
       "freq                           1       4           1           1"
      ]
     },
     "metadata": {},
     "output_type": "display_data"
    },
    {
     "name": "stdout",
     "output_type": "stream",
     "text": [
      "Duplicates: 0\n",
      "----------------------------------------\n",
      "\n",
      "<class 'pandas.core.frame.DataFrame'>\n",
      "RangeIndex: 61733 entries, 0 to 61732\n",
      "Data columns (total 4 columns):\n",
      " #   Column      Non-Null Count  Dtype \n",
      "---  ------      --------------  ----- \n",
      " 0   user_id     61733 non-null  object\n",
      " 1   first_date  61733 non-null  object\n",
      " 2   region      61733 non-null  object\n",
      " 3   device      61733 non-null  object\n",
      "dtypes: object(4)\n",
      "memory usage: 1.9+ MB\n"
     ]
    },
    {
     "data": {
      "text/plain": [
       "None"
      ]
     },
     "metadata": {},
     "output_type": "display_data"
    },
    {
     "data": {
      "text/html": [
       "<div>\n",
       "<style scoped>\n",
       "    .dataframe tbody tr th:only-of-type {\n",
       "        vertical-align: middle;\n",
       "    }\n",
       "\n",
       "    .dataframe tbody tr th {\n",
       "        vertical-align: top;\n",
       "    }\n",
       "\n",
       "    .dataframe thead th {\n",
       "        text-align: right;\n",
       "    }\n",
       "</style>\n",
       "<table border=\"1\" class=\"dataframe\">\n",
       "  <thead>\n",
       "    <tr style=\"text-align: right;\">\n",
       "      <th></th>\n",
       "      <th>user_id</th>\n",
       "      <th>first_date</th>\n",
       "      <th>region</th>\n",
       "      <th>device</th>\n",
       "    </tr>\n",
       "  </thead>\n",
       "  <tbody>\n",
       "    <tr>\n",
       "      <th>0</th>\n",
       "      <td>D72A72121175D8BE</td>\n",
       "      <td>2020-12-07</td>\n",
       "      <td>EU</td>\n",
       "      <td>PC</td>\n",
       "    </tr>\n",
       "    <tr>\n",
       "      <th>1</th>\n",
       "      <td>F1C668619DFE6E65</td>\n",
       "      <td>2020-12-07</td>\n",
       "      <td>N.America</td>\n",
       "      <td>Android</td>\n",
       "    </tr>\n",
       "    <tr>\n",
       "      <th>2</th>\n",
       "      <td>2E1BF1D4C37EA01F</td>\n",
       "      <td>2020-12-07</td>\n",
       "      <td>EU</td>\n",
       "      <td>PC</td>\n",
       "    </tr>\n",
       "    <tr>\n",
       "      <th>3</th>\n",
       "      <td>50734A22C0C63768</td>\n",
       "      <td>2020-12-07</td>\n",
       "      <td>EU</td>\n",
       "      <td>iPhone</td>\n",
       "    </tr>\n",
       "    <tr>\n",
       "      <th>4</th>\n",
       "      <td>E1BDDCE0DAFA2679</td>\n",
       "      <td>2020-12-07</td>\n",
       "      <td>N.America</td>\n",
       "      <td>iPhone</td>\n",
       "    </tr>\n",
       "  </tbody>\n",
       "</table>\n",
       "</div>"
      ],
      "text/plain": [
       "            user_id  first_date     region   device\n",
       "0  D72A72121175D8BE  2020-12-07         EU       PC\n",
       "1  F1C668619DFE6E65  2020-12-07  N.America  Android\n",
       "2  2E1BF1D4C37EA01F  2020-12-07         EU       PC\n",
       "3  50734A22C0C63768  2020-12-07         EU   iPhone\n",
       "4  E1BDDCE0DAFA2679  2020-12-07  N.America   iPhone"
      ]
     },
     "metadata": {},
     "output_type": "display_data"
    },
    {
     "data": {
      "text/html": [
       "<div>\n",
       "<style scoped>\n",
       "    .dataframe tbody tr th:only-of-type {\n",
       "        vertical-align: middle;\n",
       "    }\n",
       "\n",
       "    .dataframe tbody tr th {\n",
       "        vertical-align: top;\n",
       "    }\n",
       "\n",
       "    .dataframe thead th {\n",
       "        text-align: right;\n",
       "    }\n",
       "</style>\n",
       "<table border=\"1\" class=\"dataframe\">\n",
       "  <thead>\n",
       "    <tr style=\"text-align: right;\">\n",
       "      <th></th>\n",
       "      <th>user_id</th>\n",
       "      <th>first_date</th>\n",
       "      <th>region</th>\n",
       "      <th>device</th>\n",
       "    </tr>\n",
       "  </thead>\n",
       "  <tbody>\n",
       "    <tr>\n",
       "      <th>count</th>\n",
       "      <td>61733</td>\n",
       "      <td>61733</td>\n",
       "      <td>61733</td>\n",
       "      <td>61733</td>\n",
       "    </tr>\n",
       "    <tr>\n",
       "      <th>unique</th>\n",
       "      <td>61733</td>\n",
       "      <td>17</td>\n",
       "      <td>4</td>\n",
       "      <td>4</td>\n",
       "    </tr>\n",
       "    <tr>\n",
       "      <th>top</th>\n",
       "      <td>D72A72121175D8BE</td>\n",
       "      <td>2020-12-21</td>\n",
       "      <td>EU</td>\n",
       "      <td>Android</td>\n",
       "    </tr>\n",
       "    <tr>\n",
       "      <th>freq</th>\n",
       "      <td>1</td>\n",
       "      <td>6290</td>\n",
       "      <td>46270</td>\n",
       "      <td>27520</td>\n",
       "    </tr>\n",
       "  </tbody>\n",
       "</table>\n",
       "</div>"
      ],
      "text/plain": [
       "                 user_id  first_date region   device\n",
       "count              61733       61733  61733    61733\n",
       "unique             61733          17      4        4\n",
       "top     D72A72121175D8BE  2020-12-21     EU  Android\n",
       "freq                   1        6290  46270    27520"
      ]
     },
     "metadata": {},
     "output_type": "display_data"
    },
    {
     "name": "stdout",
     "output_type": "stream",
     "text": [
      "Duplicates: 0\n",
      "----------------------------------------\n",
      "\n",
      "<class 'pandas.core.frame.DataFrame'>\n",
      "RangeIndex: 440317 entries, 0 to 440316\n",
      "Data columns (total 4 columns):\n",
      " #   Column      Non-Null Count   Dtype  \n",
      "---  ------      --------------   -----  \n",
      " 0   user_id     440317 non-null  object \n",
      " 1   event_dt    440317 non-null  object \n",
      " 2   event_name  440317 non-null  object \n",
      " 3   details     62740 non-null   float64\n",
      "dtypes: float64(1), object(3)\n",
      "memory usage: 13.4+ MB\n"
     ]
    },
    {
     "data": {
      "text/plain": [
       "None"
      ]
     },
     "metadata": {},
     "output_type": "display_data"
    },
    {
     "data": {
      "text/html": [
       "<div>\n",
       "<style scoped>\n",
       "    .dataframe tbody tr th:only-of-type {\n",
       "        vertical-align: middle;\n",
       "    }\n",
       "\n",
       "    .dataframe tbody tr th {\n",
       "        vertical-align: top;\n",
       "    }\n",
       "\n",
       "    .dataframe thead th {\n",
       "        text-align: right;\n",
       "    }\n",
       "</style>\n",
       "<table border=\"1\" class=\"dataframe\">\n",
       "  <thead>\n",
       "    <tr style=\"text-align: right;\">\n",
       "      <th></th>\n",
       "      <th>user_id</th>\n",
       "      <th>event_dt</th>\n",
       "      <th>event_name</th>\n",
       "      <th>details</th>\n",
       "    </tr>\n",
       "  </thead>\n",
       "  <tbody>\n",
       "    <tr>\n",
       "      <th>0</th>\n",
       "      <td>E1BDDCE0DAFA2679</td>\n",
       "      <td>2020-12-07 20:22:03</td>\n",
       "      <td>purchase</td>\n",
       "      <td>99.99</td>\n",
       "    </tr>\n",
       "    <tr>\n",
       "      <th>1</th>\n",
       "      <td>7B6452F081F49504</td>\n",
       "      <td>2020-12-07 09:22:53</td>\n",
       "      <td>purchase</td>\n",
       "      <td>9.99</td>\n",
       "    </tr>\n",
       "    <tr>\n",
       "      <th>2</th>\n",
       "      <td>9CD9F34546DF254C</td>\n",
       "      <td>2020-12-07 12:59:29</td>\n",
       "      <td>purchase</td>\n",
       "      <td>4.99</td>\n",
       "    </tr>\n",
       "    <tr>\n",
       "      <th>3</th>\n",
       "      <td>96F27A054B191457</td>\n",
       "      <td>2020-12-07 04:02:40</td>\n",
       "      <td>purchase</td>\n",
       "      <td>4.99</td>\n",
       "    </tr>\n",
       "    <tr>\n",
       "      <th>4</th>\n",
       "      <td>1FD7660FDF94CA1F</td>\n",
       "      <td>2020-12-07 10:15:09</td>\n",
       "      <td>purchase</td>\n",
       "      <td>4.99</td>\n",
       "    </tr>\n",
       "  </tbody>\n",
       "</table>\n",
       "</div>"
      ],
      "text/plain": [
       "            user_id             event_dt event_name  details\n",
       "0  E1BDDCE0DAFA2679  2020-12-07 20:22:03   purchase    99.99\n",
       "1  7B6452F081F49504  2020-12-07 09:22:53   purchase     9.99\n",
       "2  9CD9F34546DF254C  2020-12-07 12:59:29   purchase     4.99\n",
       "3  96F27A054B191457  2020-12-07 04:02:40   purchase     4.99\n",
       "4  1FD7660FDF94CA1F  2020-12-07 10:15:09   purchase     4.99"
      ]
     },
     "metadata": {},
     "output_type": "display_data"
    },
    {
     "data": {
      "text/html": [
       "<div>\n",
       "<style scoped>\n",
       "    .dataframe tbody tr th:only-of-type {\n",
       "        vertical-align: middle;\n",
       "    }\n",
       "\n",
       "    .dataframe tbody tr th {\n",
       "        vertical-align: top;\n",
       "    }\n",
       "\n",
       "    .dataframe thead th {\n",
       "        text-align: right;\n",
       "    }\n",
       "</style>\n",
       "<table border=\"1\" class=\"dataframe\">\n",
       "  <thead>\n",
       "    <tr style=\"text-align: right;\">\n",
       "      <th></th>\n",
       "      <th>user_id</th>\n",
       "      <th>event_dt</th>\n",
       "      <th>event_name</th>\n",
       "      <th>details</th>\n",
       "    </tr>\n",
       "  </thead>\n",
       "  <tbody>\n",
       "    <tr>\n",
       "      <th>count</th>\n",
       "      <td>440317</td>\n",
       "      <td>440317</td>\n",
       "      <td>440317</td>\n",
       "      <td>62740.000000</td>\n",
       "    </tr>\n",
       "    <tr>\n",
       "      <th>unique</th>\n",
       "      <td>58703</td>\n",
       "      <td>267268</td>\n",
       "      <td>4</td>\n",
       "      <td>NaN</td>\n",
       "    </tr>\n",
       "    <tr>\n",
       "      <th>top</th>\n",
       "      <td>A3917F81482141F2</td>\n",
       "      <td>2020-12-23 02:37:24</td>\n",
       "      <td>login</td>\n",
       "      <td>NaN</td>\n",
       "    </tr>\n",
       "    <tr>\n",
       "      <th>freq</th>\n",
       "      <td>36</td>\n",
       "      <td>10</td>\n",
       "      <td>189552</td>\n",
       "      <td>NaN</td>\n",
       "    </tr>\n",
       "    <tr>\n",
       "      <th>mean</th>\n",
       "      <td>NaN</td>\n",
       "      <td>NaN</td>\n",
       "      <td>NaN</td>\n",
       "      <td>23.877631</td>\n",
       "    </tr>\n",
       "    <tr>\n",
       "      <th>std</th>\n",
       "      <td>NaN</td>\n",
       "      <td>NaN</td>\n",
       "      <td>NaN</td>\n",
       "      <td>72.180465</td>\n",
       "    </tr>\n",
       "    <tr>\n",
       "      <th>min</th>\n",
       "      <td>NaN</td>\n",
       "      <td>NaN</td>\n",
       "      <td>NaN</td>\n",
       "      <td>4.990000</td>\n",
       "    </tr>\n",
       "    <tr>\n",
       "      <th>25%</th>\n",
       "      <td>NaN</td>\n",
       "      <td>NaN</td>\n",
       "      <td>NaN</td>\n",
       "      <td>4.990000</td>\n",
       "    </tr>\n",
       "    <tr>\n",
       "      <th>50%</th>\n",
       "      <td>NaN</td>\n",
       "      <td>NaN</td>\n",
       "      <td>NaN</td>\n",
       "      <td>4.990000</td>\n",
       "    </tr>\n",
       "    <tr>\n",
       "      <th>75%</th>\n",
       "      <td>NaN</td>\n",
       "      <td>NaN</td>\n",
       "      <td>NaN</td>\n",
       "      <td>9.990000</td>\n",
       "    </tr>\n",
       "    <tr>\n",
       "      <th>max</th>\n",
       "      <td>NaN</td>\n",
       "      <td>NaN</td>\n",
       "      <td>NaN</td>\n",
       "      <td>499.990000</td>\n",
       "    </tr>\n",
       "  </tbody>\n",
       "</table>\n",
       "</div>"
      ],
      "text/plain": [
       "                 user_id             event_dt event_name       details\n",
       "count             440317               440317     440317  62740.000000\n",
       "unique             58703               267268          4           NaN\n",
       "top     A3917F81482141F2  2020-12-23 02:37:24      login           NaN\n",
       "freq                  36                   10     189552           NaN\n",
       "mean                 NaN                  NaN        NaN     23.877631\n",
       "std                  NaN                  NaN        NaN     72.180465\n",
       "min                  NaN                  NaN        NaN      4.990000\n",
       "25%                  NaN                  NaN        NaN      4.990000\n",
       "50%                  NaN                  NaN        NaN      4.990000\n",
       "75%                  NaN                  NaN        NaN      9.990000\n",
       "max                  NaN                  NaN        NaN    499.990000"
      ]
     },
     "metadata": {},
     "output_type": "display_data"
    },
    {
     "name": "stdout",
     "output_type": "stream",
     "text": [
      "Duplicates: 0\n",
      "----------------------------------------\n",
      "\n",
      "<class 'pandas.core.frame.DataFrame'>\n",
      "RangeIndex: 18268 entries, 0 to 18267\n",
      "Data columns (total 3 columns):\n",
      " #   Column   Non-Null Count  Dtype \n",
      "---  ------   --------------  ----- \n",
      " 0   user_id  18268 non-null  object\n",
      " 1   group    18268 non-null  object\n",
      " 2   ab_test  18268 non-null  object\n",
      "dtypes: object(3)\n",
      "memory usage: 428.3+ KB\n"
     ]
    },
    {
     "data": {
      "text/plain": [
       "None"
      ]
     },
     "metadata": {},
     "output_type": "display_data"
    },
    {
     "data": {
      "text/html": [
       "<div>\n",
       "<style scoped>\n",
       "    .dataframe tbody tr th:only-of-type {\n",
       "        vertical-align: middle;\n",
       "    }\n",
       "\n",
       "    .dataframe tbody tr th {\n",
       "        vertical-align: top;\n",
       "    }\n",
       "\n",
       "    .dataframe thead th {\n",
       "        text-align: right;\n",
       "    }\n",
       "</style>\n",
       "<table border=\"1\" class=\"dataframe\">\n",
       "  <thead>\n",
       "    <tr style=\"text-align: right;\">\n",
       "      <th></th>\n",
       "      <th>user_id</th>\n",
       "      <th>group</th>\n",
       "      <th>ab_test</th>\n",
       "    </tr>\n",
       "  </thead>\n",
       "  <tbody>\n",
       "    <tr>\n",
       "      <th>0</th>\n",
       "      <td>D1ABA3E2887B6A73</td>\n",
       "      <td>A</td>\n",
       "      <td>recommender_system_test</td>\n",
       "    </tr>\n",
       "    <tr>\n",
       "      <th>1</th>\n",
       "      <td>A7A3664BD6242119</td>\n",
       "      <td>A</td>\n",
       "      <td>recommender_system_test</td>\n",
       "    </tr>\n",
       "    <tr>\n",
       "      <th>2</th>\n",
       "      <td>DABC14FDDFADD29E</td>\n",
       "      <td>A</td>\n",
       "      <td>recommender_system_test</td>\n",
       "    </tr>\n",
       "    <tr>\n",
       "      <th>3</th>\n",
       "      <td>04988C5DF189632E</td>\n",
       "      <td>A</td>\n",
       "      <td>recommender_system_test</td>\n",
       "    </tr>\n",
       "    <tr>\n",
       "      <th>4</th>\n",
       "      <td>482F14783456D21B</td>\n",
       "      <td>B</td>\n",
       "      <td>recommender_system_test</td>\n",
       "    </tr>\n",
       "  </tbody>\n",
       "</table>\n",
       "</div>"
      ],
      "text/plain": [
       "            user_id group                  ab_test\n",
       "0  D1ABA3E2887B6A73     A  recommender_system_test\n",
       "1  A7A3664BD6242119     A  recommender_system_test\n",
       "2  DABC14FDDFADD29E     A  recommender_system_test\n",
       "3  04988C5DF189632E     A  recommender_system_test\n",
       "4  482F14783456D21B     B  recommender_system_test"
      ]
     },
     "metadata": {},
     "output_type": "display_data"
    },
    {
     "data": {
      "text/html": [
       "<div>\n",
       "<style scoped>\n",
       "    .dataframe tbody tr th:only-of-type {\n",
       "        vertical-align: middle;\n",
       "    }\n",
       "\n",
       "    .dataframe tbody tr th {\n",
       "        vertical-align: top;\n",
       "    }\n",
       "\n",
       "    .dataframe thead th {\n",
       "        text-align: right;\n",
       "    }\n",
       "</style>\n",
       "<table border=\"1\" class=\"dataframe\">\n",
       "  <thead>\n",
       "    <tr style=\"text-align: right;\">\n",
       "      <th></th>\n",
       "      <th>user_id</th>\n",
       "      <th>group</th>\n",
       "      <th>ab_test</th>\n",
       "    </tr>\n",
       "  </thead>\n",
       "  <tbody>\n",
       "    <tr>\n",
       "      <th>count</th>\n",
       "      <td>18268</td>\n",
       "      <td>18268</td>\n",
       "      <td>18268</td>\n",
       "    </tr>\n",
       "    <tr>\n",
       "      <th>unique</th>\n",
       "      <td>16666</td>\n",
       "      <td>2</td>\n",
       "      <td>2</td>\n",
       "    </tr>\n",
       "    <tr>\n",
       "      <th>top</th>\n",
       "      <td>0FDFDA0B2DEC2D91</td>\n",
       "      <td>A</td>\n",
       "      <td>interface_eu_test</td>\n",
       "    </tr>\n",
       "    <tr>\n",
       "      <th>freq</th>\n",
       "      <td>2</td>\n",
       "      <td>9655</td>\n",
       "      <td>11567</td>\n",
       "    </tr>\n",
       "  </tbody>\n",
       "</table>\n",
       "</div>"
      ],
      "text/plain": [
       "                 user_id  group            ab_test\n",
       "count              18268  18268              18268\n",
       "unique             16666      2                  2\n",
       "top     0FDFDA0B2DEC2D91      A  interface_eu_test\n",
       "freq                   2   9655              11567"
      ]
     },
     "metadata": {},
     "output_type": "display_data"
    },
    {
     "name": "stdout",
     "output_type": "stream",
     "text": [
      "Duplicates: 0\n",
      "----------------------------------------\n",
      "\n"
     ]
    }
   ],
   "source": [
    "info(datasets)"
   ]
  },
  {
   "cell_type": "markdown",
   "metadata": {},
   "source": [
    "1. В данных нет дубликатов.\n",
    "2. Пропуски только в столбце `details` таблицы `events`: там данные о стоимости покупки, но не все события являются покупками.\n",
    "3. Даты имеют тип `object`, это нужно исправить."
   ]
  },
  {
   "cell_type": "markdown",
   "metadata": {},
   "source": [
    "## Предобработка данных"
   ]
  },
  {
   "cell_type": "markdown",
   "metadata": {},
   "source": [
    "При помощи цикла изменим типы данных с датами на `datetime`."
   ]
  },
  {
   "cell_type": "code",
   "execution_count": 7,
   "metadata": {},
   "outputs": [],
   "source": [
    "for df in datasets:\n",
    "    for column in df.columns:\n",
    "        if df[column].dtypes == 'object':\n",
    "            try:\n",
    "                df[column] = pd.to_datetime(df[column])\n",
    "            except:\n",
    "                df[column] = df[column]"
   ]
  },
  {
   "cell_type": "markdown",
   "metadata": {},
   "source": [
    "Проверим, что все изменения произведены корректно, и мы не изменили что-то лишнее."
   ]
  },
  {
   "cell_type": "code",
   "execution_count": 8,
   "metadata": {},
   "outputs": [
    {
     "name": "stdout",
     "output_type": "stream",
     "text": [
      "<class 'pandas.core.frame.DataFrame'>\n",
      "RangeIndex: 14 entries, 0 to 13\n",
      "Data columns (total 4 columns):\n",
      " #   Column     Non-Null Count  Dtype         \n",
      "---  ------     --------------  -----         \n",
      " 0   name       14 non-null     object        \n",
      " 1   regions    14 non-null     object        \n",
      " 2   start_dt   14 non-null     datetime64[ns]\n",
      " 3   finish_dt  14 non-null     datetime64[ns]\n",
      "dtypes: datetime64[ns](2), object(2)\n",
      "memory usage: 576.0+ bytes\n"
     ]
    },
    {
     "data": {
      "text/plain": [
       "None"
      ]
     },
     "metadata": {},
     "output_type": "display_data"
    },
    {
     "data": {
      "text/html": [
       "<div>\n",
       "<style scoped>\n",
       "    .dataframe tbody tr th:only-of-type {\n",
       "        vertical-align: middle;\n",
       "    }\n",
       "\n",
       "    .dataframe tbody tr th {\n",
       "        vertical-align: top;\n",
       "    }\n",
       "\n",
       "    .dataframe thead th {\n",
       "        text-align: right;\n",
       "    }\n",
       "</style>\n",
       "<table border=\"1\" class=\"dataframe\">\n",
       "  <thead>\n",
       "    <tr style=\"text-align: right;\">\n",
       "      <th></th>\n",
       "      <th>name</th>\n",
       "      <th>regions</th>\n",
       "      <th>start_dt</th>\n",
       "      <th>finish_dt</th>\n",
       "    </tr>\n",
       "  </thead>\n",
       "  <tbody>\n",
       "    <tr>\n",
       "      <th>0</th>\n",
       "      <td>Christmas&amp;New Year Promo</td>\n",
       "      <td>EU, N.America</td>\n",
       "      <td>2020-12-25</td>\n",
       "      <td>2021-01-03</td>\n",
       "    </tr>\n",
       "    <tr>\n",
       "      <th>1</th>\n",
       "      <td>St. Valentine's Day Giveaway</td>\n",
       "      <td>EU, CIS, APAC, N.America</td>\n",
       "      <td>2020-02-14</td>\n",
       "      <td>2020-02-16</td>\n",
       "    </tr>\n",
       "    <tr>\n",
       "      <th>2</th>\n",
       "      <td>St. Patric's Day Promo</td>\n",
       "      <td>EU, N.America</td>\n",
       "      <td>2020-03-17</td>\n",
       "      <td>2020-03-19</td>\n",
       "    </tr>\n",
       "    <tr>\n",
       "      <th>3</th>\n",
       "      <td>Easter Promo</td>\n",
       "      <td>EU, CIS, APAC, N.America</td>\n",
       "      <td>2020-04-12</td>\n",
       "      <td>2020-04-19</td>\n",
       "    </tr>\n",
       "    <tr>\n",
       "      <th>4</th>\n",
       "      <td>4th of July Promo</td>\n",
       "      <td>N.America</td>\n",
       "      <td>2020-07-04</td>\n",
       "      <td>2020-07-11</td>\n",
       "    </tr>\n",
       "  </tbody>\n",
       "</table>\n",
       "</div>"
      ],
      "text/plain": [
       "                           name                   regions   start_dt  \\\n",
       "0      Christmas&New Year Promo             EU, N.America 2020-12-25   \n",
       "1  St. Valentine's Day Giveaway  EU, CIS, APAC, N.America 2020-02-14   \n",
       "2        St. Patric's Day Promo             EU, N.America 2020-03-17   \n",
       "3                  Easter Promo  EU, CIS, APAC, N.America 2020-04-12   \n",
       "4             4th of July Promo                 N.America 2020-07-04   \n",
       "\n",
       "   finish_dt  \n",
       "0 2021-01-03  \n",
       "1 2020-02-16  \n",
       "2 2020-03-19  \n",
       "3 2020-04-19  \n",
       "4 2020-07-11  "
      ]
     },
     "metadata": {},
     "output_type": "display_data"
    },
    {
     "data": {
      "text/html": [
       "<div>\n",
       "<style scoped>\n",
       "    .dataframe tbody tr th:only-of-type {\n",
       "        vertical-align: middle;\n",
       "    }\n",
       "\n",
       "    .dataframe tbody tr th {\n",
       "        vertical-align: top;\n",
       "    }\n",
       "\n",
       "    .dataframe thead th {\n",
       "        text-align: right;\n",
       "    }\n",
       "</style>\n",
       "<table border=\"1\" class=\"dataframe\">\n",
       "  <thead>\n",
       "    <tr style=\"text-align: right;\">\n",
       "      <th></th>\n",
       "      <th>name</th>\n",
       "      <th>regions</th>\n",
       "      <th>start_dt</th>\n",
       "      <th>finish_dt</th>\n",
       "    </tr>\n",
       "  </thead>\n",
       "  <tbody>\n",
       "    <tr>\n",
       "      <th>count</th>\n",
       "      <td>14</td>\n",
       "      <td>14</td>\n",
       "      <td>14</td>\n",
       "      <td>14</td>\n",
       "    </tr>\n",
       "    <tr>\n",
       "      <th>unique</th>\n",
       "      <td>14</td>\n",
       "      <td>6</td>\n",
       "      <td>NaN</td>\n",
       "      <td>NaN</td>\n",
       "    </tr>\n",
       "    <tr>\n",
       "      <th>top</th>\n",
       "      <td>Christmas&amp;New Year Promo</td>\n",
       "      <td>APAC</td>\n",
       "      <td>NaN</td>\n",
       "      <td>NaN</td>\n",
       "    </tr>\n",
       "    <tr>\n",
       "      <th>freq</th>\n",
       "      <td>1</td>\n",
       "      <td>4</td>\n",
       "      <td>NaN</td>\n",
       "      <td>NaN</td>\n",
       "    </tr>\n",
       "    <tr>\n",
       "      <th>mean</th>\n",
       "      <td>NaN</td>\n",
       "      <td>NaN</td>\n",
       "      <td>2020-07-02 06:51:25.714285824</td>\n",
       "      <td>2020-07-07 10:17:08.571428608</td>\n",
       "    </tr>\n",
       "    <tr>\n",
       "      <th>min</th>\n",
       "      <td>NaN</td>\n",
       "      <td>NaN</td>\n",
       "      <td>2020-01-25 00:00:00</td>\n",
       "      <td>2020-02-07 00:00:00</td>\n",
       "    </tr>\n",
       "    <tr>\n",
       "      <th>25%</th>\n",
       "      <td>NaN</td>\n",
       "      <td>NaN</td>\n",
       "      <td>2020-03-23 12:00:00</td>\n",
       "      <td>2020-03-26 18:00:00</td>\n",
       "    </tr>\n",
       "    <tr>\n",
       "      <th>50%</th>\n",
       "      <td>NaN</td>\n",
       "      <td>NaN</td>\n",
       "      <td>2020-06-01 12:00:00</td>\n",
       "      <td>2020-06-05 12:00:00</td>\n",
       "    </tr>\n",
       "    <tr>\n",
       "      <th>75%</th>\n",
       "      <td>NaN</td>\n",
       "      <td>NaN</td>\n",
       "      <td>2020-10-31 18:00:00</td>\n",
       "      <td>2020-11-03 00:00:00</td>\n",
       "    </tr>\n",
       "    <tr>\n",
       "      <th>max</th>\n",
       "      <td>NaN</td>\n",
       "      <td>NaN</td>\n",
       "      <td>2020-12-30 00:00:00</td>\n",
       "      <td>2021-01-07 00:00:00</td>\n",
       "    </tr>\n",
       "  </tbody>\n",
       "</table>\n",
       "</div>"
      ],
      "text/plain": [
       "                            name regions                       start_dt  \\\n",
       "count                         14      14                             14   \n",
       "unique                        14       6                            NaN   \n",
       "top     Christmas&New Year Promo    APAC                            NaN   \n",
       "freq                           1       4                            NaN   \n",
       "mean                         NaN     NaN  2020-07-02 06:51:25.714285824   \n",
       "min                          NaN     NaN            2020-01-25 00:00:00   \n",
       "25%                          NaN     NaN            2020-03-23 12:00:00   \n",
       "50%                          NaN     NaN            2020-06-01 12:00:00   \n",
       "75%                          NaN     NaN            2020-10-31 18:00:00   \n",
       "max                          NaN     NaN            2020-12-30 00:00:00   \n",
       "\n",
       "                            finish_dt  \n",
       "count                              14  \n",
       "unique                            NaN  \n",
       "top                               NaN  \n",
       "freq                              NaN  \n",
       "mean    2020-07-07 10:17:08.571428608  \n",
       "min               2020-02-07 00:00:00  \n",
       "25%               2020-03-26 18:00:00  \n",
       "50%               2020-06-05 12:00:00  \n",
       "75%               2020-11-03 00:00:00  \n",
       "max               2021-01-07 00:00:00  "
      ]
     },
     "metadata": {},
     "output_type": "display_data"
    },
    {
     "name": "stdout",
     "output_type": "stream",
     "text": [
      "Duplicates: 0\n",
      "----------------------------------------\n",
      "\n",
      "<class 'pandas.core.frame.DataFrame'>\n",
      "RangeIndex: 61733 entries, 0 to 61732\n",
      "Data columns (total 4 columns):\n",
      " #   Column      Non-Null Count  Dtype         \n",
      "---  ------      --------------  -----         \n",
      " 0   user_id     61733 non-null  object        \n",
      " 1   first_date  61733 non-null  datetime64[ns]\n",
      " 2   region      61733 non-null  object        \n",
      " 3   device      61733 non-null  object        \n",
      "dtypes: datetime64[ns](1), object(3)\n",
      "memory usage: 1.9+ MB\n"
     ]
    },
    {
     "data": {
      "text/plain": [
       "None"
      ]
     },
     "metadata": {},
     "output_type": "display_data"
    },
    {
     "data": {
      "text/html": [
       "<div>\n",
       "<style scoped>\n",
       "    .dataframe tbody tr th:only-of-type {\n",
       "        vertical-align: middle;\n",
       "    }\n",
       "\n",
       "    .dataframe tbody tr th {\n",
       "        vertical-align: top;\n",
       "    }\n",
       "\n",
       "    .dataframe thead th {\n",
       "        text-align: right;\n",
       "    }\n",
       "</style>\n",
       "<table border=\"1\" class=\"dataframe\">\n",
       "  <thead>\n",
       "    <tr style=\"text-align: right;\">\n",
       "      <th></th>\n",
       "      <th>user_id</th>\n",
       "      <th>first_date</th>\n",
       "      <th>region</th>\n",
       "      <th>device</th>\n",
       "    </tr>\n",
       "  </thead>\n",
       "  <tbody>\n",
       "    <tr>\n",
       "      <th>0</th>\n",
       "      <td>D72A72121175D8BE</td>\n",
       "      <td>2020-12-07</td>\n",
       "      <td>EU</td>\n",
       "      <td>PC</td>\n",
       "    </tr>\n",
       "    <tr>\n",
       "      <th>1</th>\n",
       "      <td>F1C668619DFE6E65</td>\n",
       "      <td>2020-12-07</td>\n",
       "      <td>N.America</td>\n",
       "      <td>Android</td>\n",
       "    </tr>\n",
       "    <tr>\n",
       "      <th>2</th>\n",
       "      <td>2E1BF1D4C37EA01F</td>\n",
       "      <td>2020-12-07</td>\n",
       "      <td>EU</td>\n",
       "      <td>PC</td>\n",
       "    </tr>\n",
       "    <tr>\n",
       "      <th>3</th>\n",
       "      <td>50734A22C0C63768</td>\n",
       "      <td>2020-12-07</td>\n",
       "      <td>EU</td>\n",
       "      <td>iPhone</td>\n",
       "    </tr>\n",
       "    <tr>\n",
       "      <th>4</th>\n",
       "      <td>E1BDDCE0DAFA2679</td>\n",
       "      <td>2020-12-07</td>\n",
       "      <td>N.America</td>\n",
       "      <td>iPhone</td>\n",
       "    </tr>\n",
       "  </tbody>\n",
       "</table>\n",
       "</div>"
      ],
      "text/plain": [
       "            user_id first_date     region   device\n",
       "0  D72A72121175D8BE 2020-12-07         EU       PC\n",
       "1  F1C668619DFE6E65 2020-12-07  N.America  Android\n",
       "2  2E1BF1D4C37EA01F 2020-12-07         EU       PC\n",
       "3  50734A22C0C63768 2020-12-07         EU   iPhone\n",
       "4  E1BDDCE0DAFA2679 2020-12-07  N.America   iPhone"
      ]
     },
     "metadata": {},
     "output_type": "display_data"
    },
    {
     "data": {
      "text/html": [
       "<div>\n",
       "<style scoped>\n",
       "    .dataframe tbody tr th:only-of-type {\n",
       "        vertical-align: middle;\n",
       "    }\n",
       "\n",
       "    .dataframe tbody tr th {\n",
       "        vertical-align: top;\n",
       "    }\n",
       "\n",
       "    .dataframe thead th {\n",
       "        text-align: right;\n",
       "    }\n",
       "</style>\n",
       "<table border=\"1\" class=\"dataframe\">\n",
       "  <thead>\n",
       "    <tr style=\"text-align: right;\">\n",
       "      <th></th>\n",
       "      <th>user_id</th>\n",
       "      <th>first_date</th>\n",
       "      <th>region</th>\n",
       "      <th>device</th>\n",
       "    </tr>\n",
       "  </thead>\n",
       "  <tbody>\n",
       "    <tr>\n",
       "      <th>count</th>\n",
       "      <td>61733</td>\n",
       "      <td>61733</td>\n",
       "      <td>61733</td>\n",
       "      <td>61733</td>\n",
       "    </tr>\n",
       "    <tr>\n",
       "      <th>unique</th>\n",
       "      <td>61733</td>\n",
       "      <td>NaN</td>\n",
       "      <td>4</td>\n",
       "      <td>4</td>\n",
       "    </tr>\n",
       "    <tr>\n",
       "      <th>top</th>\n",
       "      <td>D72A72121175D8BE</td>\n",
       "      <td>NaN</td>\n",
       "      <td>EU</td>\n",
       "      <td>Android</td>\n",
       "    </tr>\n",
       "    <tr>\n",
       "      <th>freq</th>\n",
       "      <td>1</td>\n",
       "      <td>NaN</td>\n",
       "      <td>46270</td>\n",
       "      <td>27520</td>\n",
       "    </tr>\n",
       "    <tr>\n",
       "      <th>mean</th>\n",
       "      <td>NaN</td>\n",
       "      <td>2020-12-14 23:38:12.796397568</td>\n",
       "      <td>NaN</td>\n",
       "      <td>NaN</td>\n",
       "    </tr>\n",
       "    <tr>\n",
       "      <th>min</th>\n",
       "      <td>NaN</td>\n",
       "      <td>2020-12-07 00:00:00</td>\n",
       "      <td>NaN</td>\n",
       "      <td>NaN</td>\n",
       "    </tr>\n",
       "    <tr>\n",
       "      <th>25%</th>\n",
       "      <td>NaN</td>\n",
       "      <td>2020-12-11 00:00:00</td>\n",
       "      <td>NaN</td>\n",
       "      <td>NaN</td>\n",
       "    </tr>\n",
       "    <tr>\n",
       "      <th>50%</th>\n",
       "      <td>NaN</td>\n",
       "      <td>2020-12-15 00:00:00</td>\n",
       "      <td>NaN</td>\n",
       "      <td>NaN</td>\n",
       "    </tr>\n",
       "    <tr>\n",
       "      <th>75%</th>\n",
       "      <td>NaN</td>\n",
       "      <td>2020-12-20 00:00:00</td>\n",
       "      <td>NaN</td>\n",
       "      <td>NaN</td>\n",
       "    </tr>\n",
       "    <tr>\n",
       "      <th>max</th>\n",
       "      <td>NaN</td>\n",
       "      <td>2020-12-23 00:00:00</td>\n",
       "      <td>NaN</td>\n",
       "      <td>NaN</td>\n",
       "    </tr>\n",
       "  </tbody>\n",
       "</table>\n",
       "</div>"
      ],
      "text/plain": [
       "                 user_id                     first_date region   device\n",
       "count              61733                          61733  61733    61733\n",
       "unique             61733                            NaN      4        4\n",
       "top     D72A72121175D8BE                            NaN     EU  Android\n",
       "freq                   1                            NaN  46270    27520\n",
       "mean                 NaN  2020-12-14 23:38:12.796397568    NaN      NaN\n",
       "min                  NaN            2020-12-07 00:00:00    NaN      NaN\n",
       "25%                  NaN            2020-12-11 00:00:00    NaN      NaN\n",
       "50%                  NaN            2020-12-15 00:00:00    NaN      NaN\n",
       "75%                  NaN            2020-12-20 00:00:00    NaN      NaN\n",
       "max                  NaN            2020-12-23 00:00:00    NaN      NaN"
      ]
     },
     "metadata": {},
     "output_type": "display_data"
    },
    {
     "name": "stdout",
     "output_type": "stream",
     "text": [
      "Duplicates: 0\n",
      "----------------------------------------\n",
      "\n",
      "<class 'pandas.core.frame.DataFrame'>\n",
      "RangeIndex: 440317 entries, 0 to 440316\n",
      "Data columns (total 4 columns):\n",
      " #   Column      Non-Null Count   Dtype         \n",
      "---  ------      --------------   -----         \n",
      " 0   user_id     440317 non-null  object        \n",
      " 1   event_dt    440317 non-null  datetime64[ns]\n",
      " 2   event_name  440317 non-null  object        \n",
      " 3   details     62740 non-null   float64       \n",
      "dtypes: datetime64[ns](1), float64(1), object(2)\n",
      "memory usage: 13.4+ MB\n"
     ]
    },
    {
     "data": {
      "text/plain": [
       "None"
      ]
     },
     "metadata": {},
     "output_type": "display_data"
    },
    {
     "data": {
      "text/html": [
       "<div>\n",
       "<style scoped>\n",
       "    .dataframe tbody tr th:only-of-type {\n",
       "        vertical-align: middle;\n",
       "    }\n",
       "\n",
       "    .dataframe tbody tr th {\n",
       "        vertical-align: top;\n",
       "    }\n",
       "\n",
       "    .dataframe thead th {\n",
       "        text-align: right;\n",
       "    }\n",
       "</style>\n",
       "<table border=\"1\" class=\"dataframe\">\n",
       "  <thead>\n",
       "    <tr style=\"text-align: right;\">\n",
       "      <th></th>\n",
       "      <th>user_id</th>\n",
       "      <th>event_dt</th>\n",
       "      <th>event_name</th>\n",
       "      <th>details</th>\n",
       "    </tr>\n",
       "  </thead>\n",
       "  <tbody>\n",
       "    <tr>\n",
       "      <th>0</th>\n",
       "      <td>E1BDDCE0DAFA2679</td>\n",
       "      <td>2020-12-07 20:22:03</td>\n",
       "      <td>purchase</td>\n",
       "      <td>99.99</td>\n",
       "    </tr>\n",
       "    <tr>\n",
       "      <th>1</th>\n",
       "      <td>7B6452F081F49504</td>\n",
       "      <td>2020-12-07 09:22:53</td>\n",
       "      <td>purchase</td>\n",
       "      <td>9.99</td>\n",
       "    </tr>\n",
       "    <tr>\n",
       "      <th>2</th>\n",
       "      <td>9CD9F34546DF254C</td>\n",
       "      <td>2020-12-07 12:59:29</td>\n",
       "      <td>purchase</td>\n",
       "      <td>4.99</td>\n",
       "    </tr>\n",
       "    <tr>\n",
       "      <th>3</th>\n",
       "      <td>96F27A054B191457</td>\n",
       "      <td>2020-12-07 04:02:40</td>\n",
       "      <td>purchase</td>\n",
       "      <td>4.99</td>\n",
       "    </tr>\n",
       "    <tr>\n",
       "      <th>4</th>\n",
       "      <td>1FD7660FDF94CA1F</td>\n",
       "      <td>2020-12-07 10:15:09</td>\n",
       "      <td>purchase</td>\n",
       "      <td>4.99</td>\n",
       "    </tr>\n",
       "  </tbody>\n",
       "</table>\n",
       "</div>"
      ],
      "text/plain": [
       "            user_id            event_dt event_name  details\n",
       "0  E1BDDCE0DAFA2679 2020-12-07 20:22:03   purchase    99.99\n",
       "1  7B6452F081F49504 2020-12-07 09:22:53   purchase     9.99\n",
       "2  9CD9F34546DF254C 2020-12-07 12:59:29   purchase     4.99\n",
       "3  96F27A054B191457 2020-12-07 04:02:40   purchase     4.99\n",
       "4  1FD7660FDF94CA1F 2020-12-07 10:15:09   purchase     4.99"
      ]
     },
     "metadata": {},
     "output_type": "display_data"
    },
    {
     "data": {
      "text/html": [
       "<div>\n",
       "<style scoped>\n",
       "    .dataframe tbody tr th:only-of-type {\n",
       "        vertical-align: middle;\n",
       "    }\n",
       "\n",
       "    .dataframe tbody tr th {\n",
       "        vertical-align: top;\n",
       "    }\n",
       "\n",
       "    .dataframe thead th {\n",
       "        text-align: right;\n",
       "    }\n",
       "</style>\n",
       "<table border=\"1\" class=\"dataframe\">\n",
       "  <thead>\n",
       "    <tr style=\"text-align: right;\">\n",
       "      <th></th>\n",
       "      <th>user_id</th>\n",
       "      <th>event_dt</th>\n",
       "      <th>event_name</th>\n",
       "      <th>details</th>\n",
       "    </tr>\n",
       "  </thead>\n",
       "  <tbody>\n",
       "    <tr>\n",
       "      <th>count</th>\n",
       "      <td>440317</td>\n",
       "      <td>440317</td>\n",
       "      <td>440317</td>\n",
       "      <td>62740.000000</td>\n",
       "    </tr>\n",
       "    <tr>\n",
       "      <th>unique</th>\n",
       "      <td>58703</td>\n",
       "      <td>NaN</td>\n",
       "      <td>4</td>\n",
       "      <td>NaN</td>\n",
       "    </tr>\n",
       "    <tr>\n",
       "      <th>top</th>\n",
       "      <td>A3917F81482141F2</td>\n",
       "      <td>NaN</td>\n",
       "      <td>login</td>\n",
       "      <td>NaN</td>\n",
       "    </tr>\n",
       "    <tr>\n",
       "      <th>freq</th>\n",
       "      <td>36</td>\n",
       "      <td>NaN</td>\n",
       "      <td>189552</td>\n",
       "      <td>NaN</td>\n",
       "    </tr>\n",
       "    <tr>\n",
       "      <th>mean</th>\n",
       "      <td>NaN</td>\n",
       "      <td>2020-12-18 16:33:30.344980992</td>\n",
       "      <td>NaN</td>\n",
       "      <td>23.877631</td>\n",
       "    </tr>\n",
       "    <tr>\n",
       "      <th>min</th>\n",
       "      <td>NaN</td>\n",
       "      <td>2020-12-07 00:00:33</td>\n",
       "      <td>NaN</td>\n",
       "      <td>4.990000</td>\n",
       "    </tr>\n",
       "    <tr>\n",
       "      <th>25%</th>\n",
       "      <td>NaN</td>\n",
       "      <td>2020-12-14 06:38:31</td>\n",
       "      <td>NaN</td>\n",
       "      <td>4.990000</td>\n",
       "    </tr>\n",
       "    <tr>\n",
       "      <th>50%</th>\n",
       "      <td>NaN</td>\n",
       "      <td>2020-12-19 02:14:36</td>\n",
       "      <td>NaN</td>\n",
       "      <td>4.990000</td>\n",
       "    </tr>\n",
       "    <tr>\n",
       "      <th>75%</th>\n",
       "      <td>NaN</td>\n",
       "      <td>2020-12-22 23:47:03</td>\n",
       "      <td>NaN</td>\n",
       "      <td>9.990000</td>\n",
       "    </tr>\n",
       "    <tr>\n",
       "      <th>max</th>\n",
       "      <td>NaN</td>\n",
       "      <td>2020-12-30 23:36:33</td>\n",
       "      <td>NaN</td>\n",
       "      <td>499.990000</td>\n",
       "    </tr>\n",
       "    <tr>\n",
       "      <th>std</th>\n",
       "      <td>NaN</td>\n",
       "      <td>NaN</td>\n",
       "      <td>NaN</td>\n",
       "      <td>72.180465</td>\n",
       "    </tr>\n",
       "  </tbody>\n",
       "</table>\n",
       "</div>"
      ],
      "text/plain": [
       "                 user_id                       event_dt event_name  \\\n",
       "count             440317                         440317     440317   \n",
       "unique             58703                            NaN          4   \n",
       "top     A3917F81482141F2                            NaN      login   \n",
       "freq                  36                            NaN     189552   \n",
       "mean                 NaN  2020-12-18 16:33:30.344980992        NaN   \n",
       "min                  NaN            2020-12-07 00:00:33        NaN   \n",
       "25%                  NaN            2020-12-14 06:38:31        NaN   \n",
       "50%                  NaN            2020-12-19 02:14:36        NaN   \n",
       "75%                  NaN            2020-12-22 23:47:03        NaN   \n",
       "max                  NaN            2020-12-30 23:36:33        NaN   \n",
       "std                  NaN                            NaN        NaN   \n",
       "\n",
       "             details  \n",
       "count   62740.000000  \n",
       "unique           NaN  \n",
       "top              NaN  \n",
       "freq             NaN  \n",
       "mean       23.877631  \n",
       "min         4.990000  \n",
       "25%         4.990000  \n",
       "50%         4.990000  \n",
       "75%         9.990000  \n",
       "max       499.990000  \n",
       "std        72.180465  "
      ]
     },
     "metadata": {},
     "output_type": "display_data"
    },
    {
     "name": "stdout",
     "output_type": "stream",
     "text": [
      "Duplicates: 0\n",
      "----------------------------------------\n",
      "\n",
      "<class 'pandas.core.frame.DataFrame'>\n",
      "RangeIndex: 18268 entries, 0 to 18267\n",
      "Data columns (total 3 columns):\n",
      " #   Column   Non-Null Count  Dtype \n",
      "---  ------   --------------  ----- \n",
      " 0   user_id  18268 non-null  object\n",
      " 1   group    18268 non-null  object\n",
      " 2   ab_test  18268 non-null  object\n",
      "dtypes: object(3)\n",
      "memory usage: 428.3+ KB\n"
     ]
    },
    {
     "data": {
      "text/plain": [
       "None"
      ]
     },
     "metadata": {},
     "output_type": "display_data"
    },
    {
     "data": {
      "text/html": [
       "<div>\n",
       "<style scoped>\n",
       "    .dataframe tbody tr th:only-of-type {\n",
       "        vertical-align: middle;\n",
       "    }\n",
       "\n",
       "    .dataframe tbody tr th {\n",
       "        vertical-align: top;\n",
       "    }\n",
       "\n",
       "    .dataframe thead th {\n",
       "        text-align: right;\n",
       "    }\n",
       "</style>\n",
       "<table border=\"1\" class=\"dataframe\">\n",
       "  <thead>\n",
       "    <tr style=\"text-align: right;\">\n",
       "      <th></th>\n",
       "      <th>user_id</th>\n",
       "      <th>group</th>\n",
       "      <th>ab_test</th>\n",
       "    </tr>\n",
       "  </thead>\n",
       "  <tbody>\n",
       "    <tr>\n",
       "      <th>0</th>\n",
       "      <td>D1ABA3E2887B6A73</td>\n",
       "      <td>A</td>\n",
       "      <td>recommender_system_test</td>\n",
       "    </tr>\n",
       "    <tr>\n",
       "      <th>1</th>\n",
       "      <td>A7A3664BD6242119</td>\n",
       "      <td>A</td>\n",
       "      <td>recommender_system_test</td>\n",
       "    </tr>\n",
       "    <tr>\n",
       "      <th>2</th>\n",
       "      <td>DABC14FDDFADD29E</td>\n",
       "      <td>A</td>\n",
       "      <td>recommender_system_test</td>\n",
       "    </tr>\n",
       "    <tr>\n",
       "      <th>3</th>\n",
       "      <td>04988C5DF189632E</td>\n",
       "      <td>A</td>\n",
       "      <td>recommender_system_test</td>\n",
       "    </tr>\n",
       "    <tr>\n",
       "      <th>4</th>\n",
       "      <td>482F14783456D21B</td>\n",
       "      <td>B</td>\n",
       "      <td>recommender_system_test</td>\n",
       "    </tr>\n",
       "  </tbody>\n",
       "</table>\n",
       "</div>"
      ],
      "text/plain": [
       "            user_id group                  ab_test\n",
       "0  D1ABA3E2887B6A73     A  recommender_system_test\n",
       "1  A7A3664BD6242119     A  recommender_system_test\n",
       "2  DABC14FDDFADD29E     A  recommender_system_test\n",
       "3  04988C5DF189632E     A  recommender_system_test\n",
       "4  482F14783456D21B     B  recommender_system_test"
      ]
     },
     "metadata": {},
     "output_type": "display_data"
    },
    {
     "data": {
      "text/html": [
       "<div>\n",
       "<style scoped>\n",
       "    .dataframe tbody tr th:only-of-type {\n",
       "        vertical-align: middle;\n",
       "    }\n",
       "\n",
       "    .dataframe tbody tr th {\n",
       "        vertical-align: top;\n",
       "    }\n",
       "\n",
       "    .dataframe thead th {\n",
       "        text-align: right;\n",
       "    }\n",
       "</style>\n",
       "<table border=\"1\" class=\"dataframe\">\n",
       "  <thead>\n",
       "    <tr style=\"text-align: right;\">\n",
       "      <th></th>\n",
       "      <th>user_id</th>\n",
       "      <th>group</th>\n",
       "      <th>ab_test</th>\n",
       "    </tr>\n",
       "  </thead>\n",
       "  <tbody>\n",
       "    <tr>\n",
       "      <th>count</th>\n",
       "      <td>18268</td>\n",
       "      <td>18268</td>\n",
       "      <td>18268</td>\n",
       "    </tr>\n",
       "    <tr>\n",
       "      <th>unique</th>\n",
       "      <td>16666</td>\n",
       "      <td>2</td>\n",
       "      <td>2</td>\n",
       "    </tr>\n",
       "    <tr>\n",
       "      <th>top</th>\n",
       "      <td>0FDFDA0B2DEC2D91</td>\n",
       "      <td>A</td>\n",
       "      <td>interface_eu_test</td>\n",
       "    </tr>\n",
       "    <tr>\n",
       "      <th>freq</th>\n",
       "      <td>2</td>\n",
       "      <td>9655</td>\n",
       "      <td>11567</td>\n",
       "    </tr>\n",
       "  </tbody>\n",
       "</table>\n",
       "</div>"
      ],
      "text/plain": [
       "                 user_id  group            ab_test\n",
       "count              18268  18268              18268\n",
       "unique             16666      2                  2\n",
       "top     0FDFDA0B2DEC2D91      A  interface_eu_test\n",
       "freq                   2   9655              11567"
      ]
     },
     "metadata": {},
     "output_type": "display_data"
    },
    {
     "name": "stdout",
     "output_type": "stream",
     "text": [
      "Duplicates: 0\n",
      "----------------------------------------\n",
      "\n"
     ]
    }
   ],
   "source": [
    "info(datasets)"
   ]
  },
  {
   "cell_type": "markdown",
   "metadata": {},
   "source": [
    "Всё в порядке, можно двигаться дальше."
   ]
  },
  {
   "cell_type": "markdown",
   "metadata": {},
   "source": [
    "Проверим, не пересекается ли время теста с маркетинговыми событиями. Отфильтруем данные по датам и региону."
   ]
  },
  {
   "cell_type": "code",
   "execution_count": 9,
   "metadata": {},
   "outputs": [],
   "source": [
    "test_start_dt = '2020-12-07'\n",
    "test_end_dt = '2021-01-04'"
   ]
  },
  {
   "cell_type": "code",
   "execution_count": 10,
   "metadata": {},
   "outputs": [
    {
     "data": {
      "text/html": [
       "<div>\n",
       "<style scoped>\n",
       "    .dataframe tbody tr th:only-of-type {\n",
       "        vertical-align: middle;\n",
       "    }\n",
       "\n",
       "    .dataframe tbody tr th {\n",
       "        vertical-align: top;\n",
       "    }\n",
       "\n",
       "    .dataframe thead th {\n",
       "        text-align: right;\n",
       "    }\n",
       "</style>\n",
       "<table border=\"1\" class=\"dataframe\">\n",
       "  <thead>\n",
       "    <tr style=\"text-align: right;\">\n",
       "      <th></th>\n",
       "      <th>name</th>\n",
       "      <th>regions</th>\n",
       "      <th>start_dt</th>\n",
       "      <th>finish_dt</th>\n",
       "    </tr>\n",
       "  </thead>\n",
       "  <tbody>\n",
       "    <tr>\n",
       "      <th>0</th>\n",
       "      <td>Christmas&amp;New Year Promo</td>\n",
       "      <td>EU, N.America</td>\n",
       "      <td>2020-12-25</td>\n",
       "      <td>2021-01-03</td>\n",
       "    </tr>\n",
       "  </tbody>\n",
       "</table>\n",
       "</div>"
      ],
      "text/plain": [
       "                       name        regions   start_dt  finish_dt\n",
       "0  Christmas&New Year Promo  EU, N.America 2020-12-25 2021-01-03"
      ]
     },
     "execution_count": 10,
     "metadata": {},
     "output_type": "execute_result"
    }
   ],
   "source": [
    "marketing_events.query('finish_dt > @test_start_dt and start_dt < @test_end_dt and regions.str.contains(\"EU\")')"
   ]
  },
  {
   "cell_type": "markdown",
   "metadata": {},
   "source": [
    "Тест пересекается с рождественскими и новогодними промо-акциями, это нужно будет иметь в виду."
   ]
  },
  {
   "cell_type": "markdown",
   "metadata": {},
   "source": [
    "## Фильтруем данные"
   ]
  },
  {
   "cell_type": "markdown",
   "metadata": {},
   "source": [
    "В техническом задании сказано, что нас интересуют только новые пользователи из ЕС, зареристрированные с 7 по 21 декабря 2020 года, совершавшие действия по 4 января 2021 года. Выберем только пользователей, удовлетворяющих условию."
   ]
  },
  {
   "cell_type": "code",
   "execution_count": 11,
   "metadata": {},
   "outputs": [],
   "source": [
    "eu_users = new_users[new_users['region']=='EU'] # оставляем только пользователей из ЕС"
   ]
  },
  {
   "cell_type": "code",
   "execution_count": 12,
   "metadata": {},
   "outputs": [],
   "source": [
    "relevant = eu_users.query('\"2020-12-07\"<=first_date<=\"2020-12-21\"') # оставляем только тех, кто пришел в целевые даты"
   ]
  },
  {
   "cell_type": "code",
   "execution_count": 13,
   "metadata": {
    "scrolled": true
   },
   "outputs": [
    {
     "data": {
      "text/html": [
       "<div>\n",
       "<style scoped>\n",
       "    .dataframe tbody tr th:only-of-type {\n",
       "        vertical-align: middle;\n",
       "    }\n",
       "\n",
       "    .dataframe tbody tr th {\n",
       "        vertical-align: top;\n",
       "    }\n",
       "\n",
       "    .dataframe thead th {\n",
       "        text-align: right;\n",
       "    }\n",
       "</style>\n",
       "<table border=\"1\" class=\"dataframe\">\n",
       "  <thead>\n",
       "    <tr style=\"text-align: right;\">\n",
       "      <th></th>\n",
       "      <th>user_id</th>\n",
       "      <th>first_date</th>\n",
       "      <th>region</th>\n",
       "      <th>device</th>\n",
       "    </tr>\n",
       "  </thead>\n",
       "  <tbody>\n",
       "    <tr>\n",
       "      <th>0</th>\n",
       "      <td>D72A72121175D8BE</td>\n",
       "      <td>2020-12-07</td>\n",
       "      <td>EU</td>\n",
       "      <td>PC</td>\n",
       "    </tr>\n",
       "    <tr>\n",
       "      <th>2</th>\n",
       "      <td>2E1BF1D4C37EA01F</td>\n",
       "      <td>2020-12-07</td>\n",
       "      <td>EU</td>\n",
       "      <td>PC</td>\n",
       "    </tr>\n",
       "    <tr>\n",
       "      <th>3</th>\n",
       "      <td>50734A22C0C63768</td>\n",
       "      <td>2020-12-07</td>\n",
       "      <td>EU</td>\n",
       "      <td>iPhone</td>\n",
       "    </tr>\n",
       "    <tr>\n",
       "      <th>7</th>\n",
       "      <td>8942E64218C9A1ED</td>\n",
       "      <td>2020-12-07</td>\n",
       "      <td>EU</td>\n",
       "      <td>PC</td>\n",
       "    </tr>\n",
       "    <tr>\n",
       "      <th>9</th>\n",
       "      <td>FFCEA1179C253104</td>\n",
       "      <td>2020-12-07</td>\n",
       "      <td>EU</td>\n",
       "      <td>Android</td>\n",
       "    </tr>\n",
       "  </tbody>\n",
       "</table>\n",
       "</div>"
      ],
      "text/plain": [
       "            user_id first_date region   device\n",
       "0  D72A72121175D8BE 2020-12-07     EU       PC\n",
       "2  2E1BF1D4C37EA01F 2020-12-07     EU       PC\n",
       "3  50734A22C0C63768 2020-12-07     EU   iPhone\n",
       "7  8942E64218C9A1ED 2020-12-07     EU       PC\n",
       "9  FFCEA1179C253104 2020-12-07     EU  Android"
      ]
     },
     "execution_count": 13,
     "metadata": {},
     "output_type": "execute_result"
    }
   ],
   "source": [
    "relevant.head()"
   ]
  },
  {
   "cell_type": "markdown",
   "metadata": {},
   "source": [
    "Проверим, нет ли пользователей, учтенных дважды из-за разных устройств."
   ]
  },
  {
   "cell_type": "code",
   "execution_count": 14,
   "metadata": {},
   "outputs": [
    {
     "data": {
      "text/plain": [
       "0"
      ]
     },
     "execution_count": 14,
     "metadata": {},
     "output_type": "execute_result"
    }
   ],
   "source": [
    "relevant.drop('device', axis=1).duplicated().sum()"
   ]
  },
  {
   "cell_type": "markdown",
   "metadata": {},
   "source": [
    "Создадим массив пользователей, удовлетворяющих условиям."
   ]
  },
  {
   "cell_type": "code",
   "execution_count": 15,
   "metadata": {},
   "outputs": [],
   "source": [
    "relevant_new_users = relevant['user_id']"
   ]
  },
  {
   "cell_type": "code",
   "execution_count": 16,
   "metadata": {},
   "outputs": [
    {
     "data": {
      "text/plain": [
       "0        D72A72121175D8BE\n",
       "2        2E1BF1D4C37EA01F\n",
       "3        50734A22C0C63768\n",
       "7        8942E64218C9A1ED\n",
       "9        FFCEA1179C253104\n",
       "               ...       \n",
       "61728    1DB53B933257165D\n",
       "61729    538643EB4527ED03\n",
       "61730    7ADEE837D5D8CBBD\n",
       "61731    1C7D23927835213F\n",
       "61732    8F04273BB2860229\n",
       "Name: user_id, Length: 42340, dtype: object"
      ]
     },
     "execution_count": 16,
     "metadata": {},
     "output_type": "execute_result"
    }
   ],
   "source": [
    "relevant_new_users"
   ]
  },
  {
   "cell_type": "markdown",
   "metadata": {},
   "source": [
    "Проверим, нет ли пересечений между конкурирующими тестами."
   ]
  },
  {
   "cell_type": "code",
   "execution_count": 17,
   "metadata": {},
   "outputs": [
    {
     "data": {
      "text/html": [
       "<div>\n",
       "<style scoped>\n",
       "    .dataframe tbody tr th:only-of-type {\n",
       "        vertical-align: middle;\n",
       "    }\n",
       "\n",
       "    .dataframe tbody tr th {\n",
       "        vertical-align: top;\n",
       "    }\n",
       "\n",
       "    .dataframe thead th {\n",
       "        text-align: right;\n",
       "    }\n",
       "</style>\n",
       "<table border=\"1\" class=\"dataframe\">\n",
       "  <thead>\n",
       "    <tr style=\"text-align: right;\">\n",
       "      <th></th>\n",
       "      <th>user_id</th>\n",
       "      <th>group</th>\n",
       "      <th>ab_test</th>\n",
       "    </tr>\n",
       "  </thead>\n",
       "  <tbody>\n",
       "    <tr>\n",
       "      <th>0</th>\n",
       "      <td>D1ABA3E2887B6A73</td>\n",
       "      <td>A</td>\n",
       "      <td>recommender_system_test</td>\n",
       "    </tr>\n",
       "    <tr>\n",
       "      <th>1</th>\n",
       "      <td>A7A3664BD6242119</td>\n",
       "      <td>A</td>\n",
       "      <td>recommender_system_test</td>\n",
       "    </tr>\n",
       "    <tr>\n",
       "      <th>2</th>\n",
       "      <td>DABC14FDDFADD29E</td>\n",
       "      <td>A</td>\n",
       "      <td>recommender_system_test</td>\n",
       "    </tr>\n",
       "    <tr>\n",
       "      <th>3</th>\n",
       "      <td>04988C5DF189632E</td>\n",
       "      <td>A</td>\n",
       "      <td>recommender_system_test</td>\n",
       "    </tr>\n",
       "    <tr>\n",
       "      <th>4</th>\n",
       "      <td>482F14783456D21B</td>\n",
       "      <td>B</td>\n",
       "      <td>recommender_system_test</td>\n",
       "    </tr>\n",
       "  </tbody>\n",
       "</table>\n",
       "</div>"
      ],
      "text/plain": [
       "            user_id group                  ab_test\n",
       "0  D1ABA3E2887B6A73     A  recommender_system_test\n",
       "1  A7A3664BD6242119     A  recommender_system_test\n",
       "2  DABC14FDDFADD29E     A  recommender_system_test\n",
       "3  04988C5DF189632E     A  recommender_system_test\n",
       "4  482F14783456D21B     B  recommender_system_test"
      ]
     },
     "execution_count": 17,
     "metadata": {},
     "output_type": "execute_result"
    }
   ],
   "source": [
    "participants.head(5)"
   ]
  },
  {
   "cell_type": "code",
   "execution_count": 18,
   "metadata": {},
   "outputs": [
    {
     "data": {
      "text/plain": [
       "1602"
      ]
     },
     "execution_count": 18,
     "metadata": {},
     "output_type": "execute_result"
    }
   ],
   "source": [
    "participants['user_id'].duplicated().sum()"
   ]
  },
  {
   "cell_type": "markdown",
   "metadata": {},
   "source": [
    "1602 пользователя участвуют в обоих тестах. Придётся их удалить, чтобы не исказить результаты."
   ]
  },
  {
   "cell_type": "code",
   "execution_count": 19,
   "metadata": {},
   "outputs": [],
   "source": [
    "participants_without_crossovers = participants['user_id'].drop_duplicates(keep=False)"
   ]
  },
  {
   "cell_type": "markdown",
   "metadata": {},
   "source": [
    "Оставим только участников теста, удовлетворяющих всем условиям."
   ]
  },
  {
   "cell_type": "code",
   "execution_count": 20,
   "metadata": {},
   "outputs": [],
   "source": [
    "relevant_participants = participants.query(\n",
    "    'ab_test==\"recommender_system_test\" \\\n",
    "    and user_id in @participants_without_crossovers \\\n",
    "    and user_id in @relevant_new_users')['user_id']"
   ]
  },
  {
   "cell_type": "code",
   "execution_count": 21,
   "metadata": {
    "scrolled": true
   },
   "outputs": [
    {
     "name": "stdout",
     "output_type": "stream",
     "text": [
      "В тесте участвуют 4749 пользователей.\n"
     ]
    }
   ],
   "source": [
    "print('В тесте участвуют {} пользователей.'.format(relevant_participants.count()))"
   ]
  },
  {
   "cell_type": "markdown",
   "metadata": {},
   "source": [
    "По техническому заданию необходимо было 6000 участников — их получилось меньше, чем ожидалось."
   ]
  },
  {
   "cell_type": "markdown",
   "metadata": {},
   "source": [
    "Теперь оставим только события, произошедшие в целевые даты: с 7 декабря 2020 года по 4 января 2021-го."
   ]
  },
  {
   "cell_type": "code",
   "execution_count": 22,
   "metadata": {},
   "outputs": [],
   "source": [
    "relevant_events = events.query('user_id in @relevant_participants and (\"2020-12-07\"<=event_dt<=\"2021-01-04\")')"
   ]
  },
  {
   "cell_type": "markdown",
   "metadata": {},
   "source": [
    "Добавим данные о принадлежности пользователя к определенной группе."
   ]
  },
  {
   "cell_type": "code",
   "execution_count": 23,
   "metadata": {},
   "outputs": [],
   "source": [
    "relevant_table = relevant_events.merge(participants, how='left', on='user_id')"
   ]
  },
  {
   "cell_type": "markdown",
   "metadata": {},
   "source": [
    "Данные готовы к анализу. Проверим, удовлетворяют ли они техзаданию."
   ]
  },
  {
   "cell_type": "code",
   "execution_count": 24,
   "metadata": {},
   "outputs": [
    {
     "data": {
      "text/plain": [
       "0.10263669764426193"
      ]
     },
     "execution_count": 24,
     "metadata": {},
     "output_type": "execute_result"
    }
   ],
   "source": [
    "relevant_participants.count() / new_users.query('region==\"EU\"')['user_id'].nunique()"
   ]
  },
  {
   "cell_type": "markdown",
   "metadata": {},
   "source": [
    "Аудитория теста: около 10% новых пользователей из ЕС — по ТЗ было необходимо 15%. Также меньше и сам размер группы: 4749 вместо 6000. Тест проведён с нарушением технического задания."
   ]
  },
  {
   "cell_type": "markdown",
   "metadata": {},
   "source": [
    "## Исследовательский анализ данных"
   ]
  },
  {
   "cell_type": "markdown",
   "metadata": {},
   "source": [
    "При помощи цикла выведем гистограммы распределения данных."
   ]
  },
  {
   "cell_type": "code",
   "execution_count": 25,
   "metadata": {
    "scrolled": true
   },
   "outputs": [
    {
     "data": {
      "image/png": "[encoded data removed]",
      "text/plain": [
       "<Figure size 432x1152 with 4 Axes>"
      ]
     },
     "metadata": {
      "image/png": {
       "height": 1144,
       "width": 424
      }
     },
     "output_type": "display_data"
    }
   ],
   "source": [
    "features = ['event_dt', 'event_name', 'details', 'group']\n",
    "fig, axes = plt.subplots(len(features), 1, figsize=(6,16))\n",
    "fig.set_tight_layout('pad')\n",
    "for i, col in enumerate(features):\n",
    "    axes[i].set_title(col, fontsize=20, fontweight='bold', color='teal')\n",
    "    sns.histplot(x=col, data=relevant_table, ax=axes[i], color='teal')\n",
    "    axes[i].set_xlabel(None)\n",
    "    axes[i].set_ylabel('Количество')"
   ]
  },
  {
   "cell_type": "markdown",
   "metadata": {},
   "source": [
    "1. До 14 декабря пользователи совершали примерно одинаковое количество действий в день, но затем вовлечённость начала резко расти. При этом после 21 декабря началось падение и возврат к обычной активности. Возможно, люди покупали подарки к Рождеству.\n",
    "2. Чуть больше четверти заходов закончились покупкой — хороший результат.\n",
    "3. Данные о стоимости покупки рассмотрим отдельно.\n",
    "4. Действий в группе А существенно больше, чем в группе В — в 3.5 раза."
   ]
  },
  {
   "cell_type": "markdown",
   "metadata": {},
   "source": [
    "Посмотрим также на соотношение тестовой и контрольной групп."
   ]
  },
  {
   "cell_type": "code",
   "execution_count": 26,
   "metadata": {},
   "outputs": [
    {
     "data": {
      "text/html": [
       "<div>\n",
       "<style scoped>\n",
       "    .dataframe tbody tr th:only-of-type {\n",
       "        vertical-align: middle;\n",
       "    }\n",
       "\n",
       "    .dataframe tbody tr th {\n",
       "        vertical-align: top;\n",
       "    }\n",
       "\n",
       "    .dataframe thead th {\n",
       "        text-align: right;\n",
       "    }\n",
       "</style>\n",
       "<table border=\"1\" class=\"dataframe\">\n",
       "  <thead>\n",
       "    <tr style=\"text-align: right;\">\n",
       "      <th></th>\n",
       "      <th>user_id</th>\n",
       "    </tr>\n",
       "    <tr>\n",
       "      <th>group</th>\n",
       "      <th></th>\n",
       "    </tr>\n",
       "  </thead>\n",
       "  <tbody>\n",
       "    <tr>\n",
       "      <th>A</th>\n",
       "      <td>2713</td>\n",
       "    </tr>\n",
       "    <tr>\n",
       "      <th>B</th>\n",
       "      <td>2036</td>\n",
       "    </tr>\n",
       "  </tbody>\n",
       "</table>\n",
       "</div>"
      ],
      "text/plain": [
       "       user_id\n",
       "group         \n",
       "A         2713\n",
       "B         2036"
      ]
     },
     "execution_count": 26,
     "metadata": {},
     "output_type": "execute_result"
    }
   ],
   "source": [
    "groupsize = (\n",
    "    participants\n",
    "    .query('ab_test==\"recommender_system_test\" \\\n",
    "    and user_id in @participants_without_crossovers \\\n",
    "    and user_id in @relevant_new_users')\n",
    "    .groupby('group').agg({'user_id': 'nunique'})\n",
    ")\n",
    "groupsize"
   ]
  },
  {
   "cell_type": "markdown",
   "metadata": {},
   "source": [
    "Группа А больше группы В. Тест будет непараметрическим, поэтому дисбаланс не исказит результаты."
   ]
  },
  {
   "cell_type": "markdown",
   "metadata": {},
   "source": [
    "Посмотрим на распределение стоимости покупок."
   ]
  },
  {
   "cell_type": "code",
   "execution_count": 27,
   "metadata": {},
   "outputs": [
    {
     "data": {
      "text/plain": [
       "count    2348.000000\n",
       "mean       22.643322\n",
       "std        68.349804\n",
       "min         4.990000\n",
       "25%         4.990000\n",
       "50%         4.990000\n",
       "75%         9.990000\n",
       "max       499.990000\n",
       "Name: details, dtype: float64"
      ]
     },
     "execution_count": 27,
     "metadata": {},
     "output_type": "execute_result"
    }
   ],
   "source": [
    "relevant_table['details'].describe()"
   ]
  },
  {
   "cell_type": "code",
   "execution_count": 28,
   "metadata": {},
   "outputs": [
    {
     "data": {
      "image/png": "[encoded data removed]",
      "text/plain": [
       "<Figure size 432x288 with 1 Axes>"
      ]
     },
     "metadata": {
      "image/png": {
       "height": 301,
       "width": 349
      }
     },
     "output_type": "display_data"
    }
   ],
   "source": [
    "sns.violinplot(x='details', data=relevant_table, palette='crest')\n",
    "plt.title('Частотное распределение\\nстоимости покупки', fontsize=20, fontweight='bold', color='teal')\n",
    "plt.xlabel('Стоимость покупки');"
   ]
  },
  {
   "cell_type": "markdown",
   "metadata": {},
   "source": [
    "Больше половины заказов стоили 4.99 долларов. Дорогих заказов (99.99 и 499.99) очень мало, это скорее выбросы."
   ]
  },
  {
   "cell_type": "markdown",
   "metadata": {},
   "source": [
    "Посмотрим, отличается ли количество действий на пользователя между группами."
   ]
  },
  {
   "cell_type": "code",
   "execution_count": 29,
   "metadata": {
    "scrolled": true
   },
   "outputs": [
    {
     "data": {
      "image/png": "[encoded data removed]",
      "text/plain": [
       "<Figure size 432x288 with 1 Axes>"
      ]
     },
     "metadata": {
      "image/png": {
       "height": 301,
       "width": 372
      }
     },
     "output_type": "display_data"
    }
   ],
   "source": [
    "sns.boxplot(\n",
    "    x='event_name',\n",
    "    y='group',\n",
    "    data=(\n",
    "        relevant_table\n",
    "        .groupby(['group', 'user_id'], as_index=False)\n",
    "        ['event_name']\n",
    "        .count()\n",
    "    ),\n",
    "    palette='crest'\n",
    ")\n",
    "plt.title('Распределение количества\\nдействий на пользователя', fontsize=20, fontweight='bold', color='teal')\n",
    "plt.xlabel('Количество действий')\n",
    "plt.xlabel('Группа');"
   ]
  },
  {
   "cell_type": "markdown",
   "metadata": {},
   "source": [
    "Медианное количество действий в группе А — 6, на 1 больше, чем в В. Возможно, эти различия получились случайно. В целом распределение выглядит похоже."
   ]
  },
  {
   "cell_type": "markdown",
   "metadata": {},
   "source": [
    "Посмотрим воронку действий пользователей. Для этого построим сводную таблицу."
   ]
  },
  {
   "cell_type": "code",
   "execution_count": 30,
   "metadata": {},
   "outputs": [],
   "source": [
    "funnel = (\n",
    "    relevant_table\n",
    "    .pivot_table(\n",
    "        index='event_name',\n",
    "        columns='group',\n",
    "        values='user_id',\n",
    "        aggfunc='nunique',\n",
    "        sort=False)\n",
    "    [::-1]\n",
    ")"
   ]
  },
  {
   "cell_type": "code",
   "execution_count": 31,
   "metadata": {
    "scrolled": false
   },
   "outputs": [
    {
     "data": {
      "text/html": [
       "<div>\n",
       "<style scoped>\n",
       "    .dataframe tbody tr th:only-of-type {\n",
       "        vertical-align: middle;\n",
       "    }\n",
       "\n",
       "    .dataframe tbody tr th {\n",
       "        vertical-align: top;\n",
       "    }\n",
       "\n",
       "    .dataframe thead th {\n",
       "        text-align: right;\n",
       "    }\n",
       "</style>\n",
       "<table border=\"1\" class=\"dataframe\">\n",
       "  <thead>\n",
       "    <tr style=\"text-align: right;\">\n",
       "      <th>group</th>\n",
       "      <th>A</th>\n",
       "      <th>B</th>\n",
       "    </tr>\n",
       "    <tr>\n",
       "      <th>event_name</th>\n",
       "      <th></th>\n",
       "      <th></th>\n",
       "    </tr>\n",
       "  </thead>\n",
       "  <tbody>\n",
       "    <tr>\n",
       "      <th>login</th>\n",
       "      <td>1939</td>\n",
       "      <td>655</td>\n",
       "    </tr>\n",
       "    <tr>\n",
       "      <th>product_page</th>\n",
       "      <td>1265</td>\n",
       "      <td>367</td>\n",
       "    </tr>\n",
       "    <tr>\n",
       "      <th>product_cart</th>\n",
       "      <td>589</td>\n",
       "      <td>184</td>\n",
       "    </tr>\n",
       "    <tr>\n",
       "      <th>purchase</th>\n",
       "      <td>613</td>\n",
       "      <td>191</td>\n",
       "    </tr>\n",
       "  </tbody>\n",
       "</table>\n",
       "</div>"
      ],
      "text/plain": [
       "group            A    B\n",
       "event_name             \n",
       "login         1939  655\n",
       "product_page  1265  367\n",
       "product_cart   589  184\n",
       "purchase       613  191"
      ]
     },
     "execution_count": 31,
     "metadata": {},
     "output_type": "execute_result"
    }
   ],
   "source": [
    "funnel"
   ]
  },
  {
   "cell_type": "markdown",
   "metadata": {},
   "source": [
    "Добавим исходные размеры групп."
   ]
  },
  {
   "cell_type": "code",
   "execution_count": 32,
   "metadata": {},
   "outputs": [],
   "source": [
    "a_groupsize = groupsize.loc['A', 'user_id']\n",
    "b_groupsize = groupsize.loc['B', 'user_id']"
   ]
  },
  {
   "cell_type": "code",
   "execution_count": 33,
   "metadata": {},
   "outputs": [],
   "source": [
    "funnel = pd.DataFrame([[a_groupsize, b_groupsize]], columns=list('AB'), index=['group_size']).append(funnel)"
   ]
  },
  {
   "cell_type": "code",
   "execution_count": 34,
   "metadata": {},
   "outputs": [
    {
     "data": {
      "text/html": [
       "<div>\n",
       "<style scoped>\n",
       "    .dataframe tbody tr th:only-of-type {\n",
       "        vertical-align: middle;\n",
       "    }\n",
       "\n",
       "    .dataframe tbody tr th {\n",
       "        vertical-align: top;\n",
       "    }\n",
       "\n",
       "    .dataframe thead th {\n",
       "        text-align: right;\n",
       "    }\n",
       "</style>\n",
       "<table border=\"1\" class=\"dataframe\">\n",
       "  <thead>\n",
       "    <tr style=\"text-align: right;\">\n",
       "      <th></th>\n",
       "      <th>A</th>\n",
       "      <th>B</th>\n",
       "    </tr>\n",
       "  </thead>\n",
       "  <tbody>\n",
       "    <tr>\n",
       "      <th>group_size</th>\n",
       "      <td>2713</td>\n",
       "      <td>2036</td>\n",
       "    </tr>\n",
       "    <tr>\n",
       "      <th>login</th>\n",
       "      <td>1939</td>\n",
       "      <td>655</td>\n",
       "    </tr>\n",
       "    <tr>\n",
       "      <th>product_page</th>\n",
       "      <td>1265</td>\n",
       "      <td>367</td>\n",
       "    </tr>\n",
       "    <tr>\n",
       "      <th>product_cart</th>\n",
       "      <td>589</td>\n",
       "      <td>184</td>\n",
       "    </tr>\n",
       "    <tr>\n",
       "      <th>purchase</th>\n",
       "      <td>613</td>\n",
       "      <td>191</td>\n",
       "    </tr>\n",
       "  </tbody>\n",
       "</table>\n",
       "</div>"
      ],
      "text/plain": [
       "                 A     B\n",
       "group_size    2713  2036\n",
       "login         1939   655\n",
       "product_page  1265   367\n",
       "product_cart   589   184\n",
       "purchase       613   191"
      ]
     },
     "execution_count": 34,
     "metadata": {},
     "output_type": "execute_result"
    }
   ],
   "source": [
    "funnel"
   ]
  },
  {
   "cell_type": "markdown",
   "metadata": {},
   "source": [
    "Совершали покупку больше пользователей, чем заходили в корзину. Возможно, это ошибка нашей фильтрации, проверим."
   ]
  },
  {
   "cell_type": "code",
   "execution_count": 35,
   "metadata": {},
   "outputs": [
    {
     "data": {
      "text/html": [
       "<div>\n",
       "<style scoped>\n",
       "    .dataframe tbody tr th:only-of-type {\n",
       "        vertical-align: middle;\n",
       "    }\n",
       "\n",
       "    .dataframe tbody tr th {\n",
       "        vertical-align: top;\n",
       "    }\n",
       "\n",
       "    .dataframe thead th {\n",
       "        text-align: right;\n",
       "    }\n",
       "</style>\n",
       "<table border=\"1\" class=\"dataframe\">\n",
       "  <thead>\n",
       "    <tr style=\"text-align: right;\">\n",
       "      <th></th>\n",
       "      <th>user_id</th>\n",
       "    </tr>\n",
       "    <tr>\n",
       "      <th>group</th>\n",
       "      <th></th>\n",
       "    </tr>\n",
       "  </thead>\n",
       "  <tbody>\n",
       "    <tr>\n",
       "      <th>A</th>\n",
       "      <td>2713</td>\n",
       "    </tr>\n",
       "    <tr>\n",
       "      <th>B</th>\n",
       "      <td>2036</td>\n",
       "    </tr>\n",
       "  </tbody>\n",
       "</table>\n",
       "</div>"
      ],
      "text/plain": [
       "       user_id\n",
       "group         \n",
       "A         2713\n",
       "B         2036"
      ]
     },
     "execution_count": 35,
     "metadata": {},
     "output_type": "execute_result"
    }
   ],
   "source": [
    "participants.query(\n",
    "    'ab_test==\"recommender_system_test\" \\\n",
    "    and user_id in @participants_without_crossovers \\\n",
    "    and user_id in @relevant_new_users')\\\n",
    "    .groupby('group').agg({'user_id': 'nunique'})"
   ]
  },
  {
   "cell_type": "code",
   "execution_count": 36,
   "metadata": {},
   "outputs": [
    {
     "data": {
      "text/plain": [
       "event_name\n",
       "login           189552\n",
       "product_page    125563\n",
       "purchase         62740\n",
       "product_cart     62462\n",
       "Name: event_dt, dtype: int64"
      ]
     },
     "execution_count": 36,
     "metadata": {},
     "output_type": "execute_result"
    }
   ],
   "source": [
    "events.groupby('event_name')['event_dt'].count().sort_values(ascending=False)"
   ]
  },
  {
   "cell_type": "markdown",
   "metadata": {},
   "source": [
    "В изначальных данных то же самое. Значит, некоторые пользователи переходили со страницы товара сразу к оплате — через кнопку «Купить в 1 клик». Конверсию в покупку в таком случае будем считать не от корзины, а от страницы товара."
   ]
  },
  {
   "cell_type": "markdown",
   "metadata": {},
   "source": [
    "Посчитаем конверсию для групп А и В."
   ]
  },
  {
   "cell_type": "code",
   "execution_count": 37,
   "metadata": {},
   "outputs": [],
   "source": [
    "groupsize_dict = {'A_groupsize': a_groupsize, 'B_groupsize': b_groupsize}\n",
    "for col in ['A', 'B']:\n",
    "    for i in funnel.index:\n",
    "        funnel.loc[i, col+'_CR'] = round(funnel.loc[i, col] / groupsize_dict[col+'_groupsize'] * 100, 2)"
   ]
  },
  {
   "cell_type": "markdown",
   "metadata": {},
   "source": [
    "Также посчитаем прирост конверсии в группе В по сравнению с группой А."
   ]
  },
  {
   "cell_type": "code",
   "execution_count": 38,
   "metadata": {},
   "outputs": [],
   "source": [
    "funnel['gain'] = round((funnel['B_CR'] / funnel['A_CR'] - 1) * 100, 2)"
   ]
  },
  {
   "cell_type": "markdown",
   "metadata": {},
   "source": [
    "Посмотрим на получившуюся таблицу."
   ]
  },
  {
   "cell_type": "code",
   "execution_count": 39,
   "metadata": {},
   "outputs": [
    {
     "data": {
      "text/html": [
       "<div>\n",
       "<style scoped>\n",
       "    .dataframe tbody tr th:only-of-type {\n",
       "        vertical-align: middle;\n",
       "    }\n",
       "\n",
       "    .dataframe tbody tr th {\n",
       "        vertical-align: top;\n",
       "    }\n",
       "\n",
       "    .dataframe thead th {\n",
       "        text-align: right;\n",
       "    }\n",
       "</style>\n",
       "<table border=\"1\" class=\"dataframe\">\n",
       "  <thead>\n",
       "    <tr style=\"text-align: right;\">\n",
       "      <th></th>\n",
       "      <th>A</th>\n",
       "      <th>B</th>\n",
       "      <th>A_CR</th>\n",
       "      <th>B_CR</th>\n",
       "      <th>gain</th>\n",
       "    </tr>\n",
       "  </thead>\n",
       "  <tbody>\n",
       "    <tr>\n",
       "      <th>group_size</th>\n",
       "      <td>2713</td>\n",
       "      <td>2036</td>\n",
       "      <td>100.00</td>\n",
       "      <td>100.00</td>\n",
       "      <td>0.00</td>\n",
       "    </tr>\n",
       "    <tr>\n",
       "      <th>login</th>\n",
       "      <td>1939</td>\n",
       "      <td>655</td>\n",
       "      <td>71.47</td>\n",
       "      <td>32.17</td>\n",
       "      <td>-54.99</td>\n",
       "    </tr>\n",
       "    <tr>\n",
       "      <th>product_page</th>\n",
       "      <td>1265</td>\n",
       "      <td>367</td>\n",
       "      <td>46.63</td>\n",
       "      <td>18.03</td>\n",
       "      <td>-61.33</td>\n",
       "    </tr>\n",
       "    <tr>\n",
       "      <th>product_cart</th>\n",
       "      <td>589</td>\n",
       "      <td>184</td>\n",
       "      <td>21.71</td>\n",
       "      <td>9.04</td>\n",
       "      <td>-58.36</td>\n",
       "    </tr>\n",
       "    <tr>\n",
       "      <th>purchase</th>\n",
       "      <td>613</td>\n",
       "      <td>191</td>\n",
       "      <td>22.59</td>\n",
       "      <td>9.38</td>\n",
       "      <td>-58.48</td>\n",
       "    </tr>\n",
       "  </tbody>\n",
       "</table>\n",
       "</div>"
      ],
      "text/plain": [
       "                 A     B    A_CR    B_CR   gain\n",
       "group_size    2713  2036  100.00  100.00   0.00\n",
       "login         1939   655   71.47   32.17 -54.99\n",
       "product_page  1265   367   46.63   18.03 -61.33\n",
       "product_cart   589   184   21.71    9.04 -58.36\n",
       "purchase       613   191   22.59    9.38 -58.48"
      ]
     },
     "execution_count": 39,
     "metadata": {},
     "output_type": "execute_result"
    }
   ],
   "source": [
    "funnel"
   ]
  },
  {
   "cell_type": "markdown",
   "metadata": {},
   "source": [
    "У группы В все показатели упали более чем в 2 раза по сравнению с группой А. В первую очередь из-за того, что больше 2/3 пользователей из группы В по какой-то причине вообще не заходили на сайт после регистрации. Что-то явно пошло не так."
   ]
  },
  {
   "cell_type": "markdown",
   "metadata": {},
   "source": [
    "<a class=\"anchor\" id=\"21-bullet\">"
   ]
  },
  {
   "cell_type": "markdown",
   "metadata": {},
   "source": [
    "## Проверяем результаты А/В-теста"
   ]
  },
  {
   "cell_type": "markdown",
   "metadata": {},
   "source": [
    "Для удобства напишем функцию, которая будет принимать метрики для сравнения, а возвращать р-уровень значимости и вывод о принятии или отвержении нулевой гипотезы."
   ]
  },
  {
   "cell_type": "code",
   "execution_count": 40,
   "metadata": {},
   "outputs": [],
   "source": [
    "def ztest_2samp(event):\n",
    "    '''Возвращает p-value для выбранной пропорции.\n",
    "    \n",
    "    Параметры:\n",
    "    data (DataFrame) — датасет, из которого извлекаются выборки.\n",
    "    event_1 (str) — название первого события для сравнения.\n",
    "    event_2 (str) — название первого события для сравнения.\n",
    "    '''\n",
    "    pvalue = proportions_ztest(\n",
    "        [funnel.loc[event, 'A'],\n",
    "         funnel.loc[event, 'B']],\n",
    "        [funnel.loc['group_size', 'A'],\n",
    "         funnel.loc['group_size', 'B']])[1]\n",
    "    alpha = .05\n",
    "    if pvalue < alpha:\n",
    "        conclusion = 'Отвергаем Ho'\n",
    "    else:\n",
    "        conclusion = 'Не получилось отвергнуть Ho'\n",
    "    print(f'{event}: p-value = {pvalue} — {conclusion}')"
   ]
  },
  {
   "cell_type": "markdown",
   "metadata": {},
   "source": [
    "Сформулируем нулевые гипотезы:\n",
    "\n",
    "$H_0$: Конверсии в группах А и В не отличаются.  \n",
    "$H_1$: Конверсии в группах А и В отличаются."
   ]
  },
  {
   "cell_type": "markdown",
   "metadata": {},
   "source": [
    "Проверим значимость различия конверсий перехода на страницу товара."
   ]
  },
  {
   "cell_type": "code",
   "execution_count": 41,
   "metadata": {},
   "outputs": [
    {
     "name": "stdout",
     "output_type": "stream",
     "text": [
      "login: p-value = 1.2365312205471603e-159 — Отвергаем Ho\n",
      "product_page: p-value = 9.647273923449549e-94 — Отвергаем Ho\n",
      "product_cart: p-value = 1.1608883037541786e-31 — Отвергаем Ho\n",
      "purchase: p-value = 2.8985176522818965e-33 — Отвергаем Ho\n"
     ]
    }
   ],
   "source": [
    "for i in funnel.index:\n",
    "    if i != 'group_size':\n",
    "        ztest_2samp(i)"
   ]
  },
  {
   "cell_type": "markdown",
   "metadata": {},
   "source": [
    "Во всех тестах р-уровень значимости ожидаемо оказался сильно ниже критического значения. Конверсии в группах значимо различаются, и можно с уверенностью говорить о том, что в группе В все показатели конверсии в два раза ниже, чем в группе А."
   ]
  },
  {
   "cell_type": "markdown",
   "metadata": {},
   "source": [
    "## Вывод"
   ]
  },
  {
   "cell_type": "markdown",
   "metadata": {},
   "source": [
    "1. Тест по времени пересекался с крупным маркетинговым событием — Рождеством и Новым годом.\n",
    "2. 1602 пользователя участвовали в конкурирующих тестах.\n",
    "3. Мы отобрали только тех, которые удовлетворяют техническому заданию.\n",
    "4. Тест не удовлетворяет ТЗ — участников меньше, чем было заявлено, а также аудитория составляет 10% от новых пользователей из ЕС вместо 15%, требуемых по техническому заданию.\n",
    "5. С 14 по 21 декабря был резкий рост количества действий пользователей. После — спад к обычным значениям.\n",
    "6. Группа А больше группы В.\n",
    "7. Больше половины заказов стоили 5 долларов.\n",
    "8. Некоторые пользователи не заходят в корзину, а сразу оплачивают товар быстрым способом.\n",
    "9. Около 2/3 пользователей из группы В после регистрации больше не заходили на сайт. Возможно, это ошибка теста, а возможно, что-то из изменений им не понравилось.\n",
    "10. Из-за этого остальные метрики обвалились более чем в 2 раза.\n",
    "\n",
    "Тест был проведён некорректно, возможно, из-за этого возникла такая большая разница в конверсии.  \n",
    "Из последних двух пунктов можно сделать вывод, что **изменения рекомендательной системы ухудшили метрики продукта.**"
   ]
  }
 ],
 "metadata": {
  "ExecuteTimeLog": [
   {
    "duration": 13100,
    "start_time": "2022-01-11T08:32:23.374Z"
   },
   {
    "duration": 2442,
    "start_time": "2022-01-11T08:32:36.478Z"
   },
   {
    "duration": 726,
    "start_time": "2022-01-11T08:32:38.924Z"
   },
   {
    "duration": 7,
    "start_time": "2022-01-11T08:32:39.653Z"
   },
   {
    "duration": 7,
    "start_time": "2022-01-11T08:32:39.663Z"
   },
   {
    "duration": 853,
    "start_time": "2022-01-11T08:32:39.673Z"
   },
   {
    "duration": -6,
    "start_time": "2022-01-11T08:32:40.537Z"
   },
   {
    "duration": -8,
    "start_time": "2022-01-11T08:32:40.540Z"
   },
   {
    "duration": -10,
    "start_time": "2022-01-11T08:32:40.543Z"
   },
   {
    "duration": -10,
    "start_time": "2022-01-11T08:32:40.545Z"
   },
   {
    "duration": -12,
    "start_time": "2022-01-11T08:32:40.548Z"
   },
   {
    "duration": -13,
    "start_time": "2022-01-11T08:32:40.550Z"
   },
   {
    "duration": -15,
    "start_time": "2022-01-11T08:32:40.554Z"
   },
   {
    "duration": -17,
    "start_time": "2022-01-11T08:32:40.557Z"
   },
   {
    "duration": -18,
    "start_time": "2022-01-11T08:32:40.560Z"
   },
   {
    "duration": -19,
    "start_time": "2022-01-11T08:32:40.562Z"
   },
   {
    "duration": -21,
    "start_time": "2022-01-11T08:32:40.565Z"
   },
   {
    "duration": -21,
    "start_time": "2022-01-11T08:32:40.567Z"
   },
   {
    "duration": -22,
    "start_time": "2022-01-11T08:32:40.569Z"
   },
   {
    "duration": -24,
    "start_time": "2022-01-11T08:32:40.572Z"
   },
   {
    "duration": -24,
    "start_time": "2022-01-11T08:32:40.574Z"
   },
   {
    "duration": -24,
    "start_time": "2022-01-11T08:32:40.576Z"
   },
   {
    "duration": -32,
    "start_time": "2022-01-11T08:32:40.585Z"
   },
   {
    "duration": -33,
    "start_time": "2022-01-11T08:32:40.588Z"
   },
   {
    "duration": -35,
    "start_time": "2022-01-11T08:32:40.591Z"
   },
   {
    "duration": -35,
    "start_time": "2022-01-11T08:32:40.593Z"
   },
   {
    "duration": -37,
    "start_time": "2022-01-11T08:32:40.596Z"
   },
   {
    "duration": -38,
    "start_time": "2022-01-11T08:32:40.599Z"
   },
   {
    "duration": -39,
    "start_time": "2022-01-11T08:32:40.601Z"
   },
   {
    "duration": -41,
    "start_time": "2022-01-11T08:32:40.604Z"
   },
   {
    "duration": -41,
    "start_time": "2022-01-11T08:32:40.606Z"
   },
   {
    "duration": -42,
    "start_time": "2022-01-11T08:32:40.608Z"
   },
   {
    "duration": 13,
    "start_time": "2022-01-11T08:32:40.610Z"
   },
   {
    "duration": 6,
    "start_time": "2022-01-11T08:32:40.618Z"
   },
   {
    "duration": 5,
    "start_time": "2022-01-11T08:32:40.621Z"
   },
   {
    "duration": 3,
    "start_time": "2022-01-11T08:32:40.624Z"
   },
   {
    "duration": 2,
    "start_time": "2022-01-11T08:32:40.627Z"
   },
   {
    "duration": 1,
    "start_time": "2022-01-11T08:32:40.629Z"
   },
   {
    "duration": 0,
    "start_time": "2022-01-11T08:32:40.632Z"
   },
   {
    "duration": 16373,
    "start_time": "2022-01-11T08:33:13.210Z"
   },
   {
    "duration": 3627,
    "start_time": "2022-01-11T08:33:29.586Z"
   },
   {
    "duration": 688,
    "start_time": "2022-01-11T08:33:33.217Z"
   },
   {
    "duration": 5,
    "start_time": "2022-01-11T08:33:33.908Z"
   },
   {
    "duration": 9,
    "start_time": "2022-01-11T08:33:33.916Z"
   },
   {
    "duration": 1227,
    "start_time": "2022-01-11T08:33:33.927Z"
   },
   {
    "duration": 230,
    "start_time": "2022-01-11T08:33:35.157Z"
   },
   {
    "duration": 1702,
    "start_time": "2022-01-11T08:33:35.391Z"
   },
   {
    "duration": 3,
    "start_time": "2022-01-11T08:33:37.097Z"
   },
   {
    "duration": 36,
    "start_time": "2022-01-11T08:33:37.102Z"
   },
   {
    "duration": 205,
    "start_time": "2022-01-11T08:33:37.142Z"
   },
   {
    "duration": 13,
    "start_time": "2022-01-11T08:33:37.349Z"
   },
   {
    "duration": 13,
    "start_time": "2022-01-11T08:33:37.365Z"
   },
   {
    "duration": 42,
    "start_time": "2022-01-11T08:33:37.381Z"
   },
   {
    "duration": 4,
    "start_time": "2022-01-11T08:33:37.425Z"
   },
   {
    "duration": 13,
    "start_time": "2022-01-11T08:33:37.431Z"
   },
   {
    "duration": 14,
    "start_time": "2022-01-11T08:33:37.447Z"
   },
   {
    "duration": 21,
    "start_time": "2022-01-11T08:33:37.464Z"
   },
   {
    "duration": 37,
    "start_time": "2022-01-11T08:33:37.487Z"
   },
   {
    "duration": 21,
    "start_time": "2022-01-11T08:33:37.527Z"
   },
   {
    "duration": 10,
    "start_time": "2022-01-11T08:33:37.551Z"
   },
   {
    "duration": 104,
    "start_time": "2022-01-11T08:33:37.564Z"
   },
   {
    "duration": 22,
    "start_time": "2022-01-11T08:33:37.675Z"
   },
   {
    "duration": 2399,
    "start_time": "2022-01-11T08:33:37.700Z"
   },
   {
    "duration": -28,
    "start_time": "2022-01-11T08:33:40.131Z"
   },
   {
    "duration": -28,
    "start_time": "2022-01-11T08:33:40.133Z"
   },
   {
    "duration": -29,
    "start_time": "2022-01-11T08:33:40.136Z"
   },
   {
    "duration": -28,
    "start_time": "2022-01-11T08:33:40.138Z"
   },
   {
    "duration": -17,
    "start_time": "2022-01-11T08:33:40.141Z"
   },
   {
    "duration": -18,
    "start_time": "2022-01-11T08:33:40.144Z"
   },
   {
    "duration": -18,
    "start_time": "2022-01-11T08:33:40.146Z"
   },
   {
    "duration": -18,
    "start_time": "2022-01-11T08:33:40.148Z"
   },
   {
    "duration": -26,
    "start_time": "2022-01-11T08:33:40.158Z"
   },
   {
    "duration": -26,
    "start_time": "2022-01-11T08:33:40.160Z"
   },
   {
    "duration": -26,
    "start_time": "2022-01-11T08:33:40.162Z"
   },
   {
    "duration": -26,
    "start_time": "2022-01-11T08:33:40.164Z"
   },
   {
    "duration": -26,
    "start_time": "2022-01-11T08:33:40.167Z"
   },
   {
    "duration": -26,
    "start_time": "2022-01-11T08:33:40.169Z"
   },
   {
    "duration": -26,
    "start_time": "2022-01-11T08:33:40.171Z"
   },
   {
    "duration": 13208,
    "start_time": "2022-01-11T08:34:10.455Z"
   },
   {
    "duration": 2259,
    "start_time": "2022-01-11T08:34:23.666Z"
   },
   {
    "duration": 872,
    "start_time": "2022-01-11T08:34:25.928Z"
   },
   {
    "duration": 5,
    "start_time": "2022-01-11T08:34:26.803Z"
   },
   {
    "duration": 7,
    "start_time": "2022-01-11T08:34:26.811Z"
   },
   {
    "duration": 1551,
    "start_time": "2022-01-11T08:34:26.824Z"
   },
   {
    "duration": 256,
    "start_time": "2022-01-11T08:34:28.378Z"
   },
   {
    "duration": 805,
    "start_time": "2022-01-11T08:34:28.636Z"
   },
   {
    "duration": 3,
    "start_time": "2022-01-11T08:34:29.446Z"
   },
   {
    "duration": 31,
    "start_time": "2022-01-11T08:34:29.452Z"
   },
   {
    "duration": 37,
    "start_time": "2022-01-11T08:34:29.486Z"
   },
   {
    "duration": 15,
    "start_time": "2022-01-11T08:34:29.526Z"
   },
   {
    "duration": 15,
    "start_time": "2022-01-11T08:34:29.544Z"
   },
   {
    "duration": 29,
    "start_time": "2022-01-11T08:34:29.562Z"
   },
   {
    "duration": 30,
    "start_time": "2022-01-11T08:34:29.594Z"
   },
   {
    "duration": 15,
    "start_time": "2022-01-11T08:34:29.627Z"
   },
   {
    "duration": 14,
    "start_time": "2022-01-11T08:34:29.645Z"
   },
   {
    "duration": 14,
    "start_time": "2022-01-11T08:34:29.661Z"
   },
   {
    "duration": 10,
    "start_time": "2022-01-11T08:34:29.677Z"
   },
   {
    "duration": 47,
    "start_time": "2022-01-11T08:34:29.690Z"
   },
   {
    "duration": 8,
    "start_time": "2022-01-11T08:34:29.739Z"
   },
   {
    "duration": 88,
    "start_time": "2022-01-11T08:34:29.749Z"
   },
   {
    "duration": 21,
    "start_time": "2022-01-11T08:34:29.839Z"
   },
   {
    "duration": 4283,
    "start_time": "2022-01-11T08:34:29.862Z"
   },
   {
    "duration": 10,
    "start_time": "2022-01-11T08:34:34.148Z"
   },
   {
    "duration": 445,
    "start_time": "2022-01-11T08:34:34.160Z"
   },
   {
    "duration": 413,
    "start_time": "2022-01-11T08:34:34.611Z"
   },
   {
    "duration": 27,
    "start_time": "2022-01-11T08:34:35.027Z"
   },
   {
    "duration": 10,
    "start_time": "2022-01-11T08:34:35.056Z"
   },
   {
    "duration": 86,
    "start_time": "2022-01-11T08:34:35.068Z"
   },
   {
    "duration": 8,
    "start_time": "2022-01-11T08:34:35.156Z"
   },
   {
    "duration": 9,
    "start_time": "2022-01-11T08:34:35.167Z"
   },
   {
    "duration": 10,
    "start_time": "2022-01-11T08:34:35.178Z"
   },
   {
    "duration": 7,
    "start_time": "2022-01-11T08:34:35.190Z"
   },
   {
    "duration": 35,
    "start_time": "2022-01-11T08:34:35.200Z"
   },
   {
    "duration": 12,
    "start_time": "2022-01-11T08:34:35.239Z"
   },
   {
    "duration": 24,
    "start_time": "2022-01-11T08:34:35.254Z"
   },
   {
    "duration": 10,
    "start_time": "2022-01-11T08:34:35.281Z"
   },
   {
    "duration": 37,
    "start_time": "2022-01-11T08:34:35.294Z"
   },
   {
    "duration": 27399,
    "start_time": "2022-01-12T08:53:07.145Z"
   },
   {
    "duration": 2596,
    "start_time": "2022-01-12T08:53:34.547Z"
   },
   {
    "duration": 733,
    "start_time": "2022-01-12T08:53:37.150Z"
   },
   {
    "duration": 6,
    "start_time": "2022-01-12T08:53:37.886Z"
   },
   {
    "duration": 6,
    "start_time": "2022-01-12T08:53:37.895Z"
   },
   {
    "duration": 1387,
    "start_time": "2022-01-12T08:53:37.904Z"
   },
   {
    "duration": 232,
    "start_time": "2022-01-12T08:53:39.322Z"
   },
   {
    "duration": 829,
    "start_time": "2022-01-12T08:53:39.557Z"
   },
   {
    "duration": 4,
    "start_time": "2022-01-12T08:53:40.416Z"
   },
   {
    "duration": 23,
    "start_time": "2022-01-12T08:53:40.422Z"
   },
   {
    "duration": 15,
    "start_time": "2022-01-12T08:53:40.448Z"
   },
   {
    "duration": 52,
    "start_time": "2022-01-12T08:53:40.467Z"
   },
   {
    "duration": 13,
    "start_time": "2022-01-12T08:53:40.521Z"
   },
   {
    "duration": 35,
    "start_time": "2022-01-12T08:53:40.537Z"
   },
   {
    "duration": 45,
    "start_time": "2022-01-12T08:53:40.575Z"
   },
   {
    "duration": 10,
    "start_time": "2022-01-12T08:53:40.624Z"
   },
   {
    "duration": 14,
    "start_time": "2022-01-12T08:53:40.637Z"
   },
   {
    "duration": 10,
    "start_time": "2022-01-12T08:53:40.655Z"
   },
   {
    "duration": 9,
    "start_time": "2022-01-12T08:53:40.717Z"
   },
   {
    "duration": 28,
    "start_time": "2022-01-12T08:53:40.730Z"
   },
   {
    "duration": 5,
    "start_time": "2022-01-12T08:53:40.761Z"
   },
   {
    "duration": 104,
    "start_time": "2022-01-12T08:53:40.772Z"
   },
   {
    "duration": 40,
    "start_time": "2022-01-12T08:53:40.879Z"
   },
   {
    "duration": 5533,
    "start_time": "2022-01-12T08:53:40.921Z"
   },
   {
    "duration": 68,
    "start_time": "2022-01-12T08:53:46.458Z"
   },
   {
    "duration": 631,
    "start_time": "2022-01-12T08:53:46.529Z"
   },
   {
    "duration": 758,
    "start_time": "2022-01-12T08:53:47.162Z"
   },
   {
    "duration": 25,
    "start_time": "2022-01-12T08:53:47.923Z"
   },
   {
    "duration": 10,
    "start_time": "2022-01-12T08:53:47.950Z"
   },
   {
    "duration": 127,
    "start_time": "2022-01-12T08:53:47.963Z"
   },
   {
    "duration": 27,
    "start_time": "2022-01-12T08:53:48.093Z"
   },
   {
    "duration": 6,
    "start_time": "2022-01-12T08:53:48.123Z"
   },
   {
    "duration": 10,
    "start_time": "2022-01-12T08:53:48.132Z"
   },
   {
    "duration": 8,
    "start_time": "2022-01-12T08:53:48.145Z"
   },
   {
    "duration": 16,
    "start_time": "2022-01-12T08:53:48.156Z"
   },
   {
    "duration": 6,
    "start_time": "2022-01-12T08:53:48.217Z"
   },
   {
    "duration": 12,
    "start_time": "2022-01-12T08:53:48.226Z"
   },
   {
    "duration": 6,
    "start_time": "2022-01-12T08:53:48.241Z"
   },
   {
    "duration": 7,
    "start_time": "2022-01-12T08:53:48.250Z"
   },
   {
    "duration": 23,
    "start_time": "2022-01-12T08:55:54.439Z"
   },
   {
    "duration": 20,
    "start_time": "2022-01-12T09:22:19.036Z"
   },
   {
    "duration": 18,
    "start_time": "2022-01-12T09:23:16.908Z"
   },
   {
    "duration": 14,
    "start_time": "2022-01-12T09:23:32.841Z"
   },
   {
    "duration": 23,
    "start_time": "2022-01-12T09:31:07.109Z"
   },
   {
    "duration": 16,
    "start_time": "2022-01-12T09:31:30.013Z"
   },
   {
    "duration": 5,
    "start_time": "2022-01-12T09:31:43.727Z"
   },
   {
    "duration": 13,
    "start_time": "2022-01-12T11:45:11.189Z"
   },
   {
    "duration": 18,
    "start_time": "2022-01-12T11:45:19.657Z"
   },
   {
    "duration": 18,
    "start_time": "2022-01-12T11:45:37.229Z"
   },
   {
    "duration": 13,
    "start_time": "2022-01-12T11:45:43.736Z"
   },
   {
    "duration": 4,
    "start_time": "2022-01-12T11:48:43.542Z"
   },
   {
    "duration": 18,
    "start_time": "2022-01-12T11:49:13.944Z"
   },
   {
    "duration": 14,
    "start_time": "2022-01-12T11:49:21.405Z"
   },
   {
    "duration": 17,
    "start_time": "2022-01-12T11:49:34.516Z"
   },
   {
    "duration": 19,
    "start_time": "2022-01-12T11:49:55.983Z"
   },
   {
    "duration": 60,
    "start_time": "2022-01-12T11:51:39.481Z"
   },
   {
    "duration": 52,
    "start_time": "2022-01-12T11:52:29.104Z"
   },
   {
    "duration": 6,
    "start_time": "2022-01-12T11:53:26.143Z"
   },
   {
    "duration": 18,
    "start_time": "2022-01-12T11:53:35.750Z"
   },
   {
    "duration": 5,
    "start_time": "2022-01-12T11:53:47.047Z"
   },
   {
    "duration": 5,
    "start_time": "2022-01-12T11:53:57.229Z"
   },
   {
    "duration": 19,
    "start_time": "2022-01-12T11:54:44.850Z"
   },
   {
    "duration": 42,
    "start_time": "2022-01-12T11:54:52.658Z"
   },
   {
    "duration": 19,
    "start_time": "2022-01-12T11:56:38.103Z"
   },
   {
    "duration": 17,
    "start_time": "2022-01-12T11:56:43.913Z"
   },
   {
    "duration": 38,
    "start_time": "2022-01-12T11:56:59.373Z"
   },
   {
    "duration": 62,
    "start_time": "2022-01-12T11:57:16.104Z"
   },
   {
    "duration": 7,
    "start_time": "2022-01-12T11:57:25.411Z"
   },
   {
    "duration": 6,
    "start_time": "2022-01-12T11:57:31.774Z"
   },
   {
    "duration": 25,
    "start_time": "2022-01-12T11:58:51.644Z"
   },
   {
    "duration": 64,
    "start_time": "2022-01-12T11:59:23.011Z"
   },
   {
    "duration": 64,
    "start_time": "2022-01-12T11:59:28.328Z"
   },
   {
    "duration": 95,
    "start_time": "2022-01-12T12:01:56.743Z"
   },
   {
    "duration": 302,
    "start_time": "2022-01-12T12:02:18.251Z"
   },
   {
    "duration": 286,
    "start_time": "2022-01-12T12:03:09.925Z"
   },
   {
    "duration": 31,
    "start_time": "2022-01-12T12:05:54.529Z"
   },
   {
    "duration": 30,
    "start_time": "2022-01-12T12:06:13.299Z"
   },
   {
    "duration": 1102,
    "start_time": "2022-01-12T13:17:52.960Z"
   },
   {
    "duration": 26259,
    "start_time": "2022-01-12T13:18:13.261Z"
   },
   {
    "duration": 4326,
    "start_time": "2022-01-12T13:18:39.524Z"
   },
   {
    "duration": 756,
    "start_time": "2022-01-12T13:18:43.854Z"
   },
   {
    "duration": 6,
    "start_time": "2022-01-12T13:18:44.613Z"
   },
   {
    "duration": 151,
    "start_time": "2022-01-12T13:18:44.621Z"
   },
   {
    "duration": 1692,
    "start_time": "2022-01-12T13:18:44.775Z"
   },
   {
    "duration": 247,
    "start_time": "2022-01-12T13:18:46.470Z"
   },
   {
    "duration": 891,
    "start_time": "2022-01-12T13:18:46.719Z"
   },
   {
    "duration": 3,
    "start_time": "2022-01-12T13:18:47.614Z"
   },
   {
    "duration": 50,
    "start_time": "2022-01-12T13:18:47.621Z"
   },
   {
    "duration": 55,
    "start_time": "2022-01-12T13:18:47.674Z"
   },
   {
    "duration": 34,
    "start_time": "2022-01-12T13:18:47.732Z"
   },
   {
    "duration": 35,
    "start_time": "2022-01-12T13:18:47.768Z"
   },
   {
    "duration": 41,
    "start_time": "2022-01-12T13:18:47.805Z"
   },
   {
    "duration": 44,
    "start_time": "2022-01-12T13:18:47.848Z"
   },
   {
    "duration": 21,
    "start_time": "2022-01-12T13:18:47.895Z"
   },
   {
    "duration": 19,
    "start_time": "2022-01-12T13:18:47.918Z"
   },
   {
    "duration": 29,
    "start_time": "2022-01-12T13:18:47.939Z"
   },
   {
    "duration": 40,
    "start_time": "2022-01-12T13:18:47.970Z"
   },
   {
    "duration": 36,
    "start_time": "2022-01-12T13:18:48.012Z"
   },
   {
    "duration": 16,
    "start_time": "2022-01-12T13:18:48.051Z"
   },
   {
    "duration": 7,
    "start_time": "2022-01-12T13:19:12.862Z"
   },
   {
    "duration": 107,
    "start_time": "2022-01-12T13:19:34.723Z"
   },
   {
    "duration": 21,
    "start_time": "2022-01-12T13:22:55.143Z"
   },
   {
    "duration": 5,
    "start_time": "2022-01-12T13:23:03.161Z"
   },
   {
    "duration": 28,
    "start_time": "2022-01-12T13:23:17.286Z"
   },
   {
    "duration": 31,
    "start_time": "2022-01-12T13:23:28.774Z"
   },
   {
    "duration": 16,
    "start_time": "2022-01-12T13:24:45.916Z"
   },
   {
    "duration": 40,
    "start_time": "2022-01-12T13:24:57.259Z"
   },
   {
    "duration": 28,
    "start_time": "2022-01-12T13:25:20.650Z"
   },
   {
    "duration": 29,
    "start_time": "2022-01-12T13:28:15.737Z"
   },
   {
    "duration": 27,
    "start_time": "2022-01-12T13:28:25.948Z"
   },
   {
    "duration": 70,
    "start_time": "2022-01-12T13:30:58.111Z"
   },
   {
    "duration": 22,
    "start_time": "2022-01-12T13:30:59.601Z"
   },
   {
    "duration": 4099,
    "start_time": "2022-01-12T13:31:03.224Z"
   },
   {
    "duration": 102,
    "start_time": "2022-01-12T13:33:35.966Z"
   },
   {
    "duration": 7,
    "start_time": "2022-01-12T13:35:10.554Z"
   },
   {
    "duration": 21,
    "start_time": "2022-01-12T13:35:35.539Z"
   },
   {
    "duration": 14,
    "start_time": "2022-01-12T13:35:56.873Z"
   },
   {
    "duration": 31,
    "start_time": "2022-01-12T13:37:04.517Z"
   },
   {
    "duration": 100,
    "start_time": "2022-01-12T13:37:32.251Z"
   },
   {
    "duration": 99,
    "start_time": "2022-01-12T13:38:12.985Z"
   },
   {
    "duration": 11,
    "start_time": "2022-01-12T13:40:30.452Z"
   },
   {
    "duration": 549,
    "start_time": "2022-01-12T13:40:33.495Z"
   },
   {
    "duration": 468,
    "start_time": "2022-01-12T13:40:37.472Z"
   },
   {
    "duration": 26,
    "start_time": "2022-01-12T13:40:40.879Z"
   },
   {
    "duration": 10,
    "start_time": "2022-01-12T13:40:41.704Z"
   },
   {
    "duration": 30,
    "start_time": "2022-01-12T13:43:10.848Z"
   },
   {
    "duration": 15,
    "start_time": "2022-01-12T13:43:21.687Z"
   },
   {
    "duration": 141,
    "start_time": "2022-01-12T13:43:51.868Z"
   },
   {
    "duration": 404,
    "start_time": "2022-01-12T13:44:08.277Z"
   },
   {
    "duration": 9,
    "start_time": "2022-01-12T13:44:13.848Z"
   },
   {
    "duration": 5,
    "start_time": "2022-01-12T13:45:30.162Z"
   },
   {
    "duration": 339,
    "start_time": "2022-01-12T13:45:50.582Z"
   },
   {
    "duration": 369,
    "start_time": "2022-01-12T13:46:02.151Z"
   },
   {
    "duration": 300,
    "start_time": "2022-01-12T13:46:28.442Z"
   },
   {
    "duration": 326,
    "start_time": "2022-01-12T13:47:01.288Z"
   },
   {
    "duration": 326,
    "start_time": "2022-01-12T13:47:07.540Z"
   },
   {
    "duration": 10,
    "start_time": "2022-01-12T13:47:27.921Z"
   },
   {
    "duration": 415,
    "start_time": "2022-01-12T13:47:45.873Z"
   },
   {
    "duration": 12,
    "start_time": "2022-01-12T13:47:52.503Z"
   },
   {
    "duration": 13,
    "start_time": "2022-01-12T13:48:07.365Z"
   },
   {
    "duration": 28,
    "start_time": "2022-01-12T13:48:48.469Z"
   },
   {
    "duration": 38,
    "start_time": "2022-01-12T13:49:04.731Z"
   },
   {
    "duration": 44,
    "start_time": "2022-01-12T13:49:44.383Z"
   },
   {
    "duration": 12,
    "start_time": "2022-01-12T13:49:47.120Z"
   },
   {
    "duration": 6,
    "start_time": "2022-01-12T13:49:52.528Z"
   },
   {
    "duration": 137,
    "start_time": "2022-01-12T13:50:22.050Z"
   },
   {
    "duration": 11,
    "start_time": "2022-01-12T13:50:40.771Z"
   },
   {
    "duration": 105,
    "start_time": "2022-01-12T13:51:07.816Z"
   },
   {
    "duration": 9,
    "start_time": "2022-01-12T13:51:45.635Z"
   },
   {
    "duration": 9,
    "start_time": "2022-01-12T13:52:12.977Z"
   },
   {
    "duration": 4,
    "start_time": "2022-01-12T13:54:06.623Z"
   },
   {
    "duration": 6,
    "start_time": "2022-01-12T13:54:20.253Z"
   },
   {
    "duration": 7,
    "start_time": "2022-01-12T13:54:30.863Z"
   },
   {
    "duration": 9,
    "start_time": "2022-01-12T13:54:42.798Z"
   },
   {
    "duration": 10,
    "start_time": "2022-01-12T13:57:23.321Z"
   },
   {
    "duration": 10,
    "start_time": "2022-01-12T13:57:28.770Z"
   },
   {
    "duration": 9,
    "start_time": "2022-01-12T13:59:20.986Z"
   },
   {
    "duration": 25,
    "start_time": "2022-01-12T13:59:38.845Z"
   },
   {
    "duration": 9,
    "start_time": "2022-01-12T13:59:39.912Z"
   },
   {
    "duration": 45,
    "start_time": "2022-01-12T13:59:41.644Z"
   },
   {
    "duration": 6,
    "start_time": "2022-01-12T13:59:42.258Z"
   },
   {
    "duration": 8,
    "start_time": "2022-01-12T13:59:42.631Z"
   },
   {
    "duration": 10,
    "start_time": "2022-01-12T13:59:48.348Z"
   },
   {
    "duration": 8,
    "start_time": "2022-01-12T13:59:51.357Z"
   },
   {
    "duration": 19,
    "start_time": "2022-01-12T14:00:19.111Z"
   },
   {
    "duration": 17,
    "start_time": "2022-01-12T14:00:21.566Z"
   },
   {
    "duration": 4275,
    "start_time": "2022-01-12T14:01:33.394Z"
   },
   {
    "duration": -89,
    "start_time": "2022-01-12T14:01:37.761Z"
   },
   {
    "duration": 28,
    "start_time": "2022-01-12T14:01:52.545Z"
   },
   {
    "duration": 8,
    "start_time": "2022-01-12T14:01:53.295Z"
   },
   {
    "duration": 50,
    "start_time": "2022-01-12T14:02:00.122Z"
   },
   {
    "duration": 6,
    "start_time": "2022-01-12T14:02:00.225Z"
   },
   {
    "duration": 13,
    "start_time": "2022-01-12T14:02:00.381Z"
   },
   {
    "duration": 9,
    "start_time": "2022-01-12T14:02:06.687Z"
   },
   {
    "duration": 3999,
    "start_time": "2022-01-12T14:02:09.182Z"
   },
   {
    "duration": 9,
    "start_time": "2022-01-12T14:02:15.457Z"
   },
   {
    "duration": 6,
    "start_time": "2022-01-12T14:05:03.133Z"
   },
   {
    "duration": 10,
    "start_time": "2022-01-12T14:05:30.931Z"
   },
   {
    "duration": 12,
    "start_time": "2022-01-12T14:06:02.758Z"
   },
   {
    "duration": 11,
    "start_time": "2022-01-12T14:06:05.222Z"
   },
   {
    "duration": 10,
    "start_time": "2022-01-12T14:06:42.768Z"
   },
   {
    "duration": 410,
    "start_time": "2022-01-12T14:07:20.535Z"
   },
   {
    "duration": 27,
    "start_time": "2022-01-12T14:07:41.137Z"
   },
   {
    "duration": 9,
    "start_time": "2022-01-12T14:07:42.314Z"
   },
   {
    "duration": 46,
    "start_time": "2022-01-12T14:07:43.376Z"
   },
   {
    "duration": 6,
    "start_time": "2022-01-12T14:07:43.553Z"
   },
   {
    "duration": 10,
    "start_time": "2022-01-12T14:07:43.742Z"
   },
   {
    "duration": 31,
    "start_time": "2022-01-12T14:07:45.758Z"
   },
   {
    "duration": 57,
    "start_time": "2022-01-12T14:07:47.052Z"
   },
   {
    "duration": 9,
    "start_time": "2022-01-12T14:07:48.507Z"
   },
   {
    "duration": 16,
    "start_time": "2022-01-12T14:07:49.450Z"
   },
   {
    "duration": 17,
    "start_time": "2022-01-12T14:07:52.458Z"
   },
   {
    "duration": 25,
    "start_time": "2022-01-12T14:08:09.171Z"
   },
   {
    "duration": 9,
    "start_time": "2022-01-12T14:08:09.605Z"
   },
   {
    "duration": 65,
    "start_time": "2022-01-12T14:08:09.946Z"
   },
   {
    "duration": 8,
    "start_time": "2022-01-12T14:08:10.459Z"
   },
   {
    "duration": 13,
    "start_time": "2022-01-12T14:08:10.652Z"
   },
   {
    "duration": 29,
    "start_time": "2022-01-12T14:08:11.818Z"
   },
   {
    "duration": 65,
    "start_time": "2022-01-12T14:08:13.078Z"
   },
   {
    "duration": 10,
    "start_time": "2022-01-12T14:08:15.262Z"
   },
   {
    "duration": 353,
    "start_time": "2022-01-12T14:09:00.485Z"
   },
   {
    "duration": 14,
    "start_time": "2022-01-12T14:09:05.972Z"
   },
   {
    "duration": 11,
    "start_time": "2022-01-12T14:09:53.682Z"
   },
   {
    "duration": 11,
    "start_time": "2022-01-12T14:09:54.659Z"
   },
   {
    "duration": 8,
    "start_time": "2022-01-12T14:10:30.358Z"
   },
   {
    "duration": 12,
    "start_time": "2022-01-12T14:11:18.042Z"
   },
   {
    "duration": 20,
    "start_time": "2022-01-12T14:11:19.962Z"
   },
   {
    "duration": 11,
    "start_time": "2022-01-12T14:11:33.807Z"
   },
   {
    "duration": 11,
    "start_time": "2022-01-12T14:11:35.245Z"
   },
   {
    "duration": 6,
    "start_time": "2022-01-12T14:12:34.942Z"
   },
   {
    "duration": 14,
    "start_time": "2022-01-12T14:12:36.337Z"
   },
   {
    "duration": 5,
    "start_time": "2022-01-12T14:19:08.743Z"
   },
   {
    "duration": 600,
    "start_time": "2022-01-12T14:19:16.601Z"
   },
   {
    "duration": 6,
    "start_time": "2022-01-12T14:19:32.720Z"
   },
   {
    "duration": 8,
    "start_time": "2022-01-12T14:19:34.975Z"
   },
   {
    "duration": 15,
    "start_time": "2022-01-12T14:20:24.383Z"
   },
   {
    "duration": 105,
    "start_time": "2022-01-12T14:20:50.042Z"
   },
   {
    "duration": 10,
    "start_time": "2022-01-12T14:20:52.843Z"
   },
   {
    "duration": 112,
    "start_time": "2022-01-12T14:22:56.918Z"
   },
   {
    "duration": 13,
    "start_time": "2022-01-12T14:23:00.477Z"
   },
   {
    "duration": 7,
    "start_time": "2022-01-12T14:24:10.463Z"
   },
   {
    "duration": 12,
    "start_time": "2022-01-12T14:24:13.029Z"
   },
   {
    "duration": 38,
    "start_time": "2022-01-12T14:32:42.157Z"
   },
   {
    "duration": 4,
    "start_time": "2022-01-12T14:33:04.123Z"
   },
   {
    "duration": 12264,
    "start_time": "2022-01-12T14:33:14.689Z"
   },
   {
    "duration": 2532,
    "start_time": "2022-01-12T14:33:26.956Z"
   },
   {
    "duration": 810,
    "start_time": "2022-01-12T14:33:29.491Z"
   },
   {
    "duration": 6,
    "start_time": "2022-01-12T14:33:30.304Z"
   },
   {
    "duration": 25,
    "start_time": "2022-01-12T14:33:30.312Z"
   },
   {
    "duration": 1508,
    "start_time": "2022-01-12T14:33:30.339Z"
   },
   {
    "duration": 276,
    "start_time": "2022-01-12T14:33:31.849Z"
   },
   {
    "duration": 902,
    "start_time": "2022-01-12T14:33:32.130Z"
   },
   {
    "duration": 3,
    "start_time": "2022-01-12T14:33:33.035Z"
   },
   {
    "duration": 45,
    "start_time": "2022-01-12T14:33:33.040Z"
   },
   {
    "duration": 17,
    "start_time": "2022-01-12T14:33:33.088Z"
   },
   {
    "duration": 11,
    "start_time": "2022-01-12T14:33:33.108Z"
   },
   {
    "duration": 13,
    "start_time": "2022-01-12T14:33:33.122Z"
   },
   {
    "duration": 60,
    "start_time": "2022-01-12T14:33:33.137Z"
   },
   {
    "duration": 3,
    "start_time": "2022-01-12T14:33:33.200Z"
   },
   {
    "duration": 9,
    "start_time": "2022-01-12T14:33:33.205Z"
   },
   {
    "duration": 11,
    "start_time": "2022-01-12T14:33:33.217Z"
   },
   {
    "duration": 16,
    "start_time": "2022-01-12T14:33:33.268Z"
   },
   {
    "duration": 10,
    "start_time": "2022-01-12T14:33:33.287Z"
   },
   {
    "duration": 26,
    "start_time": "2022-01-12T14:33:33.300Z"
   },
   {
    "duration": 6,
    "start_time": "2022-01-12T14:33:33.329Z"
   },
   {
    "duration": 107,
    "start_time": "2022-01-12T14:33:33.337Z"
   },
   {
    "duration": 34,
    "start_time": "2022-01-12T14:33:33.448Z"
   },
   {
    "duration": 30,
    "start_time": "2022-01-12T14:33:33.485Z"
   },
   {
    "duration": 4347,
    "start_time": "2022-01-12T14:33:33.517Z"
   },
   {
    "duration": 38,
    "start_time": "2022-01-12T14:33:37.867Z"
   },
   {
    "duration": 10,
    "start_time": "2022-01-12T14:33:37.907Z"
   },
   {
    "duration": 441,
    "start_time": "2022-01-12T14:33:37.920Z"
   },
   {
    "duration": 512,
    "start_time": "2022-01-12T14:33:38.377Z"
   },
   {
    "duration": 26,
    "start_time": "2022-01-12T14:33:38.892Z"
   },
   {
    "duration": 9,
    "start_time": "2022-01-12T14:33:38.921Z"
   },
   {
    "duration": 6,
    "start_time": "2022-01-12T14:33:38.932Z"
   },
   {
    "duration": 10,
    "start_time": "2022-01-12T14:33:38.971Z"
   },
   {
    "duration": 19,
    "start_time": "2022-01-12T14:33:38.984Z"
   },
   {
    "duration": 31,
    "start_time": "2022-01-12T14:33:39.005Z"
   },
   {
    "duration": 82,
    "start_time": "2022-01-12T14:33:39.038Z"
   },
   {
    "duration": 13,
    "start_time": "2022-01-12T14:33:39.123Z"
   },
   {
    "duration": 39,
    "start_time": "2022-01-12T14:33:39.138Z"
   },
   {
    "duration": 8,
    "start_time": "2022-01-12T14:33:39.181Z"
   },
   {
    "duration": 20,
    "start_time": "2022-01-12T14:33:39.191Z"
   },
   {
    "duration": 11,
    "start_time": "2022-01-12T14:33:39.214Z"
   },
   {
    "duration": 41,
    "start_time": "2022-01-12T14:33:39.228Z"
   },
   {
    "duration": 6,
    "start_time": "2022-01-12T14:41:23.824Z"
   },
   {
    "duration": 8,
    "start_time": "2022-01-12T14:41:25.620Z"
   },
   {
    "duration": 12243,
    "start_time": "2022-01-12T14:42:43.877Z"
   },
   {
    "duration": 2412,
    "start_time": "2022-01-12T14:42:56.123Z"
   },
   {
    "duration": 821,
    "start_time": "2022-01-12T14:42:58.538Z"
   },
   {
    "duration": 6,
    "start_time": "2022-01-12T14:42:59.362Z"
   },
   {
    "duration": 18,
    "start_time": "2022-01-12T14:42:59.372Z"
   },
   {
    "duration": 1555,
    "start_time": "2022-01-12T14:42:59.393Z"
   },
   {
    "duration": 262,
    "start_time": "2022-01-12T14:43:00.951Z"
   },
   {
    "duration": 962,
    "start_time": "2022-01-12T14:43:01.217Z"
   },
   {
    "duration": 3,
    "start_time": "2022-01-12T14:43:02.182Z"
   },
   {
    "duration": 34,
    "start_time": "2022-01-12T14:43:02.188Z"
   },
   {
    "duration": 24,
    "start_time": "2022-01-12T14:43:02.225Z"
   },
   {
    "duration": 22,
    "start_time": "2022-01-12T14:43:02.251Z"
   },
   {
    "duration": 21,
    "start_time": "2022-01-12T14:43:02.276Z"
   },
   {
    "duration": 35,
    "start_time": "2022-01-12T14:43:02.301Z"
   },
   {
    "duration": 3,
    "start_time": "2022-01-12T14:43:02.338Z"
   },
   {
    "duration": 31,
    "start_time": "2022-01-12T14:43:02.344Z"
   },
   {
    "duration": 26,
    "start_time": "2022-01-12T14:43:02.377Z"
   },
   {
    "duration": 15,
    "start_time": "2022-01-12T14:43:02.406Z"
   },
   {
    "duration": 13,
    "start_time": "2022-01-12T14:43:02.423Z"
   },
   {
    "duration": 42,
    "start_time": "2022-01-12T14:43:02.438Z"
   },
   {
    "duration": 5,
    "start_time": "2022-01-12T14:43:02.482Z"
   },
   {
    "duration": 82,
    "start_time": "2022-01-12T14:43:02.489Z"
   },
   {
    "duration": 23,
    "start_time": "2022-01-12T14:43:02.586Z"
   },
   {
    "duration": 27,
    "start_time": "2022-01-12T14:43:02.613Z"
   },
   {
    "duration": 4207,
    "start_time": "2022-01-12T14:43:02.643Z"
   },
   {
    "duration": 48,
    "start_time": "2022-01-12T14:43:06.853Z"
   },
   {
    "duration": 11,
    "start_time": "2022-01-12T14:43:06.904Z"
   },
   {
    "duration": 475,
    "start_time": "2022-01-12T14:43:06.918Z"
   },
   {
    "duration": 575,
    "start_time": "2022-01-12T14:43:07.396Z"
   },
   {
    "duration": 30,
    "start_time": "2022-01-12T14:43:07.974Z"
   },
   {
    "duration": 10,
    "start_time": "2022-01-12T14:43:08.007Z"
   },
   {
    "duration": 6,
    "start_time": "2022-01-12T14:43:08.020Z"
   },
   {
    "duration": 42,
    "start_time": "2022-01-12T14:43:08.029Z"
   },
   {
    "duration": 15,
    "start_time": "2022-01-12T14:43:08.074Z"
   },
   {
    "duration": 32,
    "start_time": "2022-01-12T14:43:08.092Z"
   },
   {
    "duration": 88,
    "start_time": "2022-01-12T14:43:08.126Z"
   },
   {
    "duration": 13,
    "start_time": "2022-01-12T14:43:08.216Z"
   },
   {
    "duration": 40,
    "start_time": "2022-01-12T14:43:08.231Z"
   },
   {
    "duration": 9,
    "start_time": "2022-01-12T14:43:08.275Z"
   },
   {
    "duration": 18,
    "start_time": "2022-01-12T14:43:08.287Z"
   },
   {
    "duration": 10,
    "start_time": "2022-01-12T14:43:08.307Z"
   },
   {
    "duration": 13,
    "start_time": "2022-01-12T14:43:08.319Z"
   },
   {
    "duration": 20375,
    "start_time": "2022-01-13T04:36:18.219Z"
   },
   {
    "duration": 2245,
    "start_time": "2022-01-13T04:36:38.596Z"
   },
   {
    "duration": 812,
    "start_time": "2022-01-13T04:36:40.843Z"
   },
   {
    "duration": 3,
    "start_time": "2022-01-13T04:36:41.657Z"
   },
   {
    "duration": 6,
    "start_time": "2022-01-13T04:36:41.662Z"
   },
   {
    "duration": 895,
    "start_time": "2022-01-13T04:36:41.669Z"
   },
   {
    "duration": 163,
    "start_time": "2022-01-13T04:36:42.566Z"
   },
   {
    "duration": 540,
    "start_time": "2022-01-13T04:36:42.732Z"
   },
   {
    "duration": 3,
    "start_time": "2022-01-13T04:36:43.274Z"
   },
   {
    "duration": 16,
    "start_time": "2022-01-13T04:36:43.278Z"
   },
   {
    "duration": 11,
    "start_time": "2022-01-13T04:36:43.296Z"
   },
   {
    "duration": 37,
    "start_time": "2022-01-13T04:36:43.309Z"
   },
   {
    "duration": 53,
    "start_time": "2022-01-13T04:36:43.347Z"
   },
   {
    "duration": 19,
    "start_time": "2022-01-13T04:36:43.402Z"
   },
   {
    "duration": 3,
    "start_time": "2022-01-13T04:36:43.423Z"
   },
   {
    "duration": 11,
    "start_time": "2022-01-13T04:36:43.428Z"
   },
   {
    "duration": 13,
    "start_time": "2022-01-13T04:36:43.440Z"
   },
   {
    "duration": 8,
    "start_time": "2022-01-13T04:36:43.455Z"
   },
   {
    "duration": 9,
    "start_time": "2022-01-13T04:36:43.465Z"
   },
   {
    "duration": 19,
    "start_time": "2022-01-13T04:36:43.476Z"
   },
   {
    "duration": 7,
    "start_time": "2022-01-13T04:36:43.496Z"
   },
   {
    "duration": 57,
    "start_time": "2022-01-13T04:36:43.504Z"
   },
   {
    "duration": 14,
    "start_time": "2022-01-13T04:36:43.565Z"
   },
   {
    "duration": 19,
    "start_time": "2022-01-13T04:36:43.581Z"
   },
   {
    "duration": 2287,
    "start_time": "2022-01-13T04:36:43.602Z"
   },
   {
    "duration": 21,
    "start_time": "2022-01-13T04:36:45.890Z"
   },
   {
    "duration": 7,
    "start_time": "2022-01-13T04:36:45.912Z"
   },
   {
    "duration": 258,
    "start_time": "2022-01-13T04:36:45.920Z"
   },
   {
    "duration": 289,
    "start_time": "2022-01-13T04:36:46.179Z"
   },
   {
    "duration": 17,
    "start_time": "2022-01-13T04:36:46.470Z"
   },
   {
    "duration": 22,
    "start_time": "2022-01-13T04:36:46.488Z"
   },
   {
    "duration": 31,
    "start_time": "2022-01-13T04:36:46.512Z"
   },
   {
    "duration": 42,
    "start_time": "2022-01-13T04:36:46.545Z"
   },
   {
    "duration": 34,
    "start_time": "2022-01-13T04:36:46.588Z"
   },
   {
    "duration": 46,
    "start_time": "2022-01-13T04:36:46.623Z"
   },
   {
    "duration": 57,
    "start_time": "2022-01-13T04:36:46.670Z"
   },
   {
    "duration": 7,
    "start_time": "2022-01-13T04:36:46.729Z"
   },
   {
    "duration": 27,
    "start_time": "2022-01-13T04:36:46.738Z"
   },
   {
    "duration": 30,
    "start_time": "2022-01-13T04:36:46.766Z"
   },
   {
    "duration": 30,
    "start_time": "2022-01-13T04:36:46.798Z"
   },
   {
    "duration": 42,
    "start_time": "2022-01-13T04:36:46.829Z"
   },
   {
    "duration": 7820,
    "start_time": "2022-01-13T05:55:55.468Z"
   },
   {
    "duration": 1471,
    "start_time": "2022-01-13T05:56:03.290Z"
   },
   {
    "duration": 521,
    "start_time": "2022-01-13T05:56:04.763Z"
   },
   {
    "duration": 5,
    "start_time": "2022-01-13T05:56:05.286Z"
   },
   {
    "duration": 6,
    "start_time": "2022-01-13T05:56:05.293Z"
   },
   {
    "duration": 883,
    "start_time": "2022-01-13T05:56:05.300Z"
   },
   {
    "duration": 263,
    "start_time": "2022-01-13T05:56:06.185Z"
   },
   {
    "duration": 593,
    "start_time": "2022-01-13T05:56:06.451Z"
   },
   {
    "duration": 3,
    "start_time": "2022-01-13T05:56:07.046Z"
   },
   {
    "duration": 21,
    "start_time": "2022-01-13T05:56:07.051Z"
   },
   {
    "duration": 12,
    "start_time": "2022-01-13T05:56:07.074Z"
   },
   {
    "duration": 8,
    "start_time": "2022-01-13T05:56:07.088Z"
   },
   {
    "duration": 10,
    "start_time": "2022-01-13T05:56:07.098Z"
   },
   {
    "duration": 48,
    "start_time": "2022-01-13T05:56:07.110Z"
   },
   {
    "duration": 3,
    "start_time": "2022-01-13T05:56:07.160Z"
   },
   {
    "duration": 9,
    "start_time": "2022-01-13T05:56:07.165Z"
   },
   {
    "duration": 10,
    "start_time": "2022-01-13T05:56:07.175Z"
   },
   {
    "duration": 8,
    "start_time": "2022-01-13T05:56:07.187Z"
   },
   {
    "duration": 13,
    "start_time": "2022-01-13T05:56:07.197Z"
   },
   {
    "duration": 31,
    "start_time": "2022-01-13T05:56:07.212Z"
   },
   {
    "duration": 4,
    "start_time": "2022-01-13T05:56:07.245Z"
   },
   {
    "duration": 53,
    "start_time": "2022-01-13T05:56:07.250Z"
   },
   {
    "duration": 15,
    "start_time": "2022-01-13T05:56:07.306Z"
   },
   {
    "duration": 28,
    "start_time": "2022-01-13T05:56:07.323Z"
   },
   {
    "duration": 2379,
    "start_time": "2022-01-13T05:56:07.353Z"
   },
   {
    "duration": 25,
    "start_time": "2022-01-13T05:56:09.734Z"
   },
   {
    "duration": 13,
    "start_time": "2022-01-13T05:56:09.761Z"
   },
   {
    "duration": 293,
    "start_time": "2022-01-13T05:56:09.776Z"
   },
   {
    "duration": 296,
    "start_time": "2022-01-13T05:56:10.070Z"
   },
   {
    "duration": 19,
    "start_time": "2022-01-13T05:56:10.367Z"
   },
   {
    "duration": 10,
    "start_time": "2022-01-13T05:56:10.387Z"
   },
   {
    "duration": 20,
    "start_time": "2022-01-13T05:56:10.399Z"
   },
   {
    "duration": 24,
    "start_time": "2022-01-13T05:56:10.420Z"
   },
   {
    "duration": 14,
    "start_time": "2022-01-13T05:56:10.446Z"
   },
   {
    "duration": 39,
    "start_time": "2022-01-13T05:56:10.462Z"
   },
   {
    "duration": 53,
    "start_time": "2022-01-13T05:56:10.502Z"
   },
   {
    "duration": 8,
    "start_time": "2022-01-13T05:56:10.556Z"
   },
   {
    "duration": 23,
    "start_time": "2022-01-13T05:56:10.565Z"
   },
   {
    "duration": 22,
    "start_time": "2022-01-13T05:56:10.589Z"
   },
   {
    "duration": 22,
    "start_time": "2022-01-13T05:56:10.612Z"
   },
   {
    "duration": 40,
    "start_time": "2022-01-13T05:56:10.636Z"
   }
  ],
  "kernelspec": {
   "display_name": "Python 3 (ipykernel)",
   "language": "python",
   "name": "python3"
  },
  "language_info": {
   "codemirror_mode": {
    "name": "ipython",
    "version": 3
   },
   "file_extension": ".py",
   "mimetype": "text/x-python",
   "name": "python",
   "nbconvert_exporter": "python",
   "pygments_lexer": "ipython3",
   "version": "3.8.3"
  },
  "toc": {
   "base_numbering": 1,
   "nav_menu": {},
   "number_sections": true,
   "sideBar": true,
   "skip_h1_title": true,
   "title_cell": "Table of Contents",
   "title_sidebar": "Contents",
   "toc_cell": false,
   "toc_position": {},
   "toc_section_display": true,
   "toc_window_display": false
  }
 },
 "nbformat": 4,
 "nbformat_minor": 2
}
