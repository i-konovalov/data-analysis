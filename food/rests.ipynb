{
 "cells": [
  {
   "cell_type": "markdown",
   "metadata": {},
   "source": [
    "# Рынок заведений общественного питания Москвы"
   ]
  },
  {
   "cell_type": "markdown",
   "metadata": {},
   "source": [
    "Перед нами стоит задача изучить рынок общественного питания Москвы и предложить формат нового заведения."
   ]
  },
  {
   "cell_type": "markdown",
   "metadata": {},
   "source": [
    "**План:**\n",
    "1. [Предобработать данные:](#preprocessing)\n",
    "   - найти пропуски,\n",
    "   - найти дубликаты,\n",
    "   - привести данные к нужному типу.\n",
    "2. [Проанализировать данные:](#analyzing)\n",
    "   - создать столбцы с недостающими данными,\n",
    "   - построить графики.\n",
    "3. [Подготовить презентацию.](#presentation)"
   ]
  },
  {
   "cell_type": "markdown",
   "metadata": {},
   "source": [
    "<a id='preprocessing'></a>"
   ]
  },
  {
   "cell_type": "markdown",
   "metadata": {},
   "source": [
    "## Предобработаем данные"
   ]
  },
  {
   "cell_type": "code",
   "execution_count": 2,
   "metadata": {},
   "outputs": [],
   "source": [
    "# импортируем библиотеки, необходимые для работы\n",
    "import pandas as pd # для работы с данными\n",
    "import numpy as np # для работы с числами\n",
    "import seaborn as sns # для визуализации\n",
    "import matplotlib.pyplot as plt # для настройки визуализации\n",
    "import re # для регулярных выражений\n",
    "from io import StringIO \n",
    "import requests\n",
    "%matplotlib inline\n",
    "%config InlineBackend.figure_format='retina' # повышение четкости графиков\n",
    "plt.style.use('seaborn-darkgrid') # задаём стиль графиков"
   ]
  },
  {
   "cell_type": "code",
   "execution_count": 3,
   "metadata": {},
   "outputs": [],
   "source": [
    "df = pd.read_csv('/datasets/rest_data.csv')"
   ]
  },
  {
   "cell_type": "markdown",
   "metadata": {},
   "source": [
    "Посмотрим на основную информацию о данных."
   ]
  },
  {
   "cell_type": "code",
   "execution_count": 4,
   "metadata": {
    "scrolled": true
   },
   "outputs": [
    {
     "name": "stdout",
     "output_type": "stream",
     "text": [
      "<class 'pandas.core.frame.DataFrame'>\n",
      "RangeIndex: 15366 entries, 0 to 15365\n",
      "Data columns (total 6 columns):\n",
      "id             15366 non-null int64\n",
      "object_name    15366 non-null object\n",
      "chain          15366 non-null object\n",
      "object_type    15366 non-null object\n",
      "address        15366 non-null object\n",
      "number         15366 non-null int64\n",
      "dtypes: int64(2), object(4)\n",
      "memory usage: 720.4+ KB\n"
     ]
    }
   ],
   "source": [
    "df.info()"
   ]
  },
  {
   "cell_type": "markdown",
   "metadata": {},
   "source": [
    "Также сразу посмотрим на наличие полных дубликатов."
   ]
  },
  {
   "cell_type": "code",
   "execution_count": 5,
   "metadata": {},
   "outputs": [
    {
     "data": {
      "text/plain": [
       "0"
      ]
     },
     "execution_count": 5,
     "metadata": {},
     "output_type": "execute_result"
    }
   ],
   "source": [
    "df.duplicated().sum()"
   ]
  },
  {
   "cell_type": "markdown",
   "metadata": {},
   "source": [
    "Явных пропусков нет, дубликатов тоже, типы данных в порядке. Посмотрим на первые 5 строк."
   ]
  },
  {
   "cell_type": "code",
   "execution_count": 6,
   "metadata": {},
   "outputs": [
    {
     "data": {
      "text/html": [
       "<div>\n",
       "<style scoped>\n",
       "    .dataframe tbody tr th:only-of-type {\n",
       "        vertical-align: middle;\n",
       "    }\n",
       "\n",
       "    .dataframe tbody tr th {\n",
       "        vertical-align: top;\n",
       "    }\n",
       "\n",
       "    .dataframe thead th {\n",
       "        text-align: right;\n",
       "    }\n",
       "</style>\n",
       "<table border=\"1\" class=\"dataframe\">\n",
       "  <thead>\n",
       "    <tr style=\"text-align: right;\">\n",
       "      <th></th>\n",
       "      <th>id</th>\n",
       "      <th>object_name</th>\n",
       "      <th>chain</th>\n",
       "      <th>object_type</th>\n",
       "      <th>address</th>\n",
       "      <th>number</th>\n",
       "    </tr>\n",
       "  </thead>\n",
       "  <tbody>\n",
       "    <tr>\n",
       "      <td>0</td>\n",
       "      <td>151635</td>\n",
       "      <td>СМЕТАНА</td>\n",
       "      <td>нет</td>\n",
       "      <td>кафе</td>\n",
       "      <td>город Москва, улица Егора Абакумова, дом 9</td>\n",
       "      <td>48</td>\n",
       "    </tr>\n",
       "    <tr>\n",
       "      <td>1</td>\n",
       "      <td>77874</td>\n",
       "      <td>Родник</td>\n",
       "      <td>нет</td>\n",
       "      <td>кафе</td>\n",
       "      <td>город Москва, улица Талалихина, дом 2/1, корпус 1</td>\n",
       "      <td>35</td>\n",
       "    </tr>\n",
       "    <tr>\n",
       "      <td>2</td>\n",
       "      <td>24309</td>\n",
       "      <td>Кафе «Академия»</td>\n",
       "      <td>нет</td>\n",
       "      <td>кафе</td>\n",
       "      <td>город Москва, Абельмановская улица, дом 6</td>\n",
       "      <td>95</td>\n",
       "    </tr>\n",
       "    <tr>\n",
       "      <td>3</td>\n",
       "      <td>21894</td>\n",
       "      <td>ПИЦЦЕТОРИЯ</td>\n",
       "      <td>да</td>\n",
       "      <td>кафе</td>\n",
       "      <td>город Москва, Абрамцевская улица, дом 1</td>\n",
       "      <td>40</td>\n",
       "    </tr>\n",
       "    <tr>\n",
       "      <td>4</td>\n",
       "      <td>119365</td>\n",
       "      <td>Кафе «Вишневая метель»</td>\n",
       "      <td>нет</td>\n",
       "      <td>кафе</td>\n",
       "      <td>город Москва, Абрамцевская улица, дом 9, корпус 1</td>\n",
       "      <td>50</td>\n",
       "    </tr>\n",
       "  </tbody>\n",
       "</table>\n",
       "</div>"
      ],
      "text/plain": [
       "       id             object_name chain object_type  \\\n",
       "0  151635                 СМЕТАНА   нет        кафе   \n",
       "1   77874                  Родник   нет        кафе   \n",
       "2   24309         Кафе «Академия»   нет        кафе   \n",
       "3   21894              ПИЦЦЕТОРИЯ    да        кафе   \n",
       "4  119365  Кафе «Вишневая метель»   нет        кафе   \n",
       "\n",
       "                                             address  number  \n",
       "0         город Москва, улица Егора Абакумова, дом 9      48  \n",
       "1  город Москва, улица Талалихина, дом 2/1, корпус 1      35  \n",
       "2          город Москва, Абельмановская улица, дом 6      95  \n",
       "3            город Москва, Абрамцевская улица, дом 1      40  \n",
       "4  город Москва, Абрамцевская улица, дом 9, корпус 1      50  "
      ]
     },
     "execution_count": 6,
     "metadata": {},
     "output_type": "execute_result"
    }
   ],
   "source": [
    "df.head()"
   ]
  },
  {
   "cell_type": "markdown",
   "metadata": {},
   "source": [
    "Посмотрим, какие значения принимают столбцы с данными о сети и типе заведения и нет ли скрытых дубликатов."
   ]
  },
  {
   "cell_type": "code",
   "execution_count": 7,
   "metadata": {},
   "outputs": [
    {
     "data": {
      "text/plain": [
       "array(['нет', 'да'], dtype=object)"
      ]
     },
     "execution_count": 7,
     "metadata": {},
     "output_type": "execute_result"
    }
   ],
   "source": [
    "df['chain'].unique()"
   ]
  },
  {
   "cell_type": "code",
   "execution_count": 8,
   "metadata": {},
   "outputs": [
    {
     "data": {
      "text/plain": [
       "array(['кафе', 'столовая', 'закусочная',\n",
       "       'предприятие быстрого обслуживания', 'ресторан', 'кафетерий',\n",
       "       'буфет', 'бар', 'магазин (отдел кулинарии)'], dtype=object)"
      ]
     },
     "execution_count": 8,
     "metadata": {},
     "output_type": "execute_result"
    }
   ],
   "source": [
    "df['object_type'].unique()"
   ]
  },
  {
   "cell_type": "markdown",
   "metadata": {},
   "source": [
    "Никаких явных проблем в данных нет."
   ]
  },
  {
   "cell_type": "markdown",
   "metadata": {},
   "source": [
    "Чтобы данные о типе заведения лучше смотрелись на графике, сделаем первую букву типа заведения строчной."
   ]
  },
  {
   "cell_type": "code",
   "execution_count": 9,
   "metadata": {},
   "outputs": [],
   "source": [
    "df['object_type'] = df['object_type'].str.capitalize()"
   ]
  },
  {
   "cell_type": "markdown",
   "metadata": {},
   "source": [
    "Для ускорения и упрощения обработки данных приведём столбец с данными о сети к булевому типу."
   ]
  },
  {
   "cell_type": "code",
   "execution_count": 10,
   "metadata": {},
   "outputs": [],
   "source": [
    "df['chain'] = df['chain']=='да'"
   ]
  },
  {
   "cell_type": "markdown",
   "metadata": {},
   "source": [
    "<a id='analyzing'></a>"
   ]
  },
  {
   "cell_type": "markdown",
   "metadata": {},
   "source": [
    "## Анализируем данные"
   ]
  },
  {
   "cell_type": "markdown",
   "metadata": {},
   "source": [
    "Построим столбчатую диаграмму количества заведений каждого типа."
   ]
  },
  {
   "cell_type": "code",
   "execution_count": 11,
   "metadata": {
    "scrolled": true
   },
   "outputs": [
    {
     "data": {
      "image/png": "[encoded data removed]",
      "text/plain": [
       "<Figure size 576x288 with 1 Axes>"
      ]
     },
     "metadata": {
      "image/png": {
       "height": 266,
       "width": 640
      }
     },
     "output_type": "display_data"
    }
   ],
   "source": [
    "plt.figure(figsize=(8,4))\n",
    "plt.title('Количество заведений каждого типа', fontsize=20, fontweight='bold', color='teal')\n",
    "sns.barplot(\n",
    "    x='object_type',\n",
    "    y='index',\n",
    "    data=df['object_type'].value_counts().reset_index(),\n",
    "    palette='crest',\n",
    "    orient='h'\n",
    ")\n",
    "plt.xlabel(None)\n",
    "plt.ylabel(None);"
   ]
  },
  {
   "cell_type": "markdown",
   "metadata": {},
   "source": [
    "Довольно ожидаемо на первом месте кафе. Дальше, что неожиданно, идут столовые. Посмотрим на них поближе."
   ]
  },
  {
   "cell_type": "code",
   "execution_count": 12,
   "metadata": {},
   "outputs": [
    {
     "data": {
      "text/html": [
       "<div>\n",
       "<style scoped>\n",
       "    .dataframe tbody tr th:only-of-type {\n",
       "        vertical-align: middle;\n",
       "    }\n",
       "\n",
       "    .dataframe tbody tr th {\n",
       "        vertical-align: top;\n",
       "    }\n",
       "\n",
       "    .dataframe thead th {\n",
       "        text-align: right;\n",
       "    }\n",
       "</style>\n",
       "<table border=\"1\" class=\"dataframe\">\n",
       "  <thead>\n",
       "    <tr style=\"text-align: right;\">\n",
       "      <th></th>\n",
       "      <th>id</th>\n",
       "      <th>object_name</th>\n",
       "      <th>chain</th>\n",
       "      <th>object_type</th>\n",
       "      <th>address</th>\n",
       "      <th>number</th>\n",
       "    </tr>\n",
       "  </thead>\n",
       "  <tbody>\n",
       "    <tr>\n",
       "      <td>5</td>\n",
       "      <td>27429</td>\n",
       "      <td>СТОЛ. ПРИ ГОУ СОШ № 1051</td>\n",
       "      <td>False</td>\n",
       "      <td>Столовая</td>\n",
       "      <td>город Москва, Абрамцевская улица, дом 15, корп...</td>\n",
       "      <td>240</td>\n",
       "    </tr>\n",
       "    <tr>\n",
       "      <td>7</td>\n",
       "      <td>20957</td>\n",
       "      <td>Буфет МТУСИ</td>\n",
       "      <td>False</td>\n",
       "      <td>Столовая</td>\n",
       "      <td>город Москва, Авиамоторная улица, дом 8, строе...</td>\n",
       "      <td>90</td>\n",
       "    </tr>\n",
       "    <tr>\n",
       "      <td>8</td>\n",
       "      <td>20958</td>\n",
       "      <td>КПФ СЕМЬЯ-1</td>\n",
       "      <td>False</td>\n",
       "      <td>Столовая</td>\n",
       "      <td>город Москва, Авиамоторная улица, дом 8, строе...</td>\n",
       "      <td>150</td>\n",
       "    </tr>\n",
       "    <tr>\n",
       "      <td>9</td>\n",
       "      <td>28858</td>\n",
       "      <td>Столовая МТУСИ</td>\n",
       "      <td>False</td>\n",
       "      <td>Столовая</td>\n",
       "      <td>город Москва, Авиамоторная улица, дом 8, строе...</td>\n",
       "      <td>120</td>\n",
       "    </tr>\n",
       "    <tr>\n",
       "      <td>12</td>\n",
       "      <td>28582</td>\n",
       "      <td>ШКОЛА 735</td>\n",
       "      <td>False</td>\n",
       "      <td>Столовая</td>\n",
       "      <td>город Москва, Авиамоторная улица, дом 51</td>\n",
       "      <td>140</td>\n",
       "    </tr>\n",
       "  </tbody>\n",
       "</table>\n",
       "</div>"
      ],
      "text/plain": [
       "       id               object_name  chain object_type  \\\n",
       "5   27429  СТОЛ. ПРИ ГОУ СОШ № 1051  False    Столовая   \n",
       "7   20957               Буфет МТУСИ  False    Столовая   \n",
       "8   20958               КПФ СЕМЬЯ-1  False    Столовая   \n",
       "9   28858            Столовая МТУСИ  False    Столовая   \n",
       "12  28582                 ШКОЛА 735  False    Столовая   \n",
       "\n",
       "                                              address  number  \n",
       "5   город Москва, Абрамцевская улица, дом 15, корп...     240  \n",
       "7   город Москва, Авиамоторная улица, дом 8, строе...      90  \n",
       "8   город Москва, Авиамоторная улица, дом 8, строе...     150  \n",
       "9   город Москва, Авиамоторная улица, дом 8, строе...     120  \n",
       "12           город Москва, Авиамоторная улица, дом 51     140  "
      ]
     },
     "execution_count": 12,
     "metadata": {},
     "output_type": "execute_result"
    }
   ],
   "source": [
    "df.query('object_type==\"Столовая\"').head()"
   ]
  },
  {
   "cell_type": "markdown",
   "metadata": {},
   "source": [
    "Оказывается в нашем датасете записаны даже столовые при учебных заведениях, поэтому их оказалось так много."
   ]
  },
  {
   "cell_type": "markdown",
   "metadata": {},
   "source": [
    "Теперь посмотрим, сколько заведений являются сетевыми."
   ]
  },
  {
   "cell_type": "code",
   "execution_count": 13,
   "metadata": {
    "scrolled": true
   },
   "outputs": [
    {
     "data": {
      "image/png": "[encoded data removed]",
      "text/plain": [
       "<Figure size 432x288 with 1 Axes>"
      ]
     },
     "metadata": {
      "image/png": {
       "height": 288,
       "width": 366
      }
     },
     "output_type": "display_data"
    }
   ],
   "source": [
    "plt.figure(figsize=(6,4))\n",
    "plt.title('Доля несетевых\\nи сетевых заведений', fontsize=20, fontweight='bold', color='teal')\n",
    "ax = sns.barplot(\n",
    "    x='index',\n",
    "    y='chain',\n",
    "    data=df['chain'].value_counts(normalize=True).reset_index(),\n",
    "    palette='crest'\n",
    ")\n",
    "for p in ax.patches:\n",
    "    ax.annotate(format(p.get_height(), '.1%'),\n",
    "                (p.get_x() + p.get_width() / 2., p.get_height()),\n",
    "                ha = 'center', va = 'center',\n",
    "                xytext = (0, 9),\n",
    "                textcoords = 'offset points')\n",
    "plt.xlabel(None)\n",
    "plt.ylabel(None)\n",
    "plt.ylim(0,.9);"
   ]
  },
  {
   "cell_type": "markdown",
   "metadata": {},
   "source": [
    "Из графика видно, что несетевых заведений примерно в 4 раза больше. Посмотрим, какого типа в основном сетевые заведения."
   ]
  },
  {
   "cell_type": "code",
   "execution_count": 14,
   "metadata": {},
   "outputs": [],
   "source": [
    "chain_or_not = (\n",
    "    df\n",
    "    .groupby(['object_type', 'chain'])\n",
    "    .agg({'id': 'count'})\n",
    "    .sort_values(['chain', 'id'], ascending=False)\n",
    "    .reset_index()\n",
    ")"
   ]
  },
  {
   "cell_type": "code",
   "execution_count": 15,
   "metadata": {},
   "outputs": [
    {
     "data": {
      "image/png": "[encoded data removed]",
      "text/plain": [
       "<Figure size 720x432 with 1 Axes>"
      ]
     },
     "metadata": {
      "image/png": {
       "height": 396,
       "width": 752
      }
     },
     "output_type": "display_data"
    }
   ],
   "source": [
    "plt.figure(figsize=(10,6))\n",
    "plt.title('Количество несетевых\\nи сетевых заведений каждого типа', fontsize=20, fontweight='bold', color='teal')\n",
    "sns.barplot(\n",
    "    x='id',\n",
    "    y='object_type',\n",
    "    hue='chain',\n",
    "    data=chain_or_not,\n",
    "    palette='crest',\n",
    "    orient='h'\n",
    ")\n",
    "plt.xlabel(None)\n",
    "plt.ylabel(None);"
   ]
  },
  {
   "cell_type": "markdown",
   "metadata": {},
   "source": [
    "По числу сетевых заведений столовые опустились на последнее место (и фактически исчезли из рейтинга). На первом месте по-прежнему кафе: хотя только примерно каждое четвертое — сетевое.  \n",
    "А вот на второе место вышли **фаст-фуды: почти половина их — сетевые.** Неудивительно, ведь они берут именно количеством.  \n",
    "На третьем месте рестораны, остальные заведения — **в основном только несетевые.**"
   ]
  },
  {
   "cell_type": "markdown",
   "metadata": {},
   "source": [
    "Чтобы построить график распределения среднего количества посадочных мест и количества заведений сети, нужно сгруппировать данные по сетям. Перед этим нужно убедиться, что названия заведений написаны одинаково."
   ]
  },
  {
   "cell_type": "code",
   "execution_count": 16,
   "metadata": {
    "scrolled": true
   },
   "outputs": [
    {
     "data": {
      "text/plain": [
       "KFC                                                    155\n",
       "Шоколадница                                            141\n",
       "Макдоналдс                                             122\n",
       "Бургер Кинг                                            122\n",
       "Домино'с Пицца                                          86\n",
       "                                                      ... \n",
       "Закусочная «KFC»                                         1\n",
       "Предприятие быстрого обслуживания «Крошка Картошка»      1\n",
       "Городские автокофейни                                    1\n",
       "Николай                                                  1\n",
       "Дабл би                                                  1\n",
       "Name: object_name, Length: 724, dtype: int64"
      ]
     },
     "execution_count": 16,
     "metadata": {},
     "output_type": "execute_result"
    }
   ],
   "source": [
    "df[df['chain']]['object_name'].value_counts()"
   ]
  },
  {
   "cell_type": "markdown",
   "metadata": {},
   "source": [
    "Приведём данные к более общему виду: сделаем все буквы прописными, уберем кавычки и слова «кафе», «ресторан» и «кофейня» из названий заведений."
   ]
  },
  {
   "cell_type": "code",
   "execution_count": 17,
   "metadata": {},
   "outputs": [],
   "source": [
    "df['object_name'] = (\n",
    "    df['object_name']\n",
    "    .str.lower()\n",
    "    .str.replace('кафе ', '')\n",
    "    .str.replace('ресторан ', '')\n",
    "    .str.replace('ресторан', '')\n",
    "    .str.replace('кофейня ', '')\n",
    "    .str.replace('«', '')\n",
    "    .str.replace('»', '')\n",
    ")"
   ]
  },
  {
   "cell_type": "code",
   "execution_count": 18,
   "metadata": {
    "scrolled": false
   },
   "outputs": [
    {
     "data": {
      "text/plain": [
       "шоколадница           183\n",
       "kfc                   170\n",
       "макдоналдс            166\n",
       "бургер кинг           144\n",
       "теремок               105\n",
       "                     ... \n",
       "grand урюк              1\n",
       "брава коста кофе        1\n",
       "пбо kfc покрышкина      1\n",
       "сити                    1\n",
       "мята                    1\n",
       "Name: object_name, Length: 462, dtype: int64"
      ]
     },
     "execution_count": 18,
     "metadata": {},
     "output_type": "execute_result"
    }
   ],
   "source": [
    "df[df['chain']]['object_name'].value_counts()"
   ]
  },
  {
   "cell_type": "markdown",
   "metadata": {},
   "source": [
    "Список сократился на 260 позиций, отличный результат. Видно, что остались нетипичные названия вроде «Москва — Макдоналдс», но ручной перебор таких ошибок требует слишком больших ресурсов, так что остановимся на том, что уже есть.  \n",
    "  \n",
    "Создадим таблицу с количеством заведений сети и средним количеством посадочных мест."
   ]
  },
  {
   "cell_type": "code",
   "execution_count": 19,
   "metadata": {
    "scrolled": false
   },
   "outputs": [],
   "source": [
    "chains = df[df['chain']].groupby('object_name', as_index=False).agg({'id': 'count', 'number': 'mean'})"
   ]
  },
  {
   "cell_type": "markdown",
   "metadata": {},
   "source": [
    "Построим график рассеяния и нанесем на него линию, обозначающую 100 посадочных мест, чтобы посмотреть, какие заведения преобладают."
   ]
  },
  {
   "cell_type": "code",
   "execution_count": 20,
   "metadata": {},
   "outputs": [
    {
     "data": {
      "image/png": "[encoded data removed]",
      "text/plain": [
       "<Figure size 576x288 with 1 Axes>"
      ]
     },
     "metadata": {
      "image/png": {
       "height": 281,
       "width": 496
      }
     },
     "output_type": "display_data"
    }
   ],
   "source": [
    "plt.figure(figsize=(8,4))\n",
    "plt.title('Количество и размер заведений сети', fontsize=20, fontweight='bold', color='teal')\n",
    "sns.scatterplot(\n",
    "    x='number',\n",
    "    y='id',\n",
    "    data=chains,\n",
    "    color='teal')\n",
    "plt.xlabel('Среднее количество посадочных мест', fontsize=12)\n",
    "plt.ylabel('Количество заведений в сети', fontsize=12)\n",
    "plt.axvline(x=100, color='mediumaquamarine', linestyle='--');"
   ]
  },
  {
   "cell_type": "markdown",
   "metadata": {},
   "source": [
    "Из графика видно, что на рынке преобладают сети с большим количеством заведений и небольшим количеством посадочных мест."
   ]
  },
  {
   "cell_type": "markdown",
   "metadata": {},
   "source": [
    "Теперь посмотрим на количество мест в заведениях разного типа."
   ]
  },
  {
   "cell_type": "code",
   "execution_count": 21,
   "metadata": {},
   "outputs": [],
   "source": [
    "seats = (\n",
    "    df\n",
    "    .groupby('object_type', as_index=False)\n",
    "    .agg({'number': 'mean'})\n",
    "    .sort_values('number', ascending=False)\n",
    ")"
   ]
  },
  {
   "cell_type": "code",
   "execution_count": 22,
   "metadata": {},
   "outputs": [
    {
     "data": {
      "image/png": "[encoded data removed]",
      "text/plain": [
       "<Figure size 576x288 with 1 Axes>"
      ]
     },
     "metadata": {
      "image/png": {
       "height": 266,
       "width": 640
      }
     },
     "output_type": "display_data"
    }
   ],
   "source": [
    "plt.figure(figsize=(8,4))\n",
    "plt.title('Средний размер заведений разных типов', fontsize=20, fontweight='bold', color='teal')\n",
    "sns.barplot(\n",
    "    x='number',\n",
    "    y='object_type',\n",
    "    data=seats,\n",
    "    palette='crest',\n",
    "    orient='h'\n",
    ")\n",
    "plt.xlabel(None)\n",
    "plt.ylabel(None);"
   ]
  },
  {
   "cell_type": "markdown",
   "metadata": {},
   "source": [
    "На первом месте столовые — там много посадочных мест, потому что студенты и школьники приходят туда на обед, и места должно хватить всем. Затем идут рестораны, что логично — они как правило больше остальных заведений. Далее с небольшой разницей — бары, кафе и фаст-фуды, заведения среднего размера. На последних 4 местах — заведения небольшого формата: закусочные, буфеты, кафетерии и кулинарные отделы супермаркетов."
   ]
  },
  {
   "cell_type": "markdown",
   "metadata": {},
   "source": [
    "Чтобы выделить улицу из адреса, запишем адрес только прописными буквами, а затем применим регулярное выражение."
   ]
  },
  {
   "cell_type": "code",
   "execution_count": 23,
   "metadata": {},
   "outputs": [],
   "source": [
    "df['address'] = df['address'].str.lower()"
   ]
  },
  {
   "cell_type": "code",
   "execution_count": 24,
   "metadata": {},
   "outputs": [],
   "source": [
    "words = ['улица','ул','переулок','шоссе','проспект','площадь','проезд',\n",
    "         'село','аллея','бульвар','набережная','тупик','линия',\n",
    "         'квартал', 'микрорайон', 'парк', 'просека']\n",
    "\n",
    "str_pat = r\".*,\\s*\\b([^,]*?(?:{})\\b[^,]*)[,$]+\".format(\"|\".join(words))\n",
    "\n",
    "df[\"street\"] = df[\"address\"].str.extract(str_pat, flags=re.I)"
   ]
  },
  {
   "cell_type": "markdown",
   "metadata": {},
   "source": [
    "Посмотрим, все ли строки обработаны корректно."
   ]
  },
  {
   "cell_type": "code",
   "execution_count": 25,
   "metadata": {},
   "outputs": [
    {
     "name": "stdout",
     "output_type": "stream",
     "text": [
      "<class 'pandas.core.frame.DataFrame'>\n",
      "RangeIndex: 15366 entries, 0 to 15365\n",
      "Data columns (total 7 columns):\n",
      "id             15366 non-null int64\n",
      "object_name    15366 non-null object\n",
      "chain          15366 non-null bool\n",
      "object_type    15366 non-null object\n",
      "address        15366 non-null object\n",
      "number         15366 non-null int64\n",
      "street         14991 non-null object\n",
      "dtypes: bool(1), int64(2), object(4)\n",
      "memory usage: 735.4+ KB\n"
     ]
    }
   ],
   "source": [
    "df.info()"
   ]
  },
  {
   "cell_type": "markdown",
   "metadata": {},
   "source": [
    "Чуть меньше 400 строк оказались с пропусками в данных об улице. Это в основном адреса без улицы (например, «деревня Пушкино, дом 5»). Теперь по улице присоединим к таблице данные о районе и округе Москвы. Для этого загрузим таблицу соответствия улицы району."
   ]
  },
  {
   "cell_type": "code",
   "execution_count": 26,
   "metadata": {},
   "outputs": [],
   "source": [
    "spreadsheet_id = '13Upvg__ELbqc1-Wk__PP4AsqTf2GWt2MzCybuRBRJdg'\n",
    "file_name = 'https://docs.google.com/spreadsheets/d/{}/export?format=csv'.format(spreadsheet_id)\n",
    "response = requests.get(file_name)\n",
    "response = response.content.decode('utf-8')\n",
    "streets = pd.read_csv(StringIO(response))"
   ]
  },
  {
   "cell_type": "markdown",
   "metadata": {},
   "source": [
    "Чтобы данные совпали с нашей таблицей, сделаем все буквы прописными."
   ]
  },
  {
   "cell_type": "code",
   "execution_count": 27,
   "metadata": {},
   "outputs": [],
   "source": [
    "streets['street'] = streets['street'].str.lower()"
   ]
  },
  {
   "cell_type": "code",
   "execution_count": 28,
   "metadata": {},
   "outputs": [],
   "source": [
    "areas_count = df.merge(streets, how='left', on='street')"
   ]
  },
  {
   "cell_type": "markdown",
   "metadata": {},
   "source": [
    "Удалим дубликаты в названиях улиц."
   ]
  },
  {
   "cell_type": "code",
   "execution_count": 29,
   "metadata": {},
   "outputs": [],
   "source": [
    "streets = streets.drop_duplicates(subset='street')"
   ]
  },
  {
   "cell_type": "markdown",
   "metadata": {},
   "source": [
    "Присоединим данные о районах и округах к нашей таблице."
   ]
  },
  {
   "cell_type": "code",
   "execution_count": 30,
   "metadata": {},
   "outputs": [],
   "source": [
    "df = df.merge(streets, how='left', on='street')"
   ]
  },
  {
   "cell_type": "code",
   "execution_count": 31,
   "metadata": {
    "scrolled": true
   },
   "outputs": [
    {
     "data": {
      "text/html": [
       "<div>\n",
       "<style scoped>\n",
       "    .dataframe tbody tr th:only-of-type {\n",
       "        vertical-align: middle;\n",
       "    }\n",
       "\n",
       "    .dataframe tbody tr th {\n",
       "        vertical-align: top;\n",
       "    }\n",
       "\n",
       "    .dataframe thead th {\n",
       "        text-align: right;\n",
       "    }\n",
       "</style>\n",
       "<table border=\"1\" class=\"dataframe\">\n",
       "  <thead>\n",
       "    <tr style=\"text-align: right;\">\n",
       "      <th></th>\n",
       "      <th>id</th>\n",
       "      <th>object_name</th>\n",
       "      <th>chain</th>\n",
       "      <th>object_type</th>\n",
       "      <th>address</th>\n",
       "      <th>number</th>\n",
       "      <th>street</th>\n",
       "      <th>okrug</th>\n",
       "      <th>area</th>\n",
       "    </tr>\n",
       "  </thead>\n",
       "  <tbody>\n",
       "    <tr>\n",
       "      <td>15361</td>\n",
       "      <td>208537</td>\n",
       "      <td>шоколадница</td>\n",
       "      <td>True</td>\n",
       "      <td>Кафе</td>\n",
       "      <td>город москва, 3-й крутицкий переулок, дом 18</td>\n",
       "      <td>50</td>\n",
       "      <td>3-й крутицкий переулок</td>\n",
       "      <td>ЦАО</td>\n",
       "      <td>Таганский район</td>\n",
       "    </tr>\n",
       "    <tr>\n",
       "      <td>15362</td>\n",
       "      <td>209264</td>\n",
       "      <td>шоколадница</td>\n",
       "      <td>True</td>\n",
       "      <td>Кафе</td>\n",
       "      <td>город москва, улица земляной вал, дом 33</td>\n",
       "      <td>10</td>\n",
       "      <td>улица земляной вал</td>\n",
       "      <td>ЦАО</td>\n",
       "      <td>Таганский район</td>\n",
       "    </tr>\n",
       "    <tr>\n",
       "      <td>15363</td>\n",
       "      <td>209186</td>\n",
       "      <td>шоколадница</td>\n",
       "      <td>True</td>\n",
       "      <td>Кафе</td>\n",
       "      <td>город москва, улица земляной вал, дом 33</td>\n",
       "      <td>20</td>\n",
       "      <td>улица земляной вал</td>\n",
       "      <td>ЦАО</td>\n",
       "      <td>Таганский район</td>\n",
       "    </tr>\n",
       "    <tr>\n",
       "      <td>15364</td>\n",
       "      <td>221900</td>\n",
       "      <td>шоколадница</td>\n",
       "      <td>True</td>\n",
       "      <td>Кафе</td>\n",
       "      <td>город москва, поселение московский, киевское ш...</td>\n",
       "      <td>36</td>\n",
       "      <td>киевское шоссе</td>\n",
       "      <td>ЗАО</td>\n",
       "      <td>Район Внуково</td>\n",
       "    </tr>\n",
       "    <tr>\n",
       "      <td>15365</td>\n",
       "      <td>222535</td>\n",
       "      <td>шоколадница</td>\n",
       "      <td>True</td>\n",
       "      <td>Кафе</td>\n",
       "      <td>город москва, ходынский бульвар, дом 4</td>\n",
       "      <td>10</td>\n",
       "      <td>ходынский бульвар</td>\n",
       "      <td>САО</td>\n",
       "      <td>Хорошевский район</td>\n",
       "    </tr>\n",
       "  </tbody>\n",
       "</table>\n",
       "</div>"
      ],
      "text/plain": [
       "           id  object_name  chain object_type  \\\n",
       "15361  208537  шоколадница   True        Кафе   \n",
       "15362  209264  шоколадница   True        Кафе   \n",
       "15363  209186  шоколадница   True        Кафе   \n",
       "15364  221900  шоколадница   True        Кафе   \n",
       "15365  222535  шоколадница   True        Кафе   \n",
       "\n",
       "                                                 address  number  \\\n",
       "15361       город москва, 3-й крутицкий переулок, дом 18      50   \n",
       "15362           город москва, улица земляной вал, дом 33      10   \n",
       "15363           город москва, улица земляной вал, дом 33      20   \n",
       "15364  город москва, поселение московский, киевское ш...      36   \n",
       "15365             город москва, ходынский бульвар, дом 4      10   \n",
       "\n",
       "                       street okrug               area  \n",
       "15361  3-й крутицкий переулок   ЦАО    Таганский район  \n",
       "15362      улица земляной вал   ЦАО    Таганский район  \n",
       "15363      улица земляной вал   ЦАО    Таганский район  \n",
       "15364          киевское шоссе   ЗАО      Район Внуково  \n",
       "15365       ходынский бульвар   САО  Хорошевский район  "
      ]
     },
     "execution_count": 31,
     "metadata": {},
     "output_type": "execute_result"
    }
   ],
   "source": [
    "df.tail()"
   ]
  },
  {
   "cell_type": "markdown",
   "metadata": {},
   "source": [
    "Создадим таблицу с 10 улицами с самым большим числом заведений. Построим график и посмотрим, что это за улицы."
   ]
  },
  {
   "cell_type": "code",
   "execution_count": 32,
   "metadata": {},
   "outputs": [],
   "source": [
    "top_streets = (\n",
    "    areas_count\n",
    "    .groupby(['street', 'area', 'okrug'])\n",
    "    .agg({'id': 'count'})\n",
    "    .sort_values('id', ascending=False)\n",
    "    .reset_index()\n",
    ")\n",
    "top_areas = top_streets.groupby('street', sort=False)['area'].apply(list).reset_index().head(11)\n",
    "top_streets = top_streets[['street', 'okrug']].drop_duplicates()\n",
    "top_okrug = top_streets.groupby('street', sort=False)['okrug'].apply(list).reset_index().head(11)"
   ]
  },
  {
   "cell_type": "code",
   "execution_count": 33,
   "metadata": {},
   "outputs": [],
   "source": [
    "top10_streets = df['street'].value_counts().head(10).reset_index()\n",
    "top10_streets.columns = ['street', 'count']"
   ]
  },
  {
   "cell_type": "code",
   "execution_count": 34,
   "metadata": {},
   "outputs": [],
   "source": [
    "top10_streets = top10_streets.merge(top_areas, on='street', how='left').merge(top_okrug, on='street', how='left')"
   ]
  },
  {
   "cell_type": "code",
   "execution_count": 35,
   "metadata": {},
   "outputs": [
    {
     "data": {
      "image/png": "[encoded data removed]",
      "text/plain": [
       "<Figure size 576x288 with 1 Axes>"
      ]
     },
     "metadata": {
      "image/png": {
       "height": 266,
       "width": 582
      }
     },
     "output_type": "display_data"
    }
   ],
   "source": [
    "plt.figure(figsize=(8,4))\n",
    "plt.title('Топ-10 улиц по количеству заведений', fontsize=20, fontweight='bold', color='teal')\n",
    "sns.barplot(\n",
    "    x='count',\n",
    "    y='street',\n",
    "    data=top10_streets,\n",
    "    palette='crest',\n",
    "    orient='h'\n",
    ")\n",
    "plt.xlabel(None)\n",
    "plt.ylabel(None);"
   ]
  },
  {
   "cell_type": "markdown",
   "metadata": {},
   "source": [
    "Большинство из улиц на графике — огромные проспекты и шоссе, проходящие через половину города, настоящие городские артерии. Неудивительно, что именно на них расположено больше всего заведений. Посмотрим, в каких районах и округах Москвы находятся эти улицы."
   ]
  },
  {
   "cell_type": "code",
   "execution_count": 36,
   "metadata": {
    "scrolled": true
   },
   "outputs": [
    {
     "data": {
      "text/html": [
       "<div>\n",
       "<style scoped>\n",
       "    .dataframe tbody tr th:only-of-type {\n",
       "        vertical-align: middle;\n",
       "    }\n",
       "\n",
       "    .dataframe tbody tr th {\n",
       "        vertical-align: top;\n",
       "    }\n",
       "\n",
       "    .dataframe thead th {\n",
       "        text-align: right;\n",
       "    }\n",
       "</style>\n",
       "<table border=\"1\" class=\"dataframe\">\n",
       "  <thead>\n",
       "    <tr style=\"text-align: right;\">\n",
       "      <th></th>\n",
       "      <th>street</th>\n",
       "      <th>count</th>\n",
       "      <th>area</th>\n",
       "      <th>okrug</th>\n",
       "    </tr>\n",
       "  </thead>\n",
       "  <tbody>\n",
       "    <tr>\n",
       "      <td>0</td>\n",
       "      <td>проспект мира</td>\n",
       "      <td>204</td>\n",
       "      <td>[Район Свиблово, Ярославский Район, Алексеевск...</td>\n",
       "      <td>[СВАО, ЦАО]</td>\n",
       "    </tr>\n",
       "    <tr>\n",
       "      <td>1</td>\n",
       "      <td>профсоюзная улица</td>\n",
       "      <td>182</td>\n",
       "      <td>[Район Теплый Стан, Район Ясенево, Академическ...</td>\n",
       "      <td>[ЮЗАО]</td>\n",
       "    </tr>\n",
       "    <tr>\n",
       "      <td>2</td>\n",
       "      <td>ленинградский проспект</td>\n",
       "      <td>171</td>\n",
       "      <td>[Район Сокол, Хорошевский район, Район Беговой...</td>\n",
       "      <td>[САО]</td>\n",
       "    </tr>\n",
       "    <tr>\n",
       "      <td>3</td>\n",
       "      <td>пресненская набережная</td>\n",
       "      <td>167</td>\n",
       "      <td>[Пресненский район]</td>\n",
       "      <td>[ЦАО]</td>\n",
       "    </tr>\n",
       "    <tr>\n",
       "      <td>4</td>\n",
       "      <td>варшавское шоссе</td>\n",
       "      <td>164</td>\n",
       "      <td>[Район Южное Бутово, Район Северное Бутово, Ра...</td>\n",
       "      <td>[ЮЗАО, ЮАО]</td>\n",
       "    </tr>\n",
       "    <tr>\n",
       "      <td>5</td>\n",
       "      <td>ленинский проспект</td>\n",
       "      <td>147</td>\n",
       "      <td>[Ломоносовский район, Обручевский район, Район...</td>\n",
       "      <td>[ЮЗАО, ЗАО, ЦАО, ЮАО]</td>\n",
       "    </tr>\n",
       "    <tr>\n",
       "      <td>6</td>\n",
       "      <td>проспект вернадского</td>\n",
       "      <td>132</td>\n",
       "      <td>[Район Тропарево-Никулино, Район Раменки, Райо...</td>\n",
       "      <td>[ЗАО, ЮЗАО]</td>\n",
       "    </tr>\n",
       "    <tr>\n",
       "      <td>7</td>\n",
       "      <td>кутузовский проспект</td>\n",
       "      <td>114</td>\n",
       "      <td>[Район Фили-Давыдково, Район Дорогомилово]</td>\n",
       "      <td>[ЗАО]</td>\n",
       "    </tr>\n",
       "    <tr>\n",
       "      <td>8</td>\n",
       "      <td>каширское шоссе</td>\n",
       "      <td>112</td>\n",
       "      <td>[Район Орехово-Борисово Северное, Район Орехов...</td>\n",
       "      <td>[ЮАО]</td>\n",
       "    </tr>\n",
       "    <tr>\n",
       "      <td>9</td>\n",
       "      <td>кировоградская улица</td>\n",
       "      <td>110</td>\n",
       "      <td>[Район Чертаново Центральное, Район Чертаново ...</td>\n",
       "      <td>[ЮАО]</td>\n",
       "    </tr>\n",
       "  </tbody>\n",
       "</table>\n",
       "</div>"
      ],
      "text/plain": [
       "                   street  count  \\\n",
       "0           проспект мира    204   \n",
       "1       профсоюзная улица    182   \n",
       "2  ленинградский проспект    171   \n",
       "3  пресненская набережная    167   \n",
       "4        варшавское шоссе    164   \n",
       "5      ленинский проспект    147   \n",
       "6    проспект вернадского    132   \n",
       "7    кутузовский проспект    114   \n",
       "8         каширское шоссе    112   \n",
       "9    кировоградская улица    110   \n",
       "\n",
       "                                                area                  okrug  \n",
       "0  [Район Свиблово, Ярославский Район, Алексеевск...            [СВАО, ЦАО]  \n",
       "1  [Район Теплый Стан, Район Ясенево, Академическ...                 [ЮЗАО]  \n",
       "2  [Район Сокол, Хорошевский район, Район Беговой...                  [САО]  \n",
       "3                                [Пресненский район]                  [ЦАО]  \n",
       "4  [Район Южное Бутово, Район Северное Бутово, Ра...            [ЮЗАО, ЮАО]  \n",
       "5  [Ломоносовский район, Обручевский район, Район...  [ЮЗАО, ЗАО, ЦАО, ЮАО]  \n",
       "6  [Район Тропарево-Никулино, Район Раменки, Райо...            [ЗАО, ЮЗАО]  \n",
       "7         [Район Фили-Давыдково, Район Дорогомилово]                  [ЗАО]  \n",
       "8  [Район Орехово-Борисово Северное, Район Орехов...                  [ЮАО]  \n",
       "9  [Район Чертаново Центральное, Район Чертаново ...                  [ЮАО]  "
      ]
     },
     "execution_count": 36,
     "metadata": {},
     "output_type": "execute_result"
    }
   ],
   "source": [
    "top10_streets"
   ]
  },
  {
   "cell_type": "markdown",
   "metadata": {},
   "source": [
    "Все улицы расположены в разных районах и округах. Количество заведений связано с тем, что эти улицы очень длинные.  \n",
    "  \n",
    "Исключение — Пресненская набережная, расположенная в центре Москвы. На ней расположен комплекс Москва-сити, внутри которого много заведений для работников комплекса."
   ]
  },
  {
   "cell_type": "markdown",
   "metadata": {},
   "source": [
    "Посмотрим на улицы с всего одним заведением. Найдём, в каких районах они находятся."
   ]
  },
  {
   "cell_type": "code",
   "execution_count": 37,
   "metadata": {},
   "outputs": [],
   "source": [
    "bottom_streets = areas_count.drop_duplicates(subset='street', keep=False)"
   ]
  },
  {
   "cell_type": "code",
   "execution_count": 38,
   "metadata": {},
   "outputs": [
    {
     "data": {
      "image/png": "[encoded data removed]",
      "text/plain": [
       "<Figure size 576x288 with 1 Axes>"
      ]
     },
     "metadata": {
      "image/png": {
       "height": 266,
       "width": 568
      }
     },
     "output_type": "display_data"
    }
   ],
   "source": [
    "plt.figure(figsize=(8,4))\n",
    "plt.title('В каких районах много улиц с 1 заведением?', fontsize=20, fontweight='bold', color='teal')\n",
    "sns.barplot(\n",
    "    x='area',\n",
    "    y='index',\n",
    "    data=bottom_streets['area'].value_counts().reset_index().head(10),\n",
    "    palette='crest',\n",
    "    orient='h'\n",
    ")\n",
    "plt.xlabel(None)\n",
    "plt.ylabel(None);"
   ]
  },
  {
   "cell_type": "markdown",
   "metadata": {},
   "source": [
    "Большинство улиц с одним заведением находятся в центральных и самых престижных районах Москвы. Скорее всего это связано с тем, что в центре много очень маленьких улиц и переулков, поэтому даже если заведений там много, формально находятся они на разных улицах."
   ]
  },
  {
   "cell_type": "markdown",
   "metadata": {},
   "source": [
    "Посмотрим, сколько посадочных мест на улицах с самым большим числом заведений."
   ]
  },
  {
   "cell_type": "code",
   "execution_count": 39,
   "metadata": {
    "scrolled": false
   },
   "outputs": [
    {
     "data": {
      "image/png": "[encoded data removed]",
      "text/plain": [
       "<Figure size 720x432 with 1 Axes>"
      ]
     },
     "metadata": {
      "image/png": {
       "height": 418,
       "width": 702
      }
     },
     "output_type": "display_data"
    }
   ],
   "source": [
    "top10_streets_list = top10_streets['street']\n",
    "plt.figure(figsize=(10,6))\n",
    "plt.title(\n",
    "    'Количество посадочных мест\\nв заведениях на самых\\nпопулярных улицах',\n",
    "    fontsize=20,\n",
    "    fontweight='bold',\n",
    "    color='teal')\n",
    "sns.boxplot(\n",
    "    x='number',\n",
    "    y='street',\n",
    "    data=df.query('street in @top10_streets_list'),\n",
    "    orient='h',\n",
    "    palette='crest')\n",
    "plt.xlim(-5,250)\n",
    "plt.axvline(\n",
    "    df.query('street in @top10_streets_list')['number'].median(),\n",
    "    color='mediumaquamarine',\n",
    "    linestyle='--')\n",
    "plt.xlabel(None)\n",
    "plt.ylabel(None);"
   ]
  },
  {
   "cell_type": "markdown",
   "metadata": {},
   "source": [
    "Медианное количество мест на всех улицах находится в районе 30-50, при этом подавляющее число заведений имеют меньше 100 посадочных мест (3-й квартиль у всех ниже 100)."
   ]
  },
  {
   "cell_type": "markdown",
   "metadata": {},
   "source": [
    "## Вывод"
   ]
  },
  {
   "cell_type": "markdown",
   "metadata": {},
   "source": [
    "Учитывая, что закупка роботов обойдётся дорого, лучше открыть заведение с большим количеством мест, чтобы быстрее окупить затраты. К тому же, так мы сократим и затраты на одного клиента. Также нет смысла открывать фаст-фуд, столовую или другое заведение с самообслуживанием. Лучше всего подойдут **ресторан** или **большое кафе, например, детское.**  \n",
    "  \n",
    "Оптимальное количество мест — **100.** Это среднее количество мест для ресторана.  \n",
    "  \n",
    "Лучше расположить заведение **в центре города.** Это не будет заведение формата «поесть недалеко от дома», люди будут съезжаться со всех уголков Москвы, и лучше, чтобы всем было удобно.\n",
    "\n",
    "Основная идея заведения в официантах-роботах, для 2021 года это необычный формат, и лучше, чтобы оно оставалось уникальным. Если создать сеть, может пропасть ощущение диковинки, и люди вовсе перестанут в него ходить. К тому же, большинство кафе и ресторанов как раз несетевые."
   ]
  },
  {
   "cell_type": "markdown",
   "metadata": {},
   "source": [
    "<a href='https://drive.google.com/file/d/1KEp_pamhsyBizHoExfXT6y1_J9DwXLUo/view?usp=sharing'>Cсылка на презентацию</a> <a id='presentation'></a>"
   ]
  }
 ],
 "metadata": {
  "ExecuteTimeLog": [
   {
    "duration": 7100,
    "start_time": "2021-10-27T13:33:36.898Z"
   },
   {
    "duration": 1301,
    "start_time": "2021-10-27T13:33:44.000Z"
   },
   {
    "duration": 1929,
    "start_time": "2021-10-27T13:33:45.303Z"
   },
   {
    "duration": 32,
    "start_time": "2021-10-27T13:33:47.204Z"
   },
   {
    "duration": 30,
    "start_time": "2021-10-27T13:33:47.208Z"
   },
   {
    "duration": 27,
    "start_time": "2021-10-27T13:33:47.212Z"
   },
   {
    "duration": 25,
    "start_time": "2021-10-27T13:33:47.216Z"
   },
   {
    "duration": 22,
    "start_time": "2021-10-27T13:33:47.220Z"
   },
   {
    "duration": 21,
    "start_time": "2021-10-27T13:33:47.223Z"
   },
   {
    "duration": 13,
    "start_time": "2021-10-27T13:33:47.232Z"
   },
   {
    "duration": 12,
    "start_time": "2021-10-27T13:33:47.235Z"
   },
   {
    "duration": 11,
    "start_time": "2021-10-27T13:33:47.237Z"
   },
   {
    "duration": 10,
    "start_time": "2021-10-27T13:33:47.240Z"
   },
   {
    "duration": 9,
    "start_time": "2021-10-27T13:33:47.242Z"
   },
   {
    "duration": 8,
    "start_time": "2021-10-27T13:33:47.245Z"
   },
   {
    "duration": 5,
    "start_time": "2021-10-27T13:33:47.249Z"
   },
   {
    "duration": 4,
    "start_time": "2021-10-27T13:33:47.252Z"
   },
   {
    "duration": 4,
    "start_time": "2021-10-27T13:33:47.254Z"
   },
   {
    "duration": 3,
    "start_time": "2021-10-27T13:33:47.256Z"
   },
   {
    "duration": 2,
    "start_time": "2021-10-27T13:33:47.259Z"
   },
   {
    "duration": 1,
    "start_time": "2021-10-27T13:33:47.261Z"
   },
   {
    "duration": -5,
    "start_time": "2021-10-27T13:33:47.269Z"
   },
   {
    "duration": -7,
    "start_time": "2021-10-27T13:33:47.271Z"
   },
   {
    "duration": -9,
    "start_time": "2021-10-27T13:33:47.274Z"
   },
   {
    "duration": -10,
    "start_time": "2021-10-27T13:33:47.276Z"
   },
   {
    "duration": -11,
    "start_time": "2021-10-27T13:33:47.278Z"
   },
   {
    "duration": -14,
    "start_time": "2021-10-27T13:33:47.282Z"
   },
   {
    "duration": -14,
    "start_time": "2021-10-27T13:33:47.284Z"
   },
   {
    "duration": -16,
    "start_time": "2021-10-27T13:33:47.287Z"
   },
   {
    "duration": -17,
    "start_time": "2021-10-27T13:33:47.289Z"
   },
   {
    "duration": -19,
    "start_time": "2021-10-27T13:33:47.292Z"
   },
   {
    "duration": -20,
    "start_time": "2021-10-27T13:33:47.294Z"
   },
   {
    "duration": -21,
    "start_time": "2021-10-27T13:33:47.296Z"
   },
   {
    "duration": -27,
    "start_time": "2021-10-27T13:33:47.303Z"
   },
   {
    "duration": -29,
    "start_time": "2021-10-27T13:33:47.305Z"
   },
   {
    "duration": -30,
    "start_time": "2021-10-27T13:33:47.307Z"
   },
   {
    "duration": 45,
    "start_time": "2021-10-27T13:34:10.550Z"
   },
   {
    "duration": 4223,
    "start_time": "2021-10-27T13:34:17.406Z"
   },
   {
    "duration": 1063,
    "start_time": "2021-10-27T13:34:21.632Z"
   },
   {
    "duration": 47,
    "start_time": "2021-10-27T13:34:22.698Z"
   },
   {
    "duration": 10,
    "start_time": "2021-10-27T13:34:22.747Z"
   },
   {
    "duration": 34,
    "start_time": "2021-10-27T13:34:22.759Z"
   },
   {
    "duration": 11,
    "start_time": "2021-10-27T13:34:22.794Z"
   },
   {
    "duration": 5,
    "start_time": "2021-10-27T13:34:22.807Z"
   },
   {
    "duration": 6,
    "start_time": "2021-10-27T13:34:22.815Z"
   },
   {
    "duration": 11,
    "start_time": "2021-10-27T13:34:22.823Z"
   },
   {
    "duration": 9,
    "start_time": "2021-10-27T13:34:22.836Z"
   },
   {
    "duration": 526,
    "start_time": "2021-10-27T13:34:22.847Z"
   },
   {
    "duration": 22,
    "start_time": "2021-10-27T13:34:23.375Z"
   },
   {
    "duration": 344,
    "start_time": "2021-10-27T13:34:23.399Z"
   },
   {
    "duration": 430,
    "start_time": "2021-10-27T13:34:23.745Z"
   },
   {
    "duration": 19,
    "start_time": "2021-10-27T13:34:24.177Z"
   },
   {
    "duration": 55,
    "start_time": "2021-10-27T13:34:24.198Z"
   },
   {
    "duration": 9,
    "start_time": "2021-10-27T13:34:24.255Z"
   },
   {
    "duration": 25,
    "start_time": "2021-10-27T13:34:24.266Z"
   },
   {
    "duration": 467,
    "start_time": "2021-10-27T13:34:24.293Z"
   },
   {
    "duration": 9,
    "start_time": "2021-10-27T13:34:24.761Z"
   },
   {
    "duration": 413,
    "start_time": "2021-10-27T13:34:24.771Z"
   },
   {
    "duration": 13,
    "start_time": "2021-10-27T13:34:25.191Z"
   },
   {
    "duration": 234,
    "start_time": "2021-10-27T13:34:25.207Z"
   },
   {
    "duration": 10,
    "start_time": "2021-10-27T13:34:25.443Z"
   },
   {
    "duration": 1274,
    "start_time": "2021-10-27T13:34:25.455Z"
   },
   {
    "duration": 6,
    "start_time": "2021-10-27T13:34:26.730Z"
   },
   {
    "duration": 8,
    "start_time": "2021-10-27T13:34:26.737Z"
   },
   {
    "duration": 15,
    "start_time": "2021-10-27T13:34:26.747Z"
   },
   {
    "duration": 11,
    "start_time": "2021-10-27T13:34:26.764Z"
   },
   {
    "duration": 10,
    "start_time": "2021-10-27T13:34:26.776Z"
   },
   {
    "duration": 490,
    "start_time": "2021-10-27T13:34:26.788Z"
   },
   {
    "duration": 15,
    "start_time": "2021-10-27T13:34:27.279Z"
   },
   {
    "duration": 11,
    "start_time": "2021-10-27T13:34:27.295Z"
   },
   {
    "duration": 17,
    "start_time": "2021-10-27T13:34:27.308Z"
   },
   {
    "duration": 445,
    "start_time": "2021-10-27T13:34:27.327Z"
   },
   {
    "duration": 792,
    "start_time": "2021-10-27T13:34:27.774Z"
   },
   {
    "duration": 756,
    "start_time": "2021-10-27T13:35:03.298Z"
   },
   {
    "duration": 10769,
    "start_time": "2021-10-27T13:36:45.991Z"
   },
   {
    "duration": 1163,
    "start_time": "2021-10-27T13:36:56.762Z"
   },
   {
    "duration": 52,
    "start_time": "2021-10-27T13:36:57.927Z"
   },
   {
    "duration": 12,
    "start_time": "2021-10-27T13:36:57.981Z"
   },
   {
    "duration": 19,
    "start_time": "2021-10-27T13:36:57.994Z"
   },
   {
    "duration": 8,
    "start_time": "2021-10-27T13:36:58.014Z"
   },
   {
    "duration": 4,
    "start_time": "2021-10-27T13:36:58.024Z"
   },
   {
    "duration": 6,
    "start_time": "2021-10-27T13:36:58.029Z"
   },
   {
    "duration": 8,
    "start_time": "2021-10-27T13:36:58.037Z"
   },
   {
    "duration": 7,
    "start_time": "2021-10-27T13:36:58.046Z"
   },
   {
    "duration": 518,
    "start_time": "2021-10-27T13:36:58.055Z"
   },
   {
    "duration": 19,
    "start_time": "2021-10-27T13:36:58.575Z"
   },
   {
    "duration": 330,
    "start_time": "2021-10-27T13:36:58.596Z"
   },
   {
    "duration": 445,
    "start_time": "2021-10-27T13:36:58.927Z"
   },
   {
    "duration": 18,
    "start_time": "2021-10-27T13:36:59.374Z"
   },
   {
    "duration": 50,
    "start_time": "2021-10-27T13:36:59.394Z"
   },
   {
    "duration": 6,
    "start_time": "2021-10-27T13:36:59.446Z"
   },
   {
    "duration": 7,
    "start_time": "2021-10-27T13:36:59.454Z"
   },
   {
    "duration": 433,
    "start_time": "2021-10-27T13:36:59.462Z"
   },
   {
    "duration": 8,
    "start_time": "2021-10-27T13:36:59.897Z"
   },
   {
    "duration": 485,
    "start_time": "2021-10-27T13:36:59.906Z"
   },
   {
    "duration": 11,
    "start_time": "2021-10-27T13:37:00.393Z"
   },
   {
    "duration": 171,
    "start_time": "2021-10-27T13:37:00.406Z"
   },
   {
    "duration": 19,
    "start_time": "2021-10-27T13:37:00.579Z"
   },
   {
    "duration": 1072,
    "start_time": "2021-10-27T13:37:00.600Z"
   },
   {
    "duration": 5,
    "start_time": "2021-10-27T13:37:01.674Z"
   },
   {
    "duration": 14,
    "start_time": "2021-10-27T13:37:01.682Z"
   },
   {
    "duration": 18,
    "start_time": "2021-10-27T13:37:01.698Z"
   },
   {
    "duration": 10,
    "start_time": "2021-10-27T13:37:01.718Z"
   },
   {
    "duration": 13,
    "start_time": "2021-10-27T13:37:01.730Z"
   },
   {
    "duration": 455,
    "start_time": "2021-10-27T13:37:01.744Z"
   },
   {
    "duration": 6,
    "start_time": "2021-10-27T13:37:02.201Z"
   },
   {
    "duration": 19,
    "start_time": "2021-10-27T13:37:02.209Z"
   },
   {
    "duration": 20,
    "start_time": "2021-10-27T13:37:02.229Z"
   },
   {
    "duration": 430,
    "start_time": "2021-10-27T13:37:02.250Z"
   },
   {
    "duration": 966,
    "start_time": "2021-10-27T13:37:02.682Z"
   },
   {
    "duration": 352,
    "start_time": "2021-10-27T13:37:37.180Z"
   },
   {
    "duration": 7,
    "start_time": "2021-10-27T13:37:58.902Z"
   },
   {
    "duration": 5,
    "start_time": "2021-10-27T13:38:07.540Z"
   },
   {
    "duration": 3,
    "start_time": "2021-10-27T13:38:19.123Z"
   },
   {
    "duration": 567,
    "start_time": "2021-10-27T13:39:40.669Z"
   },
   {
    "duration": 6434,
    "start_time": "2021-10-27T13:40:22.302Z"
   },
   {
    "duration": 1088,
    "start_time": "2021-10-27T13:40:28.738Z"
   },
   {
    "duration": 52,
    "start_time": "2021-10-27T13:40:29.828Z"
   },
   {
    "duration": 12,
    "start_time": "2021-10-27T13:40:29.881Z"
   },
   {
    "duration": 16,
    "start_time": "2021-10-27T13:40:29.895Z"
   },
   {
    "duration": 9,
    "start_time": "2021-10-27T13:40:29.913Z"
   },
   {
    "duration": 4,
    "start_time": "2021-10-27T13:40:29.924Z"
   },
   {
    "duration": 4,
    "start_time": "2021-10-27T13:40:29.932Z"
   },
   {
    "duration": 9,
    "start_time": "2021-10-27T13:40:29.938Z"
   },
   {
    "duration": 43,
    "start_time": "2021-10-27T13:40:29.949Z"
   },
   {
    "duration": 454,
    "start_time": "2021-10-27T13:40:29.994Z"
   },
   {
    "duration": 14,
    "start_time": "2021-10-27T13:40:30.450Z"
   },
   {
    "duration": 363,
    "start_time": "2021-10-27T13:40:30.465Z"
   },
   {
    "duration": 423,
    "start_time": "2021-10-27T13:40:30.830Z"
   },
   {
    "duration": 7,
    "start_time": "2021-10-27T13:40:31.255Z"
   },
   {
    "duration": 66,
    "start_time": "2021-10-27T13:40:31.264Z"
   },
   {
    "duration": 7,
    "start_time": "2021-10-27T13:40:31.332Z"
   },
   {
    "duration": 14,
    "start_time": "2021-10-27T13:40:31.340Z"
   },
   {
    "duration": 428,
    "start_time": "2021-10-27T13:40:31.355Z"
   },
   {
    "duration": 12,
    "start_time": "2021-10-27T13:40:31.784Z"
   },
   {
    "duration": 472,
    "start_time": "2021-10-27T13:40:31.798Z"
   },
   {
    "duration": 21,
    "start_time": "2021-10-27T13:40:32.272Z"
   },
   {
    "duration": 6696,
    "start_time": "2021-10-27T13:40:36.493Z"
   },
   {
    "duration": 1144,
    "start_time": "2021-10-27T13:40:43.192Z"
   },
   {
    "duration": 56,
    "start_time": "2021-10-27T13:40:44.338Z"
   },
   {
    "duration": 13,
    "start_time": "2021-10-27T13:40:44.396Z"
   },
   {
    "duration": 26,
    "start_time": "2021-10-27T13:40:44.410Z"
   },
   {
    "duration": 10,
    "start_time": "2021-10-27T13:40:44.437Z"
   },
   {
    "duration": 11,
    "start_time": "2021-10-27T13:40:44.448Z"
   },
   {
    "duration": 12,
    "start_time": "2021-10-27T13:40:44.460Z"
   },
   {
    "duration": 21,
    "start_time": "2021-10-27T13:40:44.474Z"
   },
   {
    "duration": 8,
    "start_time": "2021-10-27T13:40:44.496Z"
   },
   {
    "duration": 464,
    "start_time": "2021-10-27T13:40:44.505Z"
   },
   {
    "duration": 22,
    "start_time": "2021-10-27T13:40:44.970Z"
   },
   {
    "duration": 457,
    "start_time": "2021-10-27T13:40:44.994Z"
   },
   {
    "duration": 519,
    "start_time": "2021-10-27T13:40:45.452Z"
   },
   {
    "duration": 8,
    "start_time": "2021-10-27T13:40:45.973Z"
   },
   {
    "duration": 63,
    "start_time": "2021-10-27T13:40:45.991Z"
   },
   {
    "duration": 9,
    "start_time": "2021-10-27T13:40:46.055Z"
   },
   {
    "duration": 34,
    "start_time": "2021-10-27T13:40:46.066Z"
   },
   {
    "duration": 514,
    "start_time": "2021-10-27T13:40:46.102Z"
   },
   {
    "duration": 11,
    "start_time": "2021-10-27T13:40:46.619Z"
   },
   {
    "duration": 547,
    "start_time": "2021-10-27T13:40:46.633Z"
   },
   {
    "duration": 26,
    "start_time": "2021-10-27T13:40:47.182Z"
   },
   {
    "duration": 205,
    "start_time": "2021-10-27T13:40:47.210Z"
   },
   {
    "duration": 13,
    "start_time": "2021-10-27T13:40:47.417Z"
   },
   {
    "duration": 1056,
    "start_time": "2021-10-27T13:40:47.432Z"
   },
   {
    "duration": 9,
    "start_time": "2021-10-27T13:40:48.490Z"
   },
   {
    "duration": 10,
    "start_time": "2021-10-27T13:40:48.503Z"
   },
   {
    "duration": 23,
    "start_time": "2021-10-27T13:40:48.515Z"
   },
   {
    "duration": 10,
    "start_time": "2021-10-27T13:40:48.539Z"
   },
   {
    "duration": 15,
    "start_time": "2021-10-27T13:40:48.550Z"
   },
   {
    "duration": 512,
    "start_time": "2021-10-27T13:40:48.566Z"
   },
   {
    "duration": 14,
    "start_time": "2021-10-27T13:40:49.081Z"
   },
   {
    "duration": 41,
    "start_time": "2021-10-27T13:40:49.096Z"
   },
   {
    "duration": 31,
    "start_time": "2021-10-27T13:40:49.138Z"
   },
   {
    "duration": 513,
    "start_time": "2021-10-27T13:40:49.171Z"
   },
   {
    "duration": 667,
    "start_time": "2021-10-27T13:40:49.691Z"
   },
   {
    "duration": 6430,
    "start_time": "2021-10-27T13:41:37.090Z"
   },
   {
    "duration": 6456,
    "start_time": "2021-10-27T13:41:47.629Z"
   },
   {
    "duration": 2195,
    "start_time": "2021-10-27T13:42:21.339Z"
   },
   {
    "duration": 1110,
    "start_time": "2021-10-27T13:42:23.536Z"
   },
   {
    "duration": 54,
    "start_time": "2021-10-27T13:42:24.648Z"
   },
   {
    "duration": 12,
    "start_time": "2021-10-27T13:42:24.704Z"
   },
   {
    "duration": 20,
    "start_time": "2021-10-27T13:42:24.717Z"
   },
   {
    "duration": 10,
    "start_time": "2021-10-27T13:42:24.738Z"
   },
   {
    "duration": 4,
    "start_time": "2021-10-27T13:42:24.750Z"
   },
   {
    "duration": 5,
    "start_time": "2021-10-27T13:42:24.756Z"
   },
   {
    "duration": 34,
    "start_time": "2021-10-27T13:42:24.763Z"
   },
   {
    "duration": 5,
    "start_time": "2021-10-27T13:42:24.799Z"
   },
   {
    "duration": 457,
    "start_time": "2021-10-27T13:42:24.805Z"
   },
   {
    "duration": 13,
    "start_time": "2021-10-27T13:42:25.263Z"
   },
   {
    "duration": 354,
    "start_time": "2021-10-27T13:42:25.277Z"
   },
   {
    "duration": 434,
    "start_time": "2021-10-27T13:42:25.633Z"
   },
   {
    "duration": 7,
    "start_time": "2021-10-27T13:42:26.069Z"
   },
   {
    "duration": 52,
    "start_time": "2021-10-27T13:42:26.092Z"
   },
   {
    "duration": 7,
    "start_time": "2021-10-27T13:42:26.146Z"
   },
   {
    "duration": 7,
    "start_time": "2021-10-27T13:42:26.154Z"
   },
   {
    "duration": 498,
    "start_time": "2021-10-27T13:42:26.163Z"
   },
   {
    "duration": 9,
    "start_time": "2021-10-27T13:42:26.662Z"
   },
   {
    "duration": 504,
    "start_time": "2021-10-27T13:42:26.672Z"
   },
   {
    "duration": 16,
    "start_time": "2021-10-27T13:42:27.178Z"
   },
   {
    "duration": 183,
    "start_time": "2021-10-27T13:42:27.197Z"
   },
   {
    "duration": 16,
    "start_time": "2021-10-27T13:42:27.382Z"
   },
   {
    "duration": 1211,
    "start_time": "2021-10-27T13:42:27.399Z"
   },
   {
    "duration": 5,
    "start_time": "2021-10-27T13:42:28.612Z"
   },
   {
    "duration": 9,
    "start_time": "2021-10-27T13:42:28.618Z"
   },
   {
    "duration": 15,
    "start_time": "2021-10-27T13:42:28.628Z"
   },
   {
    "duration": 10,
    "start_time": "2021-10-27T13:42:28.645Z"
   },
   {
    "duration": 10,
    "start_time": "2021-10-27T13:42:28.656Z"
   },
   {
    "duration": 503,
    "start_time": "2021-10-27T13:42:28.667Z"
   },
   {
    "duration": 7,
    "start_time": "2021-10-27T13:42:29.171Z"
   },
   {
    "duration": 17,
    "start_time": "2021-10-27T13:42:29.180Z"
   },
   {
    "duration": 14,
    "start_time": "2021-10-27T13:42:29.199Z"
   },
   {
    "duration": 448,
    "start_time": "2021-10-27T13:42:29.215Z"
   },
   {
    "duration": 592,
    "start_time": "2021-10-27T13:42:29.664Z"
   },
   {
    "duration": 19423,
    "start_time": "2021-10-27T15:19:39.254Z"
   },
   {
    "duration": 3216,
    "start_time": "2021-10-27T15:19:58.680Z"
   },
   {
    "duration": 161,
    "start_time": "2021-10-27T15:20:01.900Z"
   },
   {
    "duration": 12,
    "start_time": "2021-10-27T15:20:02.063Z"
   },
   {
    "duration": 86,
    "start_time": "2021-10-27T15:20:02.077Z"
   },
   {
    "duration": 14,
    "start_time": "2021-10-27T15:20:02.165Z"
   },
   {
    "duration": 11,
    "start_time": "2021-10-27T15:20:02.181Z"
   },
   {
    "duration": 68,
    "start_time": "2021-10-27T15:20:02.196Z"
   },
   {
    "duration": 39,
    "start_time": "2021-10-27T15:20:02.266Z"
   },
   {
    "duration": 56,
    "start_time": "2021-10-27T15:20:02.307Z"
   },
   {
    "duration": 1024,
    "start_time": "2021-10-27T15:20:02.366Z"
   },
   {
    "duration": 77,
    "start_time": "2021-10-27T15:20:03.393Z"
   },
   {
    "duration": 704,
    "start_time": "2021-10-27T15:20:03.473Z"
   },
   {
    "duration": 1020,
    "start_time": "2021-10-27T15:20:04.179Z"
   },
   {
    "duration": 66,
    "start_time": "2021-10-27T15:20:05.201Z"
   },
   {
    "duration": 189,
    "start_time": "2021-10-27T15:20:05.269Z"
   },
   {
    "duration": 12,
    "start_time": "2021-10-27T15:20:05.460Z"
   },
   {
    "duration": 82,
    "start_time": "2021-10-27T15:20:05.474Z"
   },
   {
    "duration": 1117,
    "start_time": "2021-10-27T15:20:05.559Z"
   },
   {
    "duration": 15,
    "start_time": "2021-10-27T15:20:06.678Z"
   },
   {
    "duration": 1098,
    "start_time": "2021-10-27T15:20:06.695Z"
   },
   {
    "duration": 74,
    "start_time": "2021-10-27T15:20:07.797Z"
   },
   {
    "duration": 501,
    "start_time": "2021-10-27T15:20:07.876Z"
   },
   {
    "duration": 15,
    "start_time": "2021-10-27T15:20:08.380Z"
   },
   {
    "duration": 1511,
    "start_time": "2021-10-27T15:20:08.398Z"
   },
   {
    "duration": 9,
    "start_time": "2021-10-27T15:20:09.912Z"
   },
   {
    "duration": 8,
    "start_time": "2021-10-27T15:20:09.959Z"
   },
   {
    "duration": 27,
    "start_time": "2021-10-27T15:20:09.969Z"
   },
   {
    "duration": 18,
    "start_time": "2021-10-27T15:20:10.057Z"
   },
   {
    "duration": 12,
    "start_time": "2021-10-27T15:20:10.077Z"
   },
   {
    "duration": 1200,
    "start_time": "2021-10-27T15:20:10.092Z"
   },
   {
    "duration": 65,
    "start_time": "2021-10-27T15:20:11.294Z"
   },
   {
    "duration": 12,
    "start_time": "2021-10-27T15:20:11.361Z"
   },
   {
    "duration": 84,
    "start_time": "2021-10-27T15:20:11.376Z"
   },
   {
    "duration": 1209,
    "start_time": "2021-10-27T15:20:11.462Z"
   },
   {
    "duration": 1525,
    "start_time": "2021-10-27T15:20:12.674Z"
   },
   {
    "duration": 10348,
    "start_time": "2021-10-27T20:29:16.142Z"
   },
   {
    "duration": 1219,
    "start_time": "2021-10-27T20:29:26.492Z"
   },
   {
    "duration": 45,
    "start_time": "2021-10-27T20:29:27.713Z"
   },
   {
    "duration": 8,
    "start_time": "2021-10-27T20:29:27.760Z"
   },
   {
    "duration": 25,
    "start_time": "2021-10-27T20:29:27.770Z"
   },
   {
    "duration": 10,
    "start_time": "2021-10-27T20:29:27.796Z"
   },
   {
    "duration": 5,
    "start_time": "2021-10-27T20:29:27.808Z"
   },
   {
    "duration": 5,
    "start_time": "2021-10-27T20:29:27.815Z"
   },
   {
    "duration": 10,
    "start_time": "2021-10-27T20:29:27.822Z"
   },
   {
    "duration": 8,
    "start_time": "2021-10-27T20:29:27.833Z"
   },
   {
    "duration": 523,
    "start_time": "2021-10-27T20:29:27.843Z"
   },
   {
    "duration": 12,
    "start_time": "2021-10-27T20:29:28.367Z"
   },
   {
    "duration": 340,
    "start_time": "2021-10-27T20:29:28.391Z"
   },
   {
    "duration": 433,
    "start_time": "2021-10-27T20:29:28.732Z"
   },
   {
    "duration": 9,
    "start_time": "2021-10-27T20:29:29.167Z"
   },
   {
    "duration": 49,
    "start_time": "2021-10-27T20:29:29.191Z"
   },
   {
    "duration": 8,
    "start_time": "2021-10-27T20:29:29.241Z"
   },
   {
    "duration": 8,
    "start_time": "2021-10-27T20:29:29.250Z"
   },
   {
    "duration": 500,
    "start_time": "2021-10-27T20:29:29.260Z"
   },
   {
    "duration": 9,
    "start_time": "2021-10-27T20:29:29.762Z"
   },
   {
    "duration": 507,
    "start_time": "2021-10-27T20:29:29.773Z"
   },
   {
    "duration": 19,
    "start_time": "2021-10-27T20:29:30.282Z"
   },
   {
    "duration": 175,
    "start_time": "2021-10-27T20:29:30.304Z"
   },
   {
    "duration": 16,
    "start_time": "2021-10-27T20:29:30.481Z"
   },
   {
    "duration": 1366,
    "start_time": "2021-10-27T20:29:30.498Z"
   },
   {
    "duration": 6,
    "start_time": "2021-10-27T20:29:31.865Z"
   },
   {
    "duration": 9,
    "start_time": "2021-10-27T20:29:31.873Z"
   },
   {
    "duration": 16,
    "start_time": "2021-10-27T20:29:31.883Z"
   },
   {
    "duration": 10,
    "start_time": "2021-10-27T20:29:31.901Z"
   },
   {
    "duration": 11,
    "start_time": "2021-10-27T20:29:31.913Z"
   },
   {
    "duration": 470,
    "start_time": "2021-10-27T20:29:31.925Z"
   },
   {
    "duration": 7,
    "start_time": "2021-10-27T20:29:32.396Z"
   },
   {
    "duration": 9,
    "start_time": "2021-10-27T20:29:32.405Z"
   },
   {
    "duration": 17,
    "start_time": "2021-10-27T20:29:32.415Z"
   },
   {
    "duration": 440,
    "start_time": "2021-10-27T20:29:32.434Z"
   },
   {
    "duration": 569,
    "start_time": "2021-10-27T20:29:32.875Z"
   },
   {
    "duration": 325,
    "start_time": "2021-10-28T05:30:13.870Z"
   },
   {
    "duration": 11480,
    "start_time": "2021-10-28T05:30:27.210Z"
   },
   {
    "duration": 1774,
    "start_time": "2021-10-28T05:30:38.693Z"
   },
   {
    "duration": 56,
    "start_time": "2021-10-28T05:30:40.470Z"
   },
   {
    "duration": 13,
    "start_time": "2021-10-28T05:30:40.528Z"
   },
   {
    "duration": 40,
    "start_time": "2021-10-28T05:30:40.543Z"
   },
   {
    "duration": 15,
    "start_time": "2021-10-28T05:30:40.585Z"
   },
   {
    "duration": 7,
    "start_time": "2021-10-28T05:30:40.603Z"
   },
   {
    "duration": 7,
    "start_time": "2021-10-28T05:30:40.612Z"
   },
   {
    "duration": 54,
    "start_time": "2021-10-28T05:30:40.623Z"
   },
   {
    "duration": 8,
    "start_time": "2021-10-28T05:30:40.680Z"
   },
   {
    "duration": 677,
    "start_time": "2021-10-28T05:30:40.690Z"
   },
   {
    "duration": 23,
    "start_time": "2021-10-28T05:30:41.369Z"
   },
   {
    "duration": 593,
    "start_time": "2021-10-28T05:30:41.395Z"
   },
   {
    "duration": 15,
    "start_time": "2021-10-28T05:30:48.733Z"
   },
   {
    "duration": 12,
    "start_time": "2021-10-28T05:30:55.767Z"
   },
   {
    "duration": 870,
    "start_time": "2021-10-28T05:31:58.725Z"
   },
   {
    "duration": 747,
    "start_time": "2021-10-28T05:32:20.087Z"
   },
   {
    "duration": 854,
    "start_time": "2021-10-28T05:32:56.572Z"
   },
   {
    "duration": 769,
    "start_time": "2021-10-28T05:33:03.279Z"
   },
   {
    "duration": 13,
    "start_time": "2021-10-28T05:35:05.604Z"
   },
   {
    "duration": 751,
    "start_time": "2021-10-28T05:35:05.999Z"
   },
   {
    "duration": 12,
    "start_time": "2021-10-28T05:35:26.266Z"
   },
   {
    "duration": 754,
    "start_time": "2021-10-28T05:35:26.921Z"
   },
   {
    "duration": 12,
    "start_time": "2021-10-28T05:36:12.008Z"
   },
   {
    "duration": 804,
    "start_time": "2021-10-28T05:36:12.649Z"
   },
   {
    "duration": 800,
    "start_time": "2021-10-28T05:36:51.271Z"
   },
   {
    "duration": 823,
    "start_time": "2021-10-28T05:36:59.951Z"
   },
   {
    "duration": 280,
    "start_time": "2021-10-28T05:39:28.628Z"
   },
   {
    "duration": 14,
    "start_time": "2021-10-28T05:39:43.342Z"
   },
   {
    "duration": 869,
    "start_time": "2021-10-28T05:39:46.326Z"
   },
   {
    "duration": 957,
    "start_time": "2021-10-28T05:49:52.003Z"
   },
   {
    "duration": 13,
    "start_time": "2021-10-28T05:50:06.252Z"
   },
   {
    "duration": 87,
    "start_time": "2021-10-28T05:50:10.001Z"
   },
   {
    "duration": 12,
    "start_time": "2021-10-28T05:50:10.904Z"
   },
   {
    "duration": 13,
    "start_time": "2021-10-28T05:50:14.077Z"
   },
   {
    "duration": 824,
    "start_time": "2021-10-28T05:50:16.230Z"
   },
   {
    "duration": 11,
    "start_time": "2021-10-28T05:50:47.842Z"
   },
   {
    "duration": 606,
    "start_time": "2021-10-28T05:50:48.856Z"
   },
   {
    "duration": 21,
    "start_time": "2021-10-28T05:50:52.823Z"
   },
   {
    "duration": 25,
    "start_time": "2021-10-28T05:51:28.478Z"
   },
   {
    "duration": 38,
    "start_time": "2021-10-28T05:51:50.231Z"
   },
   {
    "duration": 31,
    "start_time": "2021-10-28T05:53:49.625Z"
   },
   {
    "duration": 35,
    "start_time": "2021-10-28T05:54:11.414Z"
   },
   {
    "duration": 25,
    "start_time": "2021-10-28T05:54:38.291Z"
   },
   {
    "duration": 22,
    "start_time": "2021-10-28T05:54:44.811Z"
   },
   {
    "duration": 254,
    "start_time": "2021-10-28T05:59:07.949Z"
   },
   {
    "duration": 17,
    "start_time": "2021-10-28T05:59:10.619Z"
   },
   {
    "duration": 1409,
    "start_time": "2021-10-28T05:59:13.824Z"
   },
   {
    "duration": 8,
    "start_time": "2021-10-28T05:59:17.197Z"
   },
   {
    "duration": 28,
    "start_time": "2021-10-28T06:01:51.435Z"
   },
   {
    "duration": 17,
    "start_time": "2021-10-28T06:01:56.720Z"
   },
   {
    "duration": 364,
    "start_time": "2021-10-28T06:04:07.382Z"
   },
   {
    "duration": 37,
    "start_time": "2021-10-28T06:04:25.156Z"
   },
   {
    "duration": 37,
    "start_time": "2021-10-28T06:05:00.236Z"
   },
   {
    "duration": 28,
    "start_time": "2021-10-28T06:05:21.607Z"
   },
   {
    "duration": 41,
    "start_time": "2021-10-28T06:05:27.600Z"
   },
   {
    "duration": 36,
    "start_time": "2021-10-28T06:06:02.420Z"
   },
   {
    "duration": 36,
    "start_time": "2021-10-28T06:09:04.987Z"
   },
   {
    "duration": 307,
    "start_time": "2021-10-28T06:09:14.609Z"
   },
   {
    "duration": 282,
    "start_time": "2021-10-28T06:10:00.854Z"
   },
   {
    "duration": 37,
    "start_time": "2021-10-28T06:10:30.726Z"
   },
   {
    "duration": 320,
    "start_time": "2021-10-28T06:10:39.732Z"
   },
   {
    "duration": 315,
    "start_time": "2021-10-28T06:11:17.295Z"
   },
   {
    "duration": 36,
    "start_time": "2021-10-28T06:11:43.215Z"
   },
   {
    "duration": 36,
    "start_time": "2021-10-28T06:16:56.423Z"
   },
   {
    "duration": 37,
    "start_time": "2021-10-28T06:17:20.399Z"
   },
   {
    "duration": 39,
    "start_time": "2021-10-28T06:17:36.491Z"
   },
   {
    "duration": 30,
    "start_time": "2021-10-28T06:18:04.943Z"
   },
   {
    "duration": 294,
    "start_time": "2021-10-28T06:18:30.980Z"
   },
   {
    "duration": 36,
    "start_time": "2021-10-28T06:18:34.487Z"
   },
   {
    "duration": 27,
    "start_time": "2021-10-28T06:18:58.990Z"
   },
   {
    "duration": 9,
    "start_time": "2021-10-28T06:19:27.703Z"
   },
   {
    "duration": 13,
    "start_time": "2021-10-28T06:19:32.721Z"
   },
   {
    "duration": 10,
    "start_time": "2021-10-28T06:20:34.293Z"
   },
   {
    "duration": 12,
    "start_time": "2021-10-28T06:20:34.306Z"
   },
   {
    "duration": 25,
    "start_time": "2021-10-28T06:20:37.031Z"
   },
   {
    "duration": 8,
    "start_time": "2021-10-28T06:20:37.638Z"
   },
   {
    "duration": 11,
    "start_time": "2021-10-28T06:20:38.202Z"
   },
   {
    "duration": 320,
    "start_time": "2021-10-28T06:21:04.417Z"
   },
   {
    "duration": 20,
    "start_time": "2021-10-28T06:21:12.735Z"
   },
   {
    "duration": 6603,
    "start_time": "2021-10-28T06:21:15.093Z"
   },
   {
    "duration": 21,
    "start_time": "2021-10-28T06:21:30.579Z"
   },
   {
    "duration": 310,
    "start_time": "2021-10-28T06:21:59.777Z"
   },
   {
    "duration": 25,
    "start_time": "2021-10-28T06:22:35.412Z"
   },
   {
    "duration": 14,
    "start_time": "2021-10-28T06:22:39.403Z"
   },
   {
    "duration": 42,
    "start_time": "2021-10-28T06:23:14.129Z"
   },
   {
    "duration": 10,
    "start_time": "2021-10-28T06:23:16.042Z"
   },
   {
    "duration": 290,
    "start_time": "2021-10-28T06:23:30.156Z"
   },
   {
    "duration": 28,
    "start_time": "2021-10-28T06:23:37.987Z"
   },
   {
    "duration": 257,
    "start_time": "2021-10-28T06:23:38.810Z"
   },
   {
    "duration": 10,
    "start_time": "2021-10-28T06:23:40.643Z"
   },
   {
    "duration": 300,
    "start_time": "2021-10-28T06:24:00.670Z"
   },
   {
    "duration": 25,
    "start_time": "2021-10-28T06:24:03.065Z"
   },
   {
    "duration": 251,
    "start_time": "2021-10-28T06:24:03.587Z"
   },
   {
    "duration": 16,
    "start_time": "2021-10-28T06:24:04.638Z"
   },
   {
    "duration": 25,
    "start_time": "2021-10-28T06:24:35.265Z"
   },
   {
    "duration": 43,
    "start_time": "2021-10-28T06:24:36.048Z"
   },
   {
    "duration": 17,
    "start_time": "2021-10-28T06:24:37.306Z"
   },
   {
    "duration": 26,
    "start_time": "2021-10-28T06:24:49.083Z"
   },
   {
    "duration": 49,
    "start_time": "2021-10-28T06:24:49.812Z"
   },
   {
    "duration": 17,
    "start_time": "2021-10-28T06:24:50.592Z"
   },
   {
    "duration": 409,
    "start_time": "2021-10-28T06:25:09.697Z"
   },
   {
    "duration": 26,
    "start_time": "2021-10-28T06:25:12.297Z"
   },
   {
    "duration": 259,
    "start_time": "2021-10-28T06:25:12.904Z"
   },
   {
    "duration": 17,
    "start_time": "2021-10-28T06:25:20.323Z"
   },
   {
    "duration": 259,
    "start_time": "2021-10-28T06:25:47.153Z"
   },
   {
    "duration": 17,
    "start_time": "2021-10-28T06:25:47.981Z"
   },
   {
    "duration": 26,
    "start_time": "2021-10-28T06:25:53.872Z"
   },
   {
    "duration": 248,
    "start_time": "2021-10-28T06:25:54.519Z"
   },
   {
    "duration": 14,
    "start_time": "2021-10-28T06:25:55.266Z"
   },
   {
    "duration": 24,
    "start_time": "2021-10-28T06:26:14.916Z"
   },
   {
    "duration": 248,
    "start_time": "2021-10-28T06:26:15.610Z"
   },
   {
    "duration": 13,
    "start_time": "2021-10-28T06:26:16.235Z"
   },
   {
    "duration": 23,
    "start_time": "2021-10-28T06:26:18.736Z"
   },
   {
    "duration": 17,
    "start_time": "2021-10-28T06:26:25.827Z"
   },
   {
    "duration": 20,
    "start_time": "2021-10-28T06:27:52.402Z"
   },
   {
    "duration": 20,
    "start_time": "2021-10-28T06:27:52.966Z"
   },
   {
    "duration": 410,
    "start_time": "2021-10-28T06:28:24.018Z"
   },
   {
    "duration": 448,
    "start_time": "2021-10-28T06:28:40.841Z"
   },
   {
    "duration": 21,
    "start_time": "2021-10-28T06:29:16.474Z"
   },
   {
    "duration": 127,
    "start_time": "2021-10-28T06:29:32.193Z"
   },
   {
    "duration": 410,
    "start_time": "2021-10-28T06:29:35.198Z"
   },
   {
    "duration": 21,
    "start_time": "2021-10-28T06:29:45.582Z"
   },
   {
    "duration": 27,
    "start_time": "2021-10-28T06:32:06.470Z"
   },
   {
    "duration": 254,
    "start_time": "2021-10-28T06:32:11.964Z"
   },
   {
    "duration": 14,
    "start_time": "2021-10-28T06:32:12.992Z"
   },
   {
    "duration": 496,
    "start_time": "2021-10-28T06:33:32.502Z"
   },
   {
    "duration": 17,
    "start_time": "2021-10-28T06:33:35.597Z"
   },
   {
    "duration": 17,
    "start_time": "2021-10-28T06:33:46.376Z"
   },
   {
    "duration": 25,
    "start_time": "2021-10-28T06:34:37.814Z"
   },
   {
    "duration": 18,
    "start_time": "2021-10-28T06:34:44.490Z"
   },
   {
    "duration": 17,
    "start_time": "2021-10-28T06:34:57.741Z"
   },
   {
    "duration": 10,
    "start_time": "2021-10-28T06:38:41.252Z"
   },
   {
    "duration": 16,
    "start_time": "2021-10-28T06:38:49.411Z"
   },
   {
    "duration": 1178,
    "start_time": "2021-10-28T06:39:08.481Z"
   },
   {
    "duration": 26,
    "start_time": "2021-10-28T06:39:24.149Z"
   },
   {
    "duration": 17,
    "start_time": "2021-10-28T06:39:44.767Z"
   },
   {
    "duration": 252,
    "start_time": "2021-10-28T06:40:55.087Z"
   },
   {
    "duration": 257,
    "start_time": "2021-10-28T06:41:06.040Z"
   },
   {
    "duration": 258,
    "start_time": "2021-10-28T06:41:20.836Z"
   },
   {
    "duration": 255,
    "start_time": "2021-10-28T06:42:50.437Z"
   },
   {
    "duration": 259,
    "start_time": "2021-10-28T06:43:37.635Z"
   },
   {
    "duration": 6102,
    "start_time": "2021-10-28T06:45:22.355Z"
   },
   {
    "duration": 6478,
    "start_time": "2021-10-28T06:46:13.742Z"
   },
   {
    "duration": 261,
    "start_time": "2021-10-28T06:46:42.939Z"
   },
   {
    "duration": 18,
    "start_time": "2021-10-28T06:46:51.978Z"
   },
   {
    "duration": 273,
    "start_time": "2021-10-28T06:47:17.836Z"
   },
   {
    "duration": 255,
    "start_time": "2021-10-28T06:47:31.989Z"
   },
   {
    "duration": 283,
    "start_time": "2021-10-28T06:51:16.392Z"
   },
   {
    "duration": 23,
    "start_time": "2021-10-28T06:51:22.561Z"
   },
   {
    "duration": 245,
    "start_time": "2021-10-28T06:51:23.356Z"
   },
   {
    "duration": 245,
    "start_time": "2021-10-28T06:51:48.824Z"
   },
   {
    "duration": 259,
    "start_time": "2021-10-28T06:52:23.737Z"
   },
   {
    "duration": 13,
    "start_time": "2021-10-28T06:52:46.604Z"
   },
   {
    "duration": 10,
    "start_time": "2021-10-28T06:52:54.010Z"
   },
   {
    "duration": 296,
    "start_time": "2021-10-28T06:53:38.032Z"
   },
   {
    "duration": 13,
    "start_time": "2021-10-28T06:54:05.148Z"
   },
   {
    "duration": 17,
    "start_time": "2021-10-28T06:54:10.611Z"
   },
   {
    "duration": 13,
    "start_time": "2021-10-28T06:54:33.780Z"
   },
   {
    "duration": 12,
    "start_time": "2021-10-28T06:54:52.191Z"
   },
   {
    "duration": 9,
    "start_time": "2021-10-28T06:54:57.730Z"
   },
   {
    "duration": 7826,
    "start_time": "2021-10-28T06:56:54.864Z"
   },
   {
    "duration": 1508,
    "start_time": "2021-10-28T06:57:02.693Z"
   },
   {
    "duration": 57,
    "start_time": "2021-10-28T06:57:04.204Z"
   },
   {
    "duration": 13,
    "start_time": "2021-10-28T06:57:04.264Z"
   },
   {
    "duration": 30,
    "start_time": "2021-10-28T06:57:04.279Z"
   },
   {
    "duration": 14,
    "start_time": "2021-10-28T06:57:04.312Z"
   },
   {
    "duration": 42,
    "start_time": "2021-10-28T06:57:04.328Z"
   },
   {
    "duration": 9,
    "start_time": "2021-10-28T06:57:04.374Z"
   },
   {
    "duration": 14,
    "start_time": "2021-10-28T06:57:04.387Z"
   },
   {
    "duration": 9,
    "start_time": "2021-10-28T06:57:04.404Z"
   },
   {
    "duration": 651,
    "start_time": "2021-10-28T06:57:04.416Z"
   },
   {
    "duration": 22,
    "start_time": "2021-10-28T06:57:05.069Z"
   },
   {
    "duration": 528,
    "start_time": "2021-10-28T06:57:05.093Z"
   },
   {
    "duration": 16,
    "start_time": "2021-10-28T06:57:05.624Z"
   },
   {
    "duration": 860,
    "start_time": "2021-10-28T06:57:05.642Z"
   },
   {
    "duration": 12,
    "start_time": "2021-10-28T06:57:06.504Z"
   },
   {
    "duration": 112,
    "start_time": "2021-10-28T06:57:06.519Z"
   },
   {
    "duration": 11,
    "start_time": "2021-10-28T06:57:06.634Z"
   },
   {
    "duration": 29,
    "start_time": "2021-10-28T06:57:06.647Z"
   },
   {
    "duration": 752,
    "start_time": "2021-10-28T06:57:06.678Z"
   },
   {
    "duration": 11,
    "start_time": "2021-10-28T06:57:07.432Z"
   },
   {
    "duration": 690,
    "start_time": "2021-10-28T06:57:07.446Z"
   },
   {
    "duration": 35,
    "start_time": "2021-10-28T06:57:08.142Z"
   },
   {
    "duration": 354,
    "start_time": "2021-10-28T06:57:08.180Z"
   },
   {
    "duration": 17,
    "start_time": "2021-10-28T06:57:08.536Z"
   },
   {
    "duration": 1168,
    "start_time": "2021-10-28T06:57:08.567Z"
   },
   {
    "duration": 9,
    "start_time": "2021-10-28T06:57:09.738Z"
   },
   {
    "duration": 33,
    "start_time": "2021-10-28T06:57:09.751Z"
   },
   {
    "duration": 11,
    "start_time": "2021-10-28T06:57:09.786Z"
   },
   {
    "duration": 23,
    "start_time": "2021-10-28T06:57:09.800Z"
   },
   {
    "duration": 43,
    "start_time": "2021-10-28T06:57:09.826Z"
   },
   {
    "duration": 33,
    "start_time": "2021-10-28T06:57:09.873Z"
   },
   {
    "duration": 284,
    "start_time": "2021-10-28T06:57:09.909Z"
   },
   {
    "duration": 274,
    "start_time": "2021-10-28T06:57:10.196Z"
   },
   {
    "duration": 441,
    "start_time": "2021-10-28T06:57:10.472Z"
   },
   {
    "duration": 13,
    "start_time": "2021-10-28T06:57:20.070Z"
   },
   {
    "duration": 11,
    "start_time": "2021-10-28T06:57:23.478Z"
   },
   {
    "duration": 12,
    "start_time": "2021-10-28T06:57:26.992Z"
   },
   {
    "duration": 19,
    "start_time": "2021-10-28T06:57:27.992Z"
   },
   {
    "duration": 8187,
    "start_time": "2021-10-28T06:59:58.664Z"
   },
   {
    "duration": 1613,
    "start_time": "2021-10-28T07:00:06.854Z"
   },
   {
    "duration": 56,
    "start_time": "2021-10-28T07:00:08.470Z"
   },
   {
    "duration": 12,
    "start_time": "2021-10-28T07:00:08.528Z"
   },
   {
    "duration": 43,
    "start_time": "2021-10-28T07:00:08.543Z"
   },
   {
    "duration": 14,
    "start_time": "2021-10-28T07:00:08.589Z"
   },
   {
    "duration": 9,
    "start_time": "2021-10-28T07:00:08.606Z"
   },
   {
    "duration": 6,
    "start_time": "2021-10-28T07:00:08.619Z"
   },
   {
    "duration": 49,
    "start_time": "2021-10-28T07:00:08.628Z"
   },
   {
    "duration": 6,
    "start_time": "2021-10-28T07:00:08.680Z"
   },
   {
    "duration": 678,
    "start_time": "2021-10-28T07:00:08.689Z"
   },
   {
    "duration": 23,
    "start_time": "2021-10-28T07:00:09.369Z"
   },
   {
    "duration": 594,
    "start_time": "2021-10-28T07:00:09.395Z"
   },
   {
    "duration": 16,
    "start_time": "2021-10-28T07:00:09.991Z"
   },
   {
    "duration": 880,
    "start_time": "2021-10-28T07:00:10.009Z"
   },
   {
    "duration": 11,
    "start_time": "2021-10-28T07:00:10.891Z"
   },
   {
    "duration": 104,
    "start_time": "2021-10-28T07:00:10.905Z"
   },
   {
    "duration": 12,
    "start_time": "2021-10-28T07:00:11.011Z"
   },
   {
    "duration": 16,
    "start_time": "2021-10-28T07:00:11.026Z"
   },
   {
    "duration": 688,
    "start_time": "2021-10-28T07:00:11.045Z"
   },
   {
    "duration": 10,
    "start_time": "2021-10-28T07:00:11.735Z"
   },
   {
    "duration": 598,
    "start_time": "2021-10-28T07:00:11.748Z"
   },
   {
    "duration": 25,
    "start_time": "2021-10-28T07:00:12.351Z"
   },
   {
    "duration": 341,
    "start_time": "2021-10-28T07:00:12.379Z"
   },
   {
    "duration": 16,
    "start_time": "2021-10-28T07:00:12.723Z"
   },
   {
    "duration": 765,
    "start_time": "2021-10-28T07:00:12.742Z"
   },
   {
    "duration": 8,
    "start_time": "2021-10-28T07:00:13.509Z"
   },
   {
    "duration": 36,
    "start_time": "2021-10-28T07:00:13.519Z"
   },
   {
    "duration": 8,
    "start_time": "2021-10-28T07:00:13.557Z"
   },
   {
    "duration": 25,
    "start_time": "2021-10-28T07:00:13.567Z"
   },
   {
    "duration": 18,
    "start_time": "2021-10-28T07:00:13.594Z"
   },
   {
    "duration": 561,
    "start_time": "2021-10-28T07:00:13.614Z"
   },
   {
    "duration": 12,
    "start_time": "2021-10-28T07:00:14.177Z"
   },
   {
    "duration": 23,
    "start_time": "2021-10-28T07:00:14.191Z"
   },
   {
    "duration": 646,
    "start_time": "2021-10-28T07:00:14.216Z"
   },
   {
    "duration": 19,
    "start_time": "2021-10-28T07:00:14.864Z"
   },
   {
    "duration": 17,
    "start_time": "2021-10-28T07:00:14.885Z"
   },
   {
    "duration": 625,
    "start_time": "2021-10-28T07:00:14.905Z"
   },
   {
    "duration": 914,
    "start_time": "2021-10-28T07:00:15.532Z"
   },
   {
    "duration": 36,
    "start_time": "2021-10-28T07:07:14.810Z"
   },
   {
    "duration": 44,
    "start_time": "2021-10-28T07:07:58.908Z"
   },
   {
    "duration": 13,
    "start_time": "2021-10-28T07:14:20.907Z"
   },
   {
    "duration": 637,
    "start_time": "2021-10-28T07:14:21.791Z"
   },
   {
    "duration": 11,
    "start_time": "2021-10-28T07:14:39.883Z"
   },
   {
    "duration": 604,
    "start_time": "2021-10-28T07:14:40.552Z"
   },
   {
    "duration": 12,
    "start_time": "2021-10-28T07:14:54.423Z"
   },
   {
    "duration": 832,
    "start_time": "2021-10-28T07:14:55.601Z"
   },
   {
    "duration": 7362,
    "start_time": "2021-10-28T07:18:03.272Z"
   },
   {
    "duration": 1517,
    "start_time": "2021-10-28T07:18:10.637Z"
   },
   {
    "duration": 57,
    "start_time": "2021-10-28T07:18:12.157Z"
   },
   {
    "duration": 15,
    "start_time": "2021-10-28T07:18:12.217Z"
   },
   {
    "duration": 56,
    "start_time": "2021-10-28T07:18:12.235Z"
   },
   {
    "duration": 17,
    "start_time": "2021-10-28T07:18:12.295Z"
   },
   {
    "duration": 8,
    "start_time": "2021-10-28T07:18:12.315Z"
   },
   {
    "duration": 44,
    "start_time": "2021-10-28T07:18:12.326Z"
   },
   {
    "duration": 13,
    "start_time": "2021-10-28T07:18:12.376Z"
   },
   {
    "duration": 10,
    "start_time": "2021-10-28T07:18:12.394Z"
   },
   {
    "duration": 626,
    "start_time": "2021-10-28T07:18:12.407Z"
   },
   {
    "duration": 34,
    "start_time": "2021-10-28T07:18:13.035Z"
   },
   {
    "duration": 496,
    "start_time": "2021-10-28T07:18:13.072Z"
   },
   {
    "duration": 16,
    "start_time": "2021-10-28T07:18:13.571Z"
   },
   {
    "duration": 803,
    "start_time": "2021-10-28T07:18:13.589Z"
   },
   {
    "duration": 13,
    "start_time": "2021-10-28T07:18:14.395Z"
   },
   {
    "duration": 106,
    "start_time": "2021-10-28T07:18:14.410Z"
   },
   {
    "duration": 13,
    "start_time": "2021-10-28T07:18:14.518Z"
   },
   {
    "duration": 34,
    "start_time": "2021-10-28T07:18:14.533Z"
   },
   {
    "duration": 669,
    "start_time": "2021-10-28T07:18:14.570Z"
   },
   {
    "duration": 11,
    "start_time": "2021-10-28T07:18:15.241Z"
   },
   {
    "duration": 662,
    "start_time": "2021-10-28T07:18:15.266Z"
   },
   {
    "duration": 36,
    "start_time": "2021-10-28T07:18:15.931Z"
   },
   {
    "duration": 376,
    "start_time": "2021-10-28T07:18:15.969Z"
   },
   {
    "duration": 19,
    "start_time": "2021-10-28T07:18:16.348Z"
   },
   {
    "duration": 1216,
    "start_time": "2021-10-28T07:18:16.370Z"
   },
   {
    "duration": 10,
    "start_time": "2021-10-28T07:18:17.594Z"
   },
   {
    "duration": 30,
    "start_time": "2021-10-28T07:18:17.608Z"
   },
   {
    "duration": 28,
    "start_time": "2021-10-28T07:18:17.640Z"
   },
   {
    "duration": 20,
    "start_time": "2021-10-28T07:18:17.671Z"
   },
   {
    "duration": 20,
    "start_time": "2021-10-28T07:18:17.693Z"
   },
   {
    "duration": 570,
    "start_time": "2021-10-28T07:18:17.716Z"
   },
   {
    "duration": 11,
    "start_time": "2021-10-28T07:18:18.289Z"
   },
   {
    "duration": 16,
    "start_time": "2021-10-28T07:18:18.303Z"
   },
   {
    "duration": 768,
    "start_time": "2021-10-28T07:18:18.322Z"
   },
   {
    "duration": 30,
    "start_time": "2021-10-28T07:18:19.093Z"
   },
   {
    "duration": 40,
    "start_time": "2021-10-28T07:18:19.127Z"
   },
   {
    "duration": 778,
    "start_time": "2021-10-28T07:18:19.170Z"
   },
   {
    "duration": 1055,
    "start_time": "2021-10-28T07:18:19.951Z"
   }
  ],
  "kernelspec": {
   "display_name": "Python 3 (ipykernel)",
   "language": "python",
   "name": "python3"
  },
  "language_info": {
   "codemirror_mode": {
    "name": "ipython",
    "version": 3
   },
   "file_extension": ".py",
   "mimetype": "text/x-python",
   "name": "python",
   "nbconvert_exporter": "python",
   "pygments_lexer": "ipython3",
   "version": "3.8.3"
  },
  "toc": {
   "base_numbering": 1,
   "nav_menu": {},
   "number_sections": true,
   "sideBar": true,
   "skip_h1_title": true,
   "title_cell": "Table of Contents",
   "title_sidebar": "Contents",
   "toc_cell": false,
   "toc_position": {},
   "toc_section_display": true,
   "toc_window_display": false
  }
 },
 "nbformat": 4,
 "nbformat_minor": 2
}
