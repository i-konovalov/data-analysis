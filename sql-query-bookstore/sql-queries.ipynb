{
 "cells": [
  {
   "cell_type": "markdown",
   "metadata": {},
   "source": [
    "# Анализ приложения для чтения книг"
   ]
  },
  {
   "cell_type": "markdown",
   "metadata": {},
   "source": [
    "**Цель исследования:** проанализировать популярность авторов и издательств и сформулировать ценностное предложение для нового продукта."
   ]
  },
  {
   "cell_type": "markdown",
   "metadata": {},
   "source": [
    "Для начала имортируем нужные библиотеки и настроим параметры доступа к базе данных."
   ]
  },
  {
   "cell_type": "code",
   "execution_count": 1,
   "metadata": {},
   "outputs": [],
   "source": [
    "# импортируем библиотеки\n",
    "import pandas as pd\n",
    "from sqlalchemy import create_engine\n",
    "\n",
    "# устанавливаем параметры\n",
    "db_config = {'user': '...', # имя пользователя\n",
    "             'pwd': '...', # пароль\n",
    "             'host': '...',\n",
    "             'port': ..., # порт подключения\n",
    "             'db': '...'} # название базы данных\n",
    "\n",
    "connection_string = 'postgresql://{}:{}@{}:{}/{}'.format(db_config['user'],\n",
    "                                                         db_config['pwd'],\n",
    "                                                         db_config['host'],\n",
    "                                                         db_config['port'],\n",
    "                                                         db_config['db'])\n",
    "\n",
    "# сохраняем коннектор\n",
    "engine = create_engine(connection_string, connect_args={'sslmode':'require'}) "
   ]
  },
  {
   "cell_type": "markdown",
   "metadata": {},
   "source": [
    "Для запросов нам понядобятся две функции. Одна будет возвращать результат запроса, а вторая 5 верхних строк таблиц из базы данных."
   ]
  },
  {
   "cell_type": "code",
   "execution_count": 2,
   "metadata": {},
   "outputs": [],
   "source": [
    "def query_result(query):\n",
    "    '''\n",
    "    Принимает запрос, а возвращает результат этого запроса\n",
    "    '''\n",
    "    return pd.io.sql.read_sql(query, con=engine)"
   ]
  },
  {
   "cell_type": "code",
   "execution_count": 3,
   "metadata": {},
   "outputs": [],
   "source": [
    "def head(tables):\n",
    "    '''\n",
    "    Принимает список таблиц, возвращает название и 5 верхних строк каждой из них\n",
    "    '''\n",
    "    for table in tables:\n",
    "        query = 'SELECT * FROM {} LIMIT 5'.format(table)\n",
    "        display(table)\n",
    "        display(query_result(query))"
   ]
  },
  {
   "cell_type": "code",
   "execution_count": 4,
   "metadata": {},
   "outputs": [],
   "source": [
    "tables = ['books', 'authors', 'publishers', 'reviews', 'ratings']"
   ]
  },
  {
   "cell_type": "code",
   "execution_count": 5,
   "metadata": {
    "scrolled": true
   },
   "outputs": [
    {
     "data": {
      "text/plain": [
       "'books'"
      ]
     },
     "metadata": {},
     "output_type": "display_data"
    },
    {
     "data": {
      "text/html": [
       "<div>\n",
       "<style scoped>\n",
       "    .dataframe tbody tr th:only-of-type {\n",
       "        vertical-align: middle;\n",
       "    }\n",
       "\n",
       "    .dataframe tbody tr th {\n",
       "        vertical-align: top;\n",
       "    }\n",
       "\n",
       "    .dataframe thead th {\n",
       "        text-align: right;\n",
       "    }\n",
       "</style>\n",
       "<table border=\"1\" class=\"dataframe\">\n",
       "  <thead>\n",
       "    <tr style=\"text-align: right;\">\n",
       "      <th></th>\n",
       "      <th>book_id</th>\n",
       "      <th>author_id</th>\n",
       "      <th>title</th>\n",
       "      <th>num_pages</th>\n",
       "      <th>publication_date</th>\n",
       "      <th>publisher_id</th>\n",
       "    </tr>\n",
       "  </thead>\n",
       "  <tbody>\n",
       "    <tr>\n",
       "      <td>0</td>\n",
       "      <td>1</td>\n",
       "      <td>546</td>\n",
       "      <td>'Salem's Lot</td>\n",
       "      <td>594</td>\n",
       "      <td>2005-11-01</td>\n",
       "      <td>93</td>\n",
       "    </tr>\n",
       "    <tr>\n",
       "      <td>1</td>\n",
       "      <td>2</td>\n",
       "      <td>465</td>\n",
       "      <td>1 000 Places to See Before You Die</td>\n",
       "      <td>992</td>\n",
       "      <td>2003-05-22</td>\n",
       "      <td>336</td>\n",
       "    </tr>\n",
       "    <tr>\n",
       "      <td>2</td>\n",
       "      <td>3</td>\n",
       "      <td>407</td>\n",
       "      <td>13 Little Blue Envelopes (Little Blue Envelope...</td>\n",
       "      <td>322</td>\n",
       "      <td>2010-12-21</td>\n",
       "      <td>135</td>\n",
       "    </tr>\n",
       "    <tr>\n",
       "      <td>3</td>\n",
       "      <td>4</td>\n",
       "      <td>82</td>\n",
       "      <td>1491: New Revelations of the Americas Before C...</td>\n",
       "      <td>541</td>\n",
       "      <td>2006-10-10</td>\n",
       "      <td>309</td>\n",
       "    </tr>\n",
       "    <tr>\n",
       "      <td>4</td>\n",
       "      <td>5</td>\n",
       "      <td>125</td>\n",
       "      <td>1776</td>\n",
       "      <td>386</td>\n",
       "      <td>2006-07-04</td>\n",
       "      <td>268</td>\n",
       "    </tr>\n",
       "  </tbody>\n",
       "</table>\n",
       "</div>"
      ],
      "text/plain": [
       "   book_id  author_id                                              title  \\\n",
       "0        1        546                                       'Salem's Lot   \n",
       "1        2        465                 1 000 Places to See Before You Die   \n",
       "2        3        407  13 Little Blue Envelopes (Little Blue Envelope...   \n",
       "3        4         82  1491: New Revelations of the Americas Before C...   \n",
       "4        5        125                                               1776   \n",
       "\n",
       "   num_pages publication_date  publisher_id  \n",
       "0        594       2005-11-01            93  \n",
       "1        992       2003-05-22           336  \n",
       "2        322       2010-12-21           135  \n",
       "3        541       2006-10-10           309  \n",
       "4        386       2006-07-04           268  "
      ]
     },
     "metadata": {},
     "output_type": "display_data"
    },
    {
     "data": {
      "text/plain": [
       "'authors'"
      ]
     },
     "metadata": {},
     "output_type": "display_data"
    },
    {
     "data": {
      "text/html": [
       "<div>\n",
       "<style scoped>\n",
       "    .dataframe tbody tr th:only-of-type {\n",
       "        vertical-align: middle;\n",
       "    }\n",
       "\n",
       "    .dataframe tbody tr th {\n",
       "        vertical-align: top;\n",
       "    }\n",
       "\n",
       "    .dataframe thead th {\n",
       "        text-align: right;\n",
       "    }\n",
       "</style>\n",
       "<table border=\"1\" class=\"dataframe\">\n",
       "  <thead>\n",
       "    <tr style=\"text-align: right;\">\n",
       "      <th></th>\n",
       "      <th>author_id</th>\n",
       "      <th>author</th>\n",
       "    </tr>\n",
       "  </thead>\n",
       "  <tbody>\n",
       "    <tr>\n",
       "      <td>0</td>\n",
       "      <td>1</td>\n",
       "      <td>A.S. Byatt</td>\n",
       "    </tr>\n",
       "    <tr>\n",
       "      <td>1</td>\n",
       "      <td>2</td>\n",
       "      <td>Aesop/Laura Harris/Laura Gibbs</td>\n",
       "    </tr>\n",
       "    <tr>\n",
       "      <td>2</td>\n",
       "      <td>3</td>\n",
       "      <td>Agatha Christie</td>\n",
       "    </tr>\n",
       "    <tr>\n",
       "      <td>3</td>\n",
       "      <td>4</td>\n",
       "      <td>Alan Brennert</td>\n",
       "    </tr>\n",
       "    <tr>\n",
       "      <td>4</td>\n",
       "      <td>5</td>\n",
       "      <td>Alan Moore/David   Lloyd</td>\n",
       "    </tr>\n",
       "  </tbody>\n",
       "</table>\n",
       "</div>"
      ],
      "text/plain": [
       "   author_id                          author\n",
       "0          1                      A.S. Byatt\n",
       "1          2  Aesop/Laura Harris/Laura Gibbs\n",
       "2          3                 Agatha Christie\n",
       "3          4                   Alan Brennert\n",
       "4          5        Alan Moore/David   Lloyd"
      ]
     },
     "metadata": {},
     "output_type": "display_data"
    },
    {
     "data": {
      "text/plain": [
       "'publishers'"
      ]
     },
     "metadata": {},
     "output_type": "display_data"
    },
    {
     "data": {
      "text/html": [
       "<div>\n",
       "<style scoped>\n",
       "    .dataframe tbody tr th:only-of-type {\n",
       "        vertical-align: middle;\n",
       "    }\n",
       "\n",
       "    .dataframe tbody tr th {\n",
       "        vertical-align: top;\n",
       "    }\n",
       "\n",
       "    .dataframe thead th {\n",
       "        text-align: right;\n",
       "    }\n",
       "</style>\n",
       "<table border=\"1\" class=\"dataframe\">\n",
       "  <thead>\n",
       "    <tr style=\"text-align: right;\">\n",
       "      <th></th>\n",
       "      <th>publisher_id</th>\n",
       "      <th>publisher</th>\n",
       "    </tr>\n",
       "  </thead>\n",
       "  <tbody>\n",
       "    <tr>\n",
       "      <td>0</td>\n",
       "      <td>1</td>\n",
       "      <td>Ace</td>\n",
       "    </tr>\n",
       "    <tr>\n",
       "      <td>1</td>\n",
       "      <td>2</td>\n",
       "      <td>Ace Book</td>\n",
       "    </tr>\n",
       "    <tr>\n",
       "      <td>2</td>\n",
       "      <td>3</td>\n",
       "      <td>Ace Books</td>\n",
       "    </tr>\n",
       "    <tr>\n",
       "      <td>3</td>\n",
       "      <td>4</td>\n",
       "      <td>Ace Hardcover</td>\n",
       "    </tr>\n",
       "    <tr>\n",
       "      <td>4</td>\n",
       "      <td>5</td>\n",
       "      <td>Addison Wesley Publishing Company</td>\n",
       "    </tr>\n",
       "  </tbody>\n",
       "</table>\n",
       "</div>"
      ],
      "text/plain": [
       "   publisher_id                          publisher\n",
       "0             1                                Ace\n",
       "1             2                           Ace Book\n",
       "2             3                          Ace Books\n",
       "3             4                      Ace Hardcover\n",
       "4             5  Addison Wesley Publishing Company"
      ]
     },
     "metadata": {},
     "output_type": "display_data"
    },
    {
     "data": {
      "text/plain": [
       "'reviews'"
      ]
     },
     "metadata": {},
     "output_type": "display_data"
    },
    {
     "data": {
      "text/html": [
       "<div>\n",
       "<style scoped>\n",
       "    .dataframe tbody tr th:only-of-type {\n",
       "        vertical-align: middle;\n",
       "    }\n",
       "\n",
       "    .dataframe tbody tr th {\n",
       "        vertical-align: top;\n",
       "    }\n",
       "\n",
       "    .dataframe thead th {\n",
       "        text-align: right;\n",
       "    }\n",
       "</style>\n",
       "<table border=\"1\" class=\"dataframe\">\n",
       "  <thead>\n",
       "    <tr style=\"text-align: right;\">\n",
       "      <th></th>\n",
       "      <th>review_id</th>\n",
       "      <th>book_id</th>\n",
       "      <th>username</th>\n",
       "      <th>text</th>\n",
       "    </tr>\n",
       "  </thead>\n",
       "  <tbody>\n",
       "    <tr>\n",
       "      <td>0</td>\n",
       "      <td>1</td>\n",
       "      <td>1</td>\n",
       "      <td>brandtandrea</td>\n",
       "      <td>Mention society tell send professor analysis. ...</td>\n",
       "    </tr>\n",
       "    <tr>\n",
       "      <td>1</td>\n",
       "      <td>2</td>\n",
       "      <td>1</td>\n",
       "      <td>ryanfranco</td>\n",
       "      <td>Foot glass pretty audience hit themselves. Amo...</td>\n",
       "    </tr>\n",
       "    <tr>\n",
       "      <td>2</td>\n",
       "      <td>3</td>\n",
       "      <td>2</td>\n",
       "      <td>lorichen</td>\n",
       "      <td>Listen treat keep worry. Miss husband tax but ...</td>\n",
       "    </tr>\n",
       "    <tr>\n",
       "      <td>3</td>\n",
       "      <td>4</td>\n",
       "      <td>3</td>\n",
       "      <td>johnsonamanda</td>\n",
       "      <td>Finally month interesting blue could nature cu...</td>\n",
       "    </tr>\n",
       "    <tr>\n",
       "      <td>4</td>\n",
       "      <td>5</td>\n",
       "      <td>3</td>\n",
       "      <td>scotttamara</td>\n",
       "      <td>Nation purpose heavy give wait song will. List...</td>\n",
       "    </tr>\n",
       "  </tbody>\n",
       "</table>\n",
       "</div>"
      ],
      "text/plain": [
       "   review_id  book_id       username  \\\n",
       "0          1        1   brandtandrea   \n",
       "1          2        1     ryanfranco   \n",
       "2          3        2       lorichen   \n",
       "3          4        3  johnsonamanda   \n",
       "4          5        3    scotttamara   \n",
       "\n",
       "                                                text  \n",
       "0  Mention society tell send professor analysis. ...  \n",
       "1  Foot glass pretty audience hit themselves. Amo...  \n",
       "2  Listen treat keep worry. Miss husband tax but ...  \n",
       "3  Finally month interesting blue could nature cu...  \n",
       "4  Nation purpose heavy give wait song will. List...  "
      ]
     },
     "metadata": {},
     "output_type": "display_data"
    },
    {
     "data": {
      "text/plain": [
       "'ratings'"
      ]
     },
     "metadata": {},
     "output_type": "display_data"
    },
    {
     "data": {
      "text/html": [
       "<div>\n",
       "<style scoped>\n",
       "    .dataframe tbody tr th:only-of-type {\n",
       "        vertical-align: middle;\n",
       "    }\n",
       "\n",
       "    .dataframe tbody tr th {\n",
       "        vertical-align: top;\n",
       "    }\n",
       "\n",
       "    .dataframe thead th {\n",
       "        text-align: right;\n",
       "    }\n",
       "</style>\n",
       "<table border=\"1\" class=\"dataframe\">\n",
       "  <thead>\n",
       "    <tr style=\"text-align: right;\">\n",
       "      <th></th>\n",
       "      <th>rating_id</th>\n",
       "      <th>book_id</th>\n",
       "      <th>username</th>\n",
       "      <th>rating</th>\n",
       "    </tr>\n",
       "  </thead>\n",
       "  <tbody>\n",
       "    <tr>\n",
       "      <td>0</td>\n",
       "      <td>1</td>\n",
       "      <td>1</td>\n",
       "      <td>ryanfranco</td>\n",
       "      <td>4</td>\n",
       "    </tr>\n",
       "    <tr>\n",
       "      <td>1</td>\n",
       "      <td>2</td>\n",
       "      <td>1</td>\n",
       "      <td>grantpatricia</td>\n",
       "      <td>2</td>\n",
       "    </tr>\n",
       "    <tr>\n",
       "      <td>2</td>\n",
       "      <td>3</td>\n",
       "      <td>1</td>\n",
       "      <td>brandtandrea</td>\n",
       "      <td>5</td>\n",
       "    </tr>\n",
       "    <tr>\n",
       "      <td>3</td>\n",
       "      <td>4</td>\n",
       "      <td>2</td>\n",
       "      <td>lorichen</td>\n",
       "      <td>3</td>\n",
       "    </tr>\n",
       "    <tr>\n",
       "      <td>4</td>\n",
       "      <td>5</td>\n",
       "      <td>2</td>\n",
       "      <td>mariokeller</td>\n",
       "      <td>2</td>\n",
       "    </tr>\n",
       "  </tbody>\n",
       "</table>\n",
       "</div>"
      ],
      "text/plain": [
       "   rating_id  book_id       username  rating\n",
       "0          1        1     ryanfranco       4\n",
       "1          2        1  grantpatricia       2\n",
       "2          3        1   brandtandrea       5\n",
       "3          4        2       lorichen       3\n",
       "4          5        2    mariokeller       2"
      ]
     },
     "metadata": {},
     "output_type": "display_data"
    }
   ],
   "source": [
    "head(tables)"
   ]
  },
  {
   "cell_type": "markdown",
   "metadata": {},
   "source": [
    "Теперь выполним необходимые по ТЗ запросы."
   ]
  },
  {
   "cell_type": "markdown",
   "metadata": {},
   "source": [
    "#### Запрос 1. Посчитайте, сколько книг вышло после 1 января 2000 года."
   ]
  },
  {
   "cell_type": "code",
   "execution_count": 6,
   "metadata": {},
   "outputs": [],
   "source": [
    "query_1 = '''\n",
    "            SELECT COUNT(DISTINCT(book_id))\n",
    "              FROM books\n",
    "             WHERE publication_date >= '2000-01-01';\n",
    "        '''"
   ]
  },
  {
   "cell_type": "code",
   "execution_count": 7,
   "metadata": {},
   "outputs": [],
   "source": [
    "result_1 = query_result(query_1)"
   ]
  },
  {
   "cell_type": "code",
   "execution_count": 8,
   "metadata": {
    "scrolled": true
   },
   "outputs": [
    {
     "name": "stdout",
     "output_type": "stream",
     "text": [
      "В нашем приложении доступна 821 книга, вышедшая после 1 января 2000 года.\n"
     ]
    }
   ],
   "source": [
    "print('В нашем приложении доступна {} книга, вышедшая после 1 января 2000 года.'.format(result_1.iloc[0,0]))"
   ]
  },
  {
   "cell_type": "markdown",
   "metadata": {},
   "source": [
    "В приложении неплохой выбор книг."
   ]
  },
  {
   "cell_type": "markdown",
   "metadata": {},
   "source": [
    "#### Запрос 2. Для каждой книги посчитайте количество обзоров и среднюю оценку."
   ]
  },
  {
   "cell_type": "code",
   "execution_count": 9,
   "metadata": {},
   "outputs": [],
   "source": [
    "query_2 = '''\n",
    "          SELECT books.title AS title,\n",
    "                 count(distinct(review_id)) AS cnt_reviews,\n",
    "                 avg(rating) AS avg_rating\n",
    "            FROM books\n",
    "                 LEFT JOIN reviews\n",
    "                 ON books.book_id = reviews.book_id\n",
    "                 LEFT JOIN ratings\n",
    "                 ON books.book_id = ratings.book_id\n",
    "        GROUP BY books.book_id;\n",
    "        '''"
   ]
  },
  {
   "cell_type": "code",
   "execution_count": 10,
   "metadata": {},
   "outputs": [],
   "source": [
    "result_2 = query_result(query_2)"
   ]
  },
  {
   "cell_type": "markdown",
   "metadata": {},
   "source": [
    "Результат запроса — таблица с названием книги, количеством обзоров и средней оценкой. Выведем её первые 5 строк."
   ]
  },
  {
   "cell_type": "code",
   "execution_count": 11,
   "metadata": {},
   "outputs": [
    {
     "data": {
      "text/html": [
       "<div>\n",
       "<style scoped>\n",
       "    .dataframe tbody tr th:only-of-type {\n",
       "        vertical-align: middle;\n",
       "    }\n",
       "\n",
       "    .dataframe tbody tr th {\n",
       "        vertical-align: top;\n",
       "    }\n",
       "\n",
       "    .dataframe thead th {\n",
       "        text-align: right;\n",
       "    }\n",
       "</style>\n",
       "<table border=\"1\" class=\"dataframe\">\n",
       "  <thead>\n",
       "    <tr style=\"text-align: right;\">\n",
       "      <th></th>\n",
       "      <th>title</th>\n",
       "      <th>cnt_reviews</th>\n",
       "      <th>avg_rating</th>\n",
       "    </tr>\n",
       "  </thead>\n",
       "  <tbody>\n",
       "    <tr>\n",
       "      <td>0</td>\n",
       "      <td>'Salem's Lot</td>\n",
       "      <td>2</td>\n",
       "      <td>3.666667</td>\n",
       "    </tr>\n",
       "    <tr>\n",
       "      <td>1</td>\n",
       "      <td>1 000 Places to See Before You Die</td>\n",
       "      <td>1</td>\n",
       "      <td>2.500000</td>\n",
       "    </tr>\n",
       "    <tr>\n",
       "      <td>2</td>\n",
       "      <td>13 Little Blue Envelopes (Little Blue Envelope...</td>\n",
       "      <td>3</td>\n",
       "      <td>4.666667</td>\n",
       "    </tr>\n",
       "    <tr>\n",
       "      <td>3</td>\n",
       "      <td>1491: New Revelations of the Americas Before C...</td>\n",
       "      <td>2</td>\n",
       "      <td>4.500000</td>\n",
       "    </tr>\n",
       "    <tr>\n",
       "      <td>4</td>\n",
       "      <td>1776</td>\n",
       "      <td>4</td>\n",
       "      <td>4.000000</td>\n",
       "    </tr>\n",
       "  </tbody>\n",
       "</table>\n",
       "</div>"
      ],
      "text/plain": [
       "                                               title  cnt_reviews  avg_rating\n",
       "0                                       'Salem's Lot            2    3.666667\n",
       "1                 1 000 Places to See Before You Die            1    2.500000\n",
       "2  13 Little Blue Envelopes (Little Blue Envelope...            3    4.666667\n",
       "3  1491: New Revelations of the Americas Before C...            2    4.500000\n",
       "4                                               1776            4    4.000000"
      ]
     },
     "execution_count": 11,
     "metadata": {},
     "output_type": "execute_result"
    }
   ],
   "source": [
    "result_2.head(5)"
   ]
  },
  {
   "cell_type": "markdown",
   "metadata": {},
   "source": [
    "Эту таблицу можно проанализировать отдельно, построить графики и сделать выводы."
   ]
  },
  {
   "cell_type": "markdown",
   "metadata": {},
   "source": [
    "#### Запрос 3. Определите издательство, которое выпустило наибольшее число книг толще 50 страниц — так вы исключите из анализа брошюры."
   ]
  },
  {
   "cell_type": "code",
   "execution_count": 12,
   "metadata": {},
   "outputs": [],
   "source": [
    "query_3 = '''\n",
    "            SELECT SBQ.publisher\n",
    "              FROM (SELECT publishers.publisher AS publisher,\n",
    "                           COUNT(DISTINCT(books.book_id)) AS cnt_books\n",
    "                      FROM books\n",
    "                           LEFT JOIN publishers\n",
    "                           ON books.publisher_id = publishers.publisher_id\n",
    "                     WHERE books.num_pages > 50\n",
    "                  GROUP BY publishers.publisher\n",
    "                  ORDER BY COUNT(DISTINCT(books.book_id)) DESC\n",
    "                     LIMIT 1) AS SBQ;\n",
    "        '''"
   ]
  },
  {
   "cell_type": "code",
   "execution_count": 13,
   "metadata": {},
   "outputs": [],
   "source": [
    "result_3 = query_result(query_3).iloc[0,0]"
   ]
  },
  {
   "cell_type": "code",
   "execution_count": 14,
   "metadata": {},
   "outputs": [
    {
     "name": "stdout",
     "output_type": "stream",
     "text": [
      "Издательство Penguin Books выпустило наибольшее число книг толще 50 страниц.\n"
     ]
    }
   ],
   "source": [
    "print('Издательство {} выпустило наибольшее число книг толще 50 страниц.'.format(result_3))"
   ]
  },
  {
   "cell_type": "markdown",
   "metadata": {},
   "source": [
    "#### Запрос 4. Определите автора с самой высокой средней оценкой книг — учитывайте только книги с 50 и более оценками."
   ]
  },
  {
   "cell_type": "code",
   "execution_count": 15,
   "metadata": {},
   "outputs": [],
   "source": [
    "query_4 = '''\n",
    "            SELECT authors.author AS author\n",
    "              FROM books\n",
    "                   LEFT JOIN ratings\n",
    "                   ON books.book_id = ratings.book_id\n",
    "                   LEFT JOIN authors\n",
    "                   ON books.author_id = authors.author_id\n",
    "             WHERE books.author_id IN\n",
    "                   (SELECT books.author_id\n",
    "                      FROM books\n",
    "                           LEFT JOIN ratings\n",
    "                           ON books.book_id = ratings.book_id\n",
    "                  GROUP BY books.book_id,\n",
    "                           books.author_id\n",
    "                    HAVING count(ratings.rating_id) >= 50)\n",
    "          GROUP BY authors.author\n",
    "          ORDER BY AVG(ratings.rating) DESC\n",
    "             LIMIT 1;\n",
    "        '''"
   ]
  },
  {
   "cell_type": "code",
   "execution_count": 16,
   "metadata": {},
   "outputs": [],
   "source": [
    "result_4 = query_result(query_4).iloc[0,0]"
   ]
  },
  {
   "cell_type": "code",
   "execution_count": 17,
   "metadata": {
    "scrolled": true
   },
   "outputs": [
    {
     "name": "stdout",
     "output_type": "stream",
     "text": [
      "J.K. Rowling/Mary GrandPré имеет самую высокую среднюю оценку книг с 50 и более оценками.\n"
     ]
    }
   ],
   "source": [
    "print('{} имеет самую высокую среднюю оценку книг с 50 и более оценками.'.format(result_4))"
   ]
  },
  {
   "cell_type": "markdown",
   "metadata": {},
   "source": [
    "Книги этого автора больше всего нравятся пользователям приложения."
   ]
  },
  {
   "cell_type": "markdown",
   "metadata": {},
   "source": [
    "#### Запрос 5. Посчитайте среднее количество обзоров от пользователей, которые поставили больше 50 оценок."
   ]
  },
  {
   "cell_type": "code",
   "execution_count": 18,
   "metadata": {},
   "outputs": [],
   "source": [
    "query_5 = '''\n",
    "            SELECT AVG(SBQ.count) AS avg_count\n",
    "              FROM (SELECT username,\n",
    "                           COUNT(review_id) AS count\n",
    "                      FROM reviews\n",
    "                     WHERE username IN\n",
    "                           (SELECT username\n",
    "                              FROM ratings\n",
    "                          GROUP BY username\n",
    "                            HAVING COUNT(rating_id) > 50)\n",
    "                  GROUP BY username) as SBQ;\n",
    "        '''"
   ]
  },
  {
   "cell_type": "code",
   "execution_count": 19,
   "metadata": {},
   "outputs": [],
   "source": [
    "result_5 = round(query_result(query_5).iloc[0,0])"
   ]
  },
  {
   "cell_type": "code",
   "execution_count": 20,
   "metadata": {},
   "outputs": [
    {
     "name": "stdout",
     "output_type": "stream",
     "text": [
      "Пользователи, которые поставили больше 50 оценок, в среднем написали 24 обзора.\n"
     ]
    }
   ],
   "source": [
    "print('Пользователи, которые поставили больше 50 оценок, в среднем написали {} обзора.'.format(result_5))"
   ]
  }
 ],
 "metadata": {
  "ExecuteTimeLog": [
   {
    "duration": 832,
    "start_time": "2022-01-13T05:58:10.397Z"
   },
   {
    "duration": 4,
    "start_time": "2022-01-13T05:58:11.232Z"
   },
   {
    "duration": 7,
    "start_time": "2022-01-13T05:58:11.238Z"
   },
   {
    "duration": 3,
    "start_time": "2022-01-13T05:58:11.260Z"
   },
   {
    "duration": 119,
    "start_time": "2022-01-13T05:58:11.265Z"
   },
   {
    "duration": 3,
    "start_time": "2022-01-13T05:58:11.387Z"
   },
   {
    "duration": 14,
    "start_time": "2022-01-13T05:58:11.393Z"
   },
   {
    "duration": 5,
    "start_time": "2022-01-13T05:58:11.409Z"
   },
   {
    "duration": 6,
    "start_time": "2022-01-13T05:58:11.418Z"
   },
   {
    "duration": 58,
    "start_time": "2022-01-13T05:58:11.427Z"
   },
   {
    "duration": 10,
    "start_time": "2022-01-13T05:58:11.488Z"
   },
   {
    "duration": 4,
    "start_time": "2022-01-13T05:58:11.501Z"
   },
   {
    "duration": 13,
    "start_time": "2022-01-13T05:58:11.507Z"
   },
   {
    "duration": 4,
    "start_time": "2022-01-13T05:58:11.522Z"
   },
   {
    "duration": 6,
    "start_time": "2022-01-13T05:58:11.529Z"
   },
   {
    "duration": 34,
    "start_time": "2022-01-13T05:58:11.537Z"
   },
   {
    "duration": 4,
    "start_time": "2022-01-13T05:58:11.573Z"
   },
   {
    "duration": 9,
    "start_time": "2022-01-13T05:58:11.579Z"
   },
   {
    "duration": 38,
    "start_time": "2022-01-13T05:58:11.590Z"
   },
   {
    "duration": 4,
    "start_time": "2022-01-13T05:58:11.630Z"
   },
   {
    "duration": 671,
    "start_time": "2022-01-13T19:20:47.517Z"
   },
   {
    "duration": 3,
    "start_time": "2022-01-13T19:20:48.192Z"
   },
   {
    "duration": 22,
    "start_time": "2022-01-13T19:20:48.198Z"
   },
   {
    "duration": 17,
    "start_time": "2022-01-13T19:20:48.222Z"
   },
   {
    "duration": 614,
    "start_time": "2022-01-13T19:20:48.241Z"
   },
   {
    "duration": 3,
    "start_time": "2022-01-13T19:20:48.858Z"
   },
   {
    "duration": 72,
    "start_time": "2022-01-13T19:20:48.863Z"
   },
   {
    "duration": 4,
    "start_time": "2022-01-13T19:20:48.937Z"
   },
   {
    "duration": 10,
    "start_time": "2022-01-13T19:20:48.943Z"
   },
   {
    "duration": 129,
    "start_time": "2022-01-13T19:20:48.954Z"
   },
   {
    "duration": 7,
    "start_time": "2022-01-13T19:20:49.085Z"
   },
   {
    "duration": 5,
    "start_time": "2022-01-13T19:20:49.094Z"
   },
   {
    "duration": 89,
    "start_time": "2022-01-13T19:20:49.100Z"
   },
   {
    "duration": 3,
    "start_time": "2022-01-13T19:20:49.191Z"
   },
   {
    "duration": 4,
    "start_time": "2022-01-13T19:20:49.196Z"
   },
   {
    "duration": 96,
    "start_time": "2022-01-13T19:20:49.202Z"
   },
   {
    "duration": 3,
    "start_time": "2022-01-13T19:20:49.300Z"
   },
   {
    "duration": 16,
    "start_time": "2022-01-13T19:20:49.305Z"
   },
   {
    "duration": 113,
    "start_time": "2022-01-13T19:20:49.323Z"
   },
   {
    "duration": 3,
    "start_time": "2022-01-13T19:20:49.438Z"
   },
   {
    "duration": 10,
    "start_time": "2022-01-13T19:21:00.247Z"
   },
   {
    "duration": 646,
    "start_time": "2022-01-13T19:58:18.710Z"
   },
   {
    "duration": 3,
    "start_time": "2022-01-13T19:58:19.358Z"
   },
   {
    "duration": 5,
    "start_time": "2022-01-13T19:58:19.363Z"
   },
   {
    "duration": 4,
    "start_time": "2022-01-13T19:58:19.370Z"
   },
   {
    "duration": 116,
    "start_time": "2022-01-13T19:58:19.375Z"
   },
   {
    "duration": 2,
    "start_time": "2022-01-13T19:58:19.493Z"
   },
   {
    "duration": 14,
    "start_time": "2022-01-13T19:58:19.497Z"
   },
   {
    "duration": 4,
    "start_time": "2022-01-13T19:58:19.512Z"
   },
   {
    "duration": 2,
    "start_time": "2022-01-13T19:58:19.519Z"
   },
   {
    "duration": 61,
    "start_time": "2022-01-13T19:58:19.523Z"
   },
   {
    "duration": 8,
    "start_time": "2022-01-13T19:58:19.585Z"
   },
   {
    "duration": 5,
    "start_time": "2022-01-13T19:58:19.594Z"
   },
   {
    "duration": 32,
    "start_time": "2022-01-13T19:58:19.600Z"
   },
   {
    "duration": 3,
    "start_time": "2022-01-13T19:58:19.634Z"
   },
   {
    "duration": 4,
    "start_time": "2022-01-13T19:58:19.639Z"
   },
   {
    "duration": 35,
    "start_time": "2022-01-13T19:58:19.645Z"
   },
   {
    "duration": 3,
    "start_time": "2022-01-13T19:58:19.682Z"
   },
   {
    "duration": 7,
    "start_time": "2022-01-13T19:58:19.687Z"
   },
   {
    "duration": 40,
    "start_time": "2022-01-13T19:58:19.696Z"
   },
   {
    "duration": 3,
    "start_time": "2022-01-13T19:58:19.738Z"
   },
   {
    "duration": 2,
    "start_time": "2022-01-13T19:59:18.808Z"
   },
   {
    "duration": 40,
    "start_time": "2022-01-13T19:59:19.387Z"
   },
   {
    "duration": 7,
    "start_time": "2022-01-13T19:59:20.314Z"
   },
   {
    "duration": 4,
    "start_time": "2022-01-13T20:00:07.142Z"
   },
   {
    "duration": 11,
    "start_time": "2022-01-13T20:02:18.328Z"
   },
   {
    "duration": 4,
    "start_time": "2022-01-14T04:25:19.563Z"
   },
   {
    "duration": 828,
    "start_time": "2022-01-14T04:25:28.643Z"
   },
   {
    "duration": 3,
    "start_time": "2022-01-14T04:25:29.474Z"
   },
   {
    "duration": 5,
    "start_time": "2022-01-14T04:25:29.480Z"
   },
   {
    "duration": 6,
    "start_time": "2022-01-14T04:25:29.488Z"
   },
   {
    "duration": 508,
    "start_time": "2022-01-14T04:25:29.497Z"
   },
   {
    "duration": 3,
    "start_time": "2022-01-14T04:25:30.007Z"
   },
   {
    "duration": 77,
    "start_time": "2022-01-14T04:25:30.013Z"
   },
   {
    "duration": 5,
    "start_time": "2022-01-14T04:25:30.092Z"
   },
   {
    "duration": 10,
    "start_time": "2022-01-14T04:25:30.101Z"
   },
   {
    "duration": 83,
    "start_time": "2022-01-14T04:25:30.113Z"
   },
   {
    "duration": 11,
    "start_time": "2022-01-14T04:25:30.198Z"
   },
   {
    "duration": 5,
    "start_time": "2022-01-14T04:25:30.212Z"
   },
   {
    "duration": 63,
    "start_time": "2022-01-14T04:25:30.219Z"
   },
   {
    "duration": 5,
    "start_time": "2022-01-14T04:25:30.284Z"
   },
   {
    "duration": 12,
    "start_time": "2022-01-14T04:25:30.291Z"
   },
   {
    "duration": 82,
    "start_time": "2022-01-14T04:25:30.305Z"
   },
   {
    "duration": 4,
    "start_time": "2022-01-14T04:25:30.389Z"
   },
   {
    "duration": 7,
    "start_time": "2022-01-14T04:25:30.396Z"
   },
   {
    "duration": 100,
    "start_time": "2022-01-14T04:25:30.405Z"
   },
   {
    "duration": 4,
    "start_time": "2022-01-14T04:25:30.507Z"
   },
   {
    "duration": 87,
    "start_time": "2022-01-14T04:28:04.432Z"
   },
   {
    "duration": 837,
    "start_time": "2022-01-14T04:28:31.036Z"
   },
   {
    "duration": 85,
    "start_time": "2022-01-14T04:28:47.777Z"
   },
   {
    "duration": 69,
    "start_time": "2022-01-14T04:29:15.331Z"
   },
   {
    "duration": 642,
    "start_time": "2022-01-14T04:33:23.633Z"
   },
   {
    "duration": 77,
    "start_time": "2022-01-14T04:33:46.966Z"
   },
   {
    "duration": 716,
    "start_time": "2022-01-14T04:34:06.950Z"
   },
   {
    "duration": 669,
    "start_time": "2022-01-14T04:34:13.393Z"
   },
   {
    "duration": 71,
    "start_time": "2022-01-14T04:34:22.712Z"
   },
   {
    "duration": 621,
    "start_time": "2022-01-14T04:35:15.949Z"
   },
   {
    "duration": 73,
    "start_time": "2022-01-14T04:35:33.089Z"
   },
   {
    "duration": 68,
    "start_time": "2022-01-14T04:36:18.558Z"
   },
   {
    "duration": 66,
    "start_time": "2022-01-14T04:37:06.498Z"
   },
   {
    "duration": 77,
    "start_time": "2022-01-14T04:37:26.183Z"
   },
   {
    "duration": 60,
    "start_time": "2022-01-14T04:37:26.276Z"
   },
   {
    "duration": 656,
    "start_time": "2022-01-14T04:39:13.715Z"
   },
   {
    "duration": 71,
    "start_time": "2022-01-14T04:39:27.346Z"
   },
   {
    "duration": 72,
    "start_time": "2022-01-14T04:41:55.613Z"
   },
   {
    "duration": 62,
    "start_time": "2022-01-14T04:42:44.259Z"
   },
   {
    "duration": 66,
    "start_time": "2022-01-14T04:43:29.414Z"
   },
   {
    "duration": 629,
    "start_time": "2022-01-14T04:48:50.070Z"
   },
   {
    "duration": 65,
    "start_time": "2022-01-14T04:49:17.506Z"
   },
   {
    "duration": 66,
    "start_time": "2022-01-14T04:50:03.990Z"
   },
   {
    "duration": 78,
    "start_time": "2022-01-14T04:50:24.263Z"
   },
   {
    "duration": 64,
    "start_time": "2022-01-14T04:50:34.063Z"
   },
   {
    "duration": 3,
    "start_time": "2022-01-14T04:53:43.589Z"
   },
   {
    "duration": 73,
    "start_time": "2022-01-14T04:53:44.206Z"
   },
   {
    "duration": 5,
    "start_time": "2022-01-14T04:53:44.791Z"
   },
   {
    "duration": 4,
    "start_time": "2022-01-14T04:54:05.341Z"
   },
   {
    "duration": 140,
    "start_time": "2022-01-14T04:55:56.781Z"
   },
   {
    "duration": 58,
    "start_time": "2022-01-14T04:57:21.959Z"
   },
   {
    "duration": 60,
    "start_time": "2022-01-14T04:57:38.875Z"
   },
   {
    "duration": 60,
    "start_time": "2022-01-14T04:57:46.106Z"
   },
   {
    "duration": 61,
    "start_time": "2022-01-14T05:01:15.067Z"
   },
   {
    "duration": 680,
    "start_time": "2022-01-14T05:02:57.854Z"
   },
   {
    "duration": 90,
    "start_time": "2022-01-14T05:03:28.834Z"
   },
   {
    "duration": 3,
    "start_time": "2022-01-14T05:04:15.328Z"
   },
   {
    "duration": 64,
    "start_time": "2022-01-14T05:04:15.745Z"
   },
   {
    "duration": 4,
    "start_time": "2022-01-14T05:04:16.429Z"
   },
   {
    "duration": 4,
    "start_time": "2022-01-14T05:04:24.028Z"
   },
   {
    "duration": 872,
    "start_time": "2022-01-14T05:05:54.637Z"
   },
   {
    "duration": 3,
    "start_time": "2022-01-14T05:05:55.512Z"
   },
   {
    "duration": 10,
    "start_time": "2022-01-14T05:05:55.518Z"
   },
   {
    "duration": 6,
    "start_time": "2022-01-14T05:05:55.530Z"
   },
   {
    "duration": 540,
    "start_time": "2022-01-14T05:05:55.538Z"
   },
   {
    "duration": 3,
    "start_time": "2022-01-14T05:05:56.081Z"
   },
   {
    "duration": 67,
    "start_time": "2022-01-14T05:05:56.087Z"
   },
   {
    "duration": 4,
    "start_time": "2022-01-14T05:05:56.157Z"
   },
   {
    "duration": 5,
    "start_time": "2022-01-14T05:05:56.164Z"
   },
   {
    "duration": 96,
    "start_time": "2022-01-14T05:05:56.171Z"
   },
   {
    "duration": 12,
    "start_time": "2022-01-14T05:05:56.269Z"
   },
   {
    "duration": 4,
    "start_time": "2022-01-14T05:05:56.285Z"
   },
   {
    "duration": 64,
    "start_time": "2022-01-14T05:05:56.292Z"
   },
   {
    "duration": 5,
    "start_time": "2022-01-14T05:05:56.359Z"
   },
   {
    "duration": 5,
    "start_time": "2022-01-14T05:05:56.367Z"
   },
   {
    "duration": 74,
    "start_time": "2022-01-14T05:05:56.375Z"
   },
   {
    "duration": 5,
    "start_time": "2022-01-14T05:05:56.451Z"
   },
   {
    "duration": 10,
    "start_time": "2022-01-14T05:05:56.459Z"
   },
   {
    "duration": 79,
    "start_time": "2022-01-14T05:05:56.471Z"
   },
   {
    "duration": 5,
    "start_time": "2022-01-14T05:05:56.552Z"
   },
   {
    "duration": 850,
    "start_time": "2022-01-14T05:12:21.349Z"
   },
   {
    "duration": 4,
    "start_time": "2022-01-14T05:12:22.202Z"
   },
   {
    "duration": 62,
    "start_time": "2022-01-14T05:12:22.209Z"
   },
   {
    "duration": 29,
    "start_time": "2022-01-14T05:12:22.273Z"
   },
   {
    "duration": 527,
    "start_time": "2022-01-14T05:12:22.305Z"
   },
   {
    "duration": 3,
    "start_time": "2022-01-14T05:12:22.834Z"
   },
   {
    "duration": 68,
    "start_time": "2022-01-14T05:12:22.839Z"
   },
   {
    "duration": 5,
    "start_time": "2022-01-14T05:12:22.909Z"
   },
   {
    "duration": 5,
    "start_time": "2022-01-14T05:12:22.918Z"
   },
   {
    "duration": 91,
    "start_time": "2022-01-14T05:12:22.926Z"
   },
   {
    "duration": 10,
    "start_time": "2022-01-14T05:12:23.019Z"
   },
   {
    "duration": 18,
    "start_time": "2022-01-14T05:12:23.031Z"
   },
   {
    "duration": 68,
    "start_time": "2022-01-14T05:12:23.051Z"
   },
   {
    "duration": 4,
    "start_time": "2022-01-14T05:12:23.122Z"
   },
   {
    "duration": 8,
    "start_time": "2022-01-14T05:12:23.128Z"
   },
   {
    "duration": 78,
    "start_time": "2022-01-14T05:12:23.139Z"
   },
   {
    "duration": 5,
    "start_time": "2022-01-14T05:12:23.220Z"
   },
   {
    "duration": 7,
    "start_time": "2022-01-14T05:12:23.228Z"
   },
   {
    "duration": 65,
    "start_time": "2022-01-14T05:12:23.238Z"
   },
   {
    "duration": 4,
    "start_time": "2022-01-14T05:12:23.306Z"
   }
  ],
  "kernelspec": {
   "display_name": "Python 3 (ipykernel)",
   "language": "python",
   "name": "python3"
  },
  "language_info": {
   "codemirror_mode": {
    "name": "ipython",
    "version": 3
   },
   "file_extension": ".py",
   "mimetype": "text/x-python",
   "name": "python",
   "nbconvert_exporter": "python",
   "pygments_lexer": "ipython3",
   "version": "3.8.3"
  },
  "toc": {
   "base_numbering": 1,
   "nav_menu": {},
   "number_sections": false,
   "sideBar": true,
   "skip_h1_title": false,
   "title_cell": "Table of Contents",
   "title_sidebar": "Contents",
   "toc_cell": false,
   "toc_position": {
    "height": "calc(100% - 180px)",
    "left": "10px",
    "top": "150px",
    "width": "270.391px"
   },
   "toc_section_display": true,
   "toc_window_display": false
  }
 },
 "nbformat": 4,
 "nbformat_minor": 2
}
